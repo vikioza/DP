{
  "cells": [
    {
      "cell_type": "code",
      "execution_count": 1,
      "metadata": {},
      "outputs": [
        {
          "name": "stderr",
          "output_type": "stream",
          "text": [
            "C:\\Users\\vikio\\AppData\\Local\\Temp\\ipykernel_5360\\2836724294.py:1: DeprecationWarning: \n",
            "Pyarrow will become a required dependency of pandas in the next major release of pandas (pandas 3.0),\n",
            "(to allow more performant data types, such as the Arrow string type, and better interoperability with other libraries)\n",
            "but was not found to be installed on your system.\n",
            "If this would cause problems for you,\n",
            "please provide us feedback at https://github.com/pandas-dev/pandas/issues/54466\n",
            "        \n",
            "  import pandas as pd\n"
          ]
        }
      ],
      "source": [
        "import pandas as pd\n",
        "import numpy as np\n",
        "import matplotlib.pyplot as plt\n",
        "import cv2"
      ]
    },
    {
      "cell_type": "code",
      "execution_count": 2,
      "metadata": {},
      "outputs": [],
      "source": [
        "height = 32\n",
        "width = 64\n",
        "size = height*width\n",
        "path = \"..\\..\\datasets\\\\UNSW_NB15\"\n",
        "csv_file = path + \"\\\\unswnb15_img.csv\""
      ]
    },
    {
      "cell_type": "code",
      "execution_count": 3,
      "metadata": {},
      "outputs": [],
      "source": [
        "df = pd.read_csv(path+\"\\\\UNSW_converted_data.csv\")"
      ]
    },
    {
      "cell_type": "code",
      "execution_count": 4,
      "metadata": {},
      "outputs": [],
      "source": [
        "df = df.drop_duplicates()"
      ]
    },
    {
      "cell_type": "code",
      "execution_count": 5,
      "metadata": {},
      "outputs": [
        {
          "name": "stdout",
          "output_type": "stream",
          "text": [
            "<class 'pandas.core.frame.DataFrame'>\n",
            "Index: 59168 entries, 0 to 79879\n",
            "Columns: 1505 entries, payload_byte_1 to label\n",
            "dtypes: float64(1), int64(1502), object(2)\n",
            "memory usage: 679.8+ MB\n"
          ]
        }
      ],
      "source": [
        "df.info()"
      ]
    },
    {
      "cell_type": "code",
      "execution_count": null,
      "metadata": {},
      "outputs": [],
      "source": [
        "df.columns"
      ]
    },
    {
      "cell_type": "code",
      "execution_count": null,
      "metadata": {},
      "outputs": [],
      "source": [
        "df.protocol.unique()"
      ]
    },
    {
      "cell_type": "code",
      "execution_count": null,
      "metadata": {},
      "outputs": [],
      "source": [
        "len(df.protocol.unique())"
      ]
    },
    {
      "cell_type": "code",
      "execution_count": 10,
      "metadata": {},
      "outputs": [],
      "source": [
        "indices = list(df.protocol.unique())"
      ]
    },
    {
      "cell_type": "code",
      "execution_count": null,
      "metadata": {},
      "outputs": [],
      "source": [
        "indices.index(\"tcp\")"
      ]
    },
    {
      "cell_type": "code",
      "execution_count": null,
      "metadata": {},
      "outputs": [],
      "source": [
        "# move tcp to end of list\n",
        "indices.remove(\"tcp\")\n",
        "indices.append(\"tcp\")\n",
        "indices.index(\"tcp\")"
      ]
    },
    {
      "cell_type": "code",
      "execution_count": null,
      "metadata": {},
      "outputs": [],
      "source": [
        "indices.index(\"udp\")"
      ]
    },
    {
      "cell_type": "code",
      "execution_count": null,
      "metadata": {},
      "outputs": [],
      "source": [
        "# move udp to start of list\n",
        "indices.remove(\"udp\")\n",
        "indices = [\"udp\"] + indices\n",
        "indices.index(\"udp\")"
      ]
    },
    {
      "cell_type": "code",
      "execution_count": 15,
      "metadata": {},
      "outputs": [],
      "source": [
        "df.protocol = df.protocol.apply(lambda x: indices.index(x))"
      ]
    },
    {
      "cell_type": "code",
      "execution_count": null,
      "metadata": {},
      "outputs": [],
      "source": [
        "df.protocol.unique()"
      ]
    },
    {
      "cell_type": "code",
      "execution_count": null,
      "metadata": {},
      "outputs": [],
      "source": [
        "df.label.unique()"
      ]
    },
    {
      "cell_type": "code",
      "execution_count": null,
      "metadata": {},
      "outputs": [],
      "source": [
        "len(df.label.unique())"
      ]
    },
    {
      "cell_type": "code",
      "execution_count": null,
      "metadata": {},
      "outputs": [],
      "source": [
        "df = df.to_numpy()\n",
        "df.shape"
      ]
    },
    {
      "cell_type": "code",
      "execution_count": 20,
      "metadata": {},
      "outputs": [],
      "source": [
        "# normalize payload, ttl, total_len\n",
        "for col_index in range(df.shape[1]-1):\n",
        "    column = df[:, col_index]\n",
        "    column_normalized = (column - np.min(column)) / (np.max(column) - np.min(column) + 0.1)\n",
        "    df[:, col_index] = column_normalized"
      ]
    },
    {
      "cell_type": "code",
      "execution_count": null,
      "metadata": {},
      "outputs": [],
      "source": [
        "def convert_dataset_to_grayscale_image(arr):\n",
        "    for idx, row in enumerate(arr):\n",
        "        data = row[:-1]\n",
        "        label = row[-1]\n",
        "        print(data.shape)\n",
        "        print(label)\n",
        "        \n",
        "        data = np.pad(data, pad_width=int((size-len(data))/2), constant_values=0)\n",
        "        print(data.shape)\n",
        "        data = data.reshape(height, width).astype('float64')\n",
        "        print(data.shape)\n",
        "        \n",
        "        plt.imshow(data, cmap='gray')\n",
        "        plt.axis('off')  # Remove axes\n",
        "        plt.show()\n",
        "        \n",
        "        break\n",
        "    print(\"DONE\")\n",
        "        \n",
        "convert_dataset_to_grayscale_image(df)"
      ]
    },
    {
      "cell_type": "code",
      "execution_count": null,
      "metadata": {},
      "outputs": [],
      "source": [
        "def convert_dataset_to_rgb_image(arr):\n",
        "    for idx, row in enumerate(arr):\n",
        "        data = row[:-1]\n",
        "        label = row[-1]\n",
        "        print(data.shape)\n",
        "        print(label)\n",
        "        \n",
        "        data = np.pad(data, pad_width=int((size-len(data))/2), constant_values=0)\n",
        "        data = data.reshape(height, width)\n",
        "        \n",
        "        channel_1 = data.astype('float64')\n",
        "        print(channel_1.shape)\n",
        "        channel_2 = np.rot90(channel_1, k=2).reshape(height, width)\n",
        "        print(channel_2.shape)\n",
        "        channel_3 = np.rot90(channel_2, k=2).reshape(height, width)\n",
        "        print(channel_3.shape)\n",
        "        img = np.stack((channel_1, channel_2, channel_3)).transpose((1, 2, 0))\n",
        "        print(img.shape)\n",
        "        \n",
        "        plt.imshow(img)\n",
        "        plt.axis('off')  # Remove axes\n",
        "        plt.show()\n",
        "        \n",
        "        break\n",
        "    print(\"DONE\")\n",
        "        \n",
        "convert_dataset_to_rgb_image(df)"
      ]
    },
    {
      "cell_type": "code",
      "execution_count": null,
      "metadata": {},
      "outputs": [],
      "source": [
        "with open(csv_file, 'w') as f:\n",
        "    np.savetxt(f, [np.array([\"file_name\", \"label\"])], delimiter=',', fmt='%s')\n",
        "\n",
        "def convert_dataset_to_image(arr):\n",
        "    with open(csv_file, 'a') as f:\n",
        "        for idx, row in enumerate(arr):\n",
        "            data = row[:-1]\n",
        "            label = row[-1]\n",
        "            if idx % 1000 == 0:\n",
        "                print(idx, label)\n",
        "            \n",
        "            data = np.pad(data, pad_width=int((size-len(data))/2), constant_values=0)\n",
        "            data = data.reshape(height, width)\n",
        "            \n",
        "            channel_1 = data.astype('float64')\n",
        "            channel_2 = np.rot90(channel_1, k=2).reshape(height, width)\n",
        "            channel_3 = np.rot90(channel_2, k=2).reshape(height, width)\n",
        "            img = np.stack((channel_1, channel_2, channel_3)).transpose((1, 2, 0))\n",
        "            \n",
        "            file_name = f\"unswnb15_{idx}.png\"\n",
        "            cv2.imwrite(path+\"\\image\\\\\"+file_name, img*255)\n",
        "            \n",
        "            log = np.array([file_name, label])\n",
        "            np.savetxt(f, [log], delimiter=',', fmt='%s')\n",
        "    print(\"DONE\")\n",
        "        \n",
        "\n",
        "convert_dataset_to_image(df)"
      ]
    }
  ],
  "metadata": {
    "kernelspec": {
      "display_name": "DP",
      "language": "python",
      "name": "python3"
    },
    "language_info": {
      "codemirror_mode": {
        "name": "ipython",
        "version": 3
      },
      "file_extension": ".py",
      "mimetype": "text/x-python",
      "name": "python",
      "nbconvert_exporter": "python",
      "pygments_lexer": "ipython3",
      "version": "3.11.7"
    }
  },
  "nbformat": 4,
  "nbformat_minor": 2
}
