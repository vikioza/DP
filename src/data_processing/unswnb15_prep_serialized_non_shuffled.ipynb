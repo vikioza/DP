{
  "cells": [
    {
      "cell_type": "code",
      "execution_count": 1,
      "metadata": {},
      "outputs": [
        {
          "name": "stderr",
          "output_type": "stream",
          "text": [
            "C:\\Users\\vikio\\AppData\\Local\\Temp\\ipykernel_17392\\2836724294.py:1: DeprecationWarning: \n",
            "Pyarrow will become a required dependency of pandas in the next major release of pandas (pandas 3.0),\n",
            "(to allow more performant data types, such as the Arrow string type, and better interoperability with other libraries)\n",
            "but was not found to be installed on your system.\n",
            "If this would cause problems for you,\n",
            "please provide us feedback at https://github.com/pandas-dev/pandas/issues/54466\n",
            "        \n",
            "  import pandas as pd\n"
          ]
        }
      ],
      "source": [
        "import pandas as pd\n",
        "import numpy as np\n",
        "import matplotlib.pyplot as plt\n",
        "import cv2"
      ]
    },
    {
      "cell_type": "code",
      "execution_count": 2,
      "metadata": {},
      "outputs": [],
      "source": [
        "height = 64\n",
        "width = 128\n",
        "size = height*width\n",
        "path = \"..\\..\\datasets\\\\UNSW_NB15\"\n",
        "csv_file = path + \"\\\\unswnb15_img_serialized_5_nonshuffled.csv\""
      ]
    },
    {
      "cell_type": "code",
      "execution_count": 3,
      "metadata": {},
      "outputs": [],
      "source": [
        "df = pd.read_csv(path+\"\\\\UNSW_converted_data.csv\")"
      ]
    },
    {
      "cell_type": "code",
      "execution_count": 4,
      "metadata": {},
      "outputs": [],
      "source": [
        "df = df.drop_duplicates()"
      ]
    },
    {
      "cell_type": "code",
      "execution_count": 5,
      "metadata": {},
      "outputs": [
        {
          "name": "stdout",
          "output_type": "stream",
          "text": [
            "<class 'pandas.core.frame.DataFrame'>\n",
            "Index: 59168 entries, 0 to 79879\n",
            "Columns: 1505 entries, payload_byte_1 to label\n",
            "dtypes: float64(1), int64(1502), object(2)\n",
            "memory usage: 679.8+ MB\n"
          ]
        }
      ],
      "source": [
        "df.info()"
      ]
    },
    {
      "cell_type": "code",
      "execution_count": 6,
      "metadata": {},
      "outputs": [
        {
          "data": {
            "text/plain": [
              "Index(['payload_byte_1', 'payload_byte_2', 'payload_byte_3', 'payload_byte_4',\n",
              "       'payload_byte_5', 'payload_byte_6', 'payload_byte_7', 'payload_byte_8',\n",
              "       'payload_byte_9', 'payload_byte_10',\n",
              "       ...\n",
              "       'payload_byte_1496', 'payload_byte_1497', 'payload_byte_1498',\n",
              "       'payload_byte_1499', 'payload_byte_1500', 'ttl', 'total_len',\n",
              "       'protocol', 't_delta', 'label'],\n",
              "      dtype='object', length=1505)"
            ]
          },
          "execution_count": 6,
          "metadata": {},
          "output_type": "execute_result"
        }
      ],
      "source": [
        "df.columns"
      ]
    },
    {
      "cell_type": "code",
      "execution_count": 7,
      "metadata": {},
      "outputs": [
        {
          "data": {
            "text/plain": [
              "array(['others', 'pipe', 'ipip', 'rdp', 'micp', 'crtp', 'snp', 'vmtp',\n",
              "       'tcp', 'etherip', 'leaf-2', 'gre', 'ax.25', 'nvp', 'sctp', 'sep',\n",
              "       'unas', 'iplt', 'gmtp', 'secure-vmtp', 'sun-nd', 'ib', 'swipe',\n",
              "       'sps', 'hmp', 'rsvp', 'egp', 'ospf', 'mobile', 'ipv6', 'fire',\n",
              "       'pim', 'ggp', 'sccopmce', 'dgp', 'emcon', 'crudp', 'fc', 'udp',\n",
              "       'arp', 'icmp'], dtype=object)"
            ]
          },
          "execution_count": 7,
          "metadata": {},
          "output_type": "execute_result"
        }
      ],
      "source": [
        "df.protocol.unique()"
      ]
    },
    {
      "cell_type": "code",
      "execution_count": 8,
      "metadata": {},
      "outputs": [
        {
          "data": {
            "text/plain": [
              "41"
            ]
          },
          "execution_count": 8,
          "metadata": {},
          "output_type": "execute_result"
        }
      ],
      "source": [
        "len(df.protocol.unique())"
      ]
    },
    {
      "cell_type": "code",
      "execution_count": 9,
      "metadata": {},
      "outputs": [],
      "source": [
        "indices = list(df.protocol.unique())"
      ]
    },
    {
      "cell_type": "code",
      "execution_count": 10,
      "metadata": {},
      "outputs": [
        {
          "data": {
            "text/plain": [
              "8"
            ]
          },
          "execution_count": 10,
          "metadata": {},
          "output_type": "execute_result"
        }
      ],
      "source": [
        "indices.index(\"tcp\")"
      ]
    },
    {
      "cell_type": "code",
      "execution_count": 11,
      "metadata": {},
      "outputs": [
        {
          "data": {
            "text/plain": [
              "40"
            ]
          },
          "execution_count": 11,
          "metadata": {},
          "output_type": "execute_result"
        }
      ],
      "source": [
        "# move tcp to end of list\n",
        "indices.remove(\"tcp\")\n",
        "indices.append(\"tcp\")\n",
        "indices.index(\"tcp\")"
      ]
    },
    {
      "cell_type": "code",
      "execution_count": 12,
      "metadata": {},
      "outputs": [
        {
          "data": {
            "text/plain": [
              "37"
            ]
          },
          "execution_count": 12,
          "metadata": {},
          "output_type": "execute_result"
        }
      ],
      "source": [
        "indices.index(\"udp\")"
      ]
    },
    {
      "cell_type": "code",
      "execution_count": 13,
      "metadata": {},
      "outputs": [
        {
          "data": {
            "text/plain": [
              "0"
            ]
          },
          "execution_count": 13,
          "metadata": {},
          "output_type": "execute_result"
        }
      ],
      "source": [
        "# move udp to start of list\n",
        "indices.remove(\"udp\")\n",
        "indices = [\"udp\"] + indices\n",
        "indices.index(\"udp\")"
      ]
    },
    {
      "cell_type": "code",
      "execution_count": 14,
      "metadata": {},
      "outputs": [],
      "source": [
        "df.protocol = df.protocol.apply(lambda x: indices.index(x))"
      ]
    },
    {
      "cell_type": "code",
      "execution_count": 15,
      "metadata": {},
      "outputs": [
        {
          "data": {
            "text/plain": [
              "array([ 1,  2,  3,  4,  5,  6,  7,  8, 40,  9, 10, 11, 12, 13, 14, 15, 16,\n",
              "       17, 18, 19, 20, 21, 22, 23, 24, 25, 26, 27, 28, 29, 30, 31, 32, 33,\n",
              "       34, 35, 36, 37,  0, 38, 39], dtype=int64)"
            ]
          },
          "execution_count": 15,
          "metadata": {},
          "output_type": "execute_result"
        }
      ],
      "source": [
        "df.protocol.unique()"
      ]
    },
    {
      "cell_type": "code",
      "execution_count": 16,
      "metadata": {},
      "outputs": [
        {
          "data": {
            "text/plain": [
              "array(['analysis', 'backdoor', 'dos', 'exploits', 'fuzzers', 'generic',\n",
              "       'normal', 'reconnaissance', 'shellcode', 'worms'], dtype=object)"
            ]
          },
          "execution_count": 16,
          "metadata": {},
          "output_type": "execute_result"
        }
      ],
      "source": [
        "df.label.unique()"
      ]
    },
    {
      "cell_type": "code",
      "execution_count": 17,
      "metadata": {},
      "outputs": [
        {
          "data": {
            "text/plain": [
              "10"
            ]
          },
          "execution_count": 17,
          "metadata": {},
          "output_type": "execute_result"
        }
      ],
      "source": [
        "len(df.label.unique())"
      ]
    },
    {
      "cell_type": "code",
      "execution_count": 18,
      "metadata": {},
      "outputs": [
        {
          "data": {
            "text/plain": [
              "((59168, 1505), 'analysis')"
            ]
          },
          "execution_count": 18,
          "metadata": {},
          "output_type": "execute_result"
        }
      ],
      "source": [
        "df = df.to_numpy()\n",
        "df.shape, df[0, -1]"
      ]
    },
    {
      "cell_type": "code",
      "execution_count": 19,
      "metadata": {},
      "outputs": [],
      "source": [
        "# normalize payload, ttl, total_len\n",
        "for col_index in range(df.shape[1]-1):\n",
        "    column = df[:, col_index]\n",
        "    column_normalized = (column - np.min(column)) / (np.max(column) - np.min(column) + 0.1)\n",
        "    df[:, col_index] = column_normalized"
      ]
    },
    {
      "cell_type": "code",
      "execution_count": 20,
      "metadata": {},
      "outputs": [
        {
          "name": "stdout",
          "output_type": "stream",
          "text": [
            "(5, 1504) analysis\n",
            "(7520,)\n",
            "(8192,)\n",
            "(64, 128)\n"
          ]
        },
        {
          "data": {
            "image/png": "[encoded data removed]",
            "text/plain": [
              "<Figure size 640x480 with 1 Axes>"
            ]
          },
          "metadata": {},
          "output_type": "display_data"
        },
        {
          "name": "stdout",
          "output_type": "stream",
          "text": [
            "DONE\n"
          ]
        }
      ],
      "source": [
        "def convert_dataset_to_grayscale_image(arr):\n",
        "    for idx in range(len(arr) - 5):\n",
        "        batch = arr[idx: idx + 5, :-1]\n",
        "        label = arr[idx + 5, -1]\n",
        "        print(batch.shape, label)\n",
        "        data = np.concatenate(batch)\n",
        "        print(data.shape)\n",
        "        \n",
        "        data = np.pad(data, pad_width=int((size-len(data))/2), constant_values=0)\n",
        "        print(data.shape)\n",
        "        data = data.reshape(height, width).astype('float64')\n",
        "        print(data.shape)\n",
        "        \n",
        "        plt.imshow(data, cmap='gray')\n",
        "        plt.axis('off')  # Remove axes\n",
        "        plt.show()\n",
        "        \n",
        "        break\n",
        "    print(\"DONE\")\n",
        "        \n",
        "convert_dataset_to_grayscale_image(df)"
      ]
    },
    {
      "cell_type": "code",
      "execution_count": 21,
      "metadata": {},
      "outputs": [
        {
          "name": "stdout",
          "output_type": "stream",
          "text": [
            "(5, 1504) analysis\n",
            "(7520,)\n",
            "(64, 128)\n",
            "(64, 128)\n",
            "(64, 128)\n",
            "(64, 128, 3)\n"
          ]
        },
        {
          "data": {
            "image/png": "[encoded data removed]",
            "text/plain": [
              "<Figure size 640x480 with 1 Axes>"
            ]
          },
          "metadata": {},
          "output_type": "display_data"
        },
        {
          "name": "stdout",
          "output_type": "stream",
          "text": [
            "DONE\n"
          ]
        }
      ],
      "source": [
        "def convert_dataset_to_rgb_image(arr):\n",
        "    for idx in range(len(arr) - 5):\n",
        "        batch = arr[idx: idx + 5, :-1]\n",
        "        label = arr[idx + 5, -1]\n",
        "        print(batch.shape, label)\n",
        "        data = np.concatenate(batch)\n",
        "        print(data.shape)\n",
        "        \n",
        "        data = np.pad(data, pad_width=int((size-len(data))/2), constant_values=0)\n",
        "        data = data.reshape(height, width)\n",
        "        \n",
        "        channel_1 = data.astype('float64')\n",
        "        print(channel_1.shape)\n",
        "        channel_2 = np.rot90(channel_1, k=2).reshape(height, width)\n",
        "        print(channel_2.shape)\n",
        "        channel_3 = np.rot90(channel_2, k=2).reshape(height, width)\n",
        "        print(channel_3.shape)\n",
        "        img = np.stack((channel_1, channel_2, channel_3)).transpose((1, 2, 0))\n",
        "        print(img.shape)\n",
        "        \n",
        "        plt.imshow(img)\n",
        "        plt.axis('off')  # Remove axes\n",
        "        plt.show()\n",
        "        \n",
        "        break\n",
        "    print(\"DONE\")\n",
        "        \n",
        "convert_dataset_to_rgb_image(df)"
      ]
    },
    {
      "cell_type": "code",
      "execution_count": 22,
      "metadata": {},
      "outputs": [
        {
          "name": "stdout",
          "output_type": "stream",
          "text": [
            "0 analysis\n",
            "1000 backdoor\n",
            "2000 dos\n",
            "3000 dos\n",
            "4000 dos\n",
            "5000 exploits\n",
            "6000 exploits\n",
            "7000 exploits\n",
            "8000 exploits\n",
            "9000 exploits\n",
            "10000 exploits\n",
            "11000 exploits\n",
            "12000 exploits\n",
            "13000 exploits\n",
            "14000 exploits\n",
            "15000 exploits\n",
            "16000 exploits\n",
            "17000 fuzzers\n",
            "18000 fuzzers\n",
            "19000 fuzzers\n",
            "20000 fuzzers\n",
            "21000 fuzzers\n",
            "22000 fuzzers\n",
            "23000 fuzzers\n",
            "24000 fuzzers\n",
            "25000 fuzzers\n",
            "26000 fuzzers\n",
            "27000 fuzzers\n",
            "28000 generic\n",
            "29000 generic\n",
            "30000 generic\n",
            "31000 generic\n",
            "32000 generic\n",
            "33000 generic\n",
            "34000 generic\n",
            "35000 generic\n",
            "36000 generic\n",
            "37000 generic\n",
            "38000 generic\n",
            "39000 normal\n",
            "40000 normal\n",
            "41000 normal\n",
            "42000 normal\n",
            "43000 normal\n",
            "44000 normal\n",
            "45000 normal\n",
            "46000 normal\n",
            "47000 normal\n",
            "48000 normal\n",
            "49000 normal\n",
            "50000 normal\n",
            "51000 normal\n",
            "52000 reconnaissance\n",
            "53000 reconnaissance\n",
            "54000 reconnaissance\n",
            "55000 reconnaissance\n",
            "56000 reconnaissance\n",
            "57000 reconnaissance\n",
            "58000 reconnaissance\n",
            "59000 shellcode\n",
            "DONE\n"
          ]
        }
      ],
      "source": [
        "with open(csv_file, 'w') as f:\n",
        "    np.savetxt(f, [np.array([\"file_name\", \"label\"])], delimiter=',', fmt='%s')\n",
        "\n",
        "def convert_dataset_to_image(arr):\n",
        "    with open(csv_file, 'a') as f:\n",
        "        for idx in range(len(arr) - 5):\n",
        "            batch = arr[idx: idx + 5, :-1]\n",
        "            label = arr[idx + 5, -1]\n",
        "            data = np.concatenate(batch)\n",
        "            if idx % 1000 == 0:\n",
        "                print(idx, label)\n",
        "            \n",
        "            data = np.pad(data, pad_width=int((size-len(data))/2), constant_values=0)\n",
        "            data = data.reshape(height, width)\n",
        "            \n",
        "            channel_1 = data.astype('float64')\n",
        "            channel_2 = np.rot90(channel_1, k=2).reshape(height, width)\n",
        "            channel_3 = np.rot90(channel_2, k=2).reshape(height, width)\n",
        "            img = np.stack((channel_1, channel_2, channel_3)).transpose((1, 2, 0))\n",
        "            \n",
        "            file_name = f\"unswnb15_{idx}.png\"\n",
        "            cv2.imwrite(path+\"\\image_serialized_5_non_shuffled\\\\\"+file_name, img*255)\n",
        "            \n",
        "            log = np.array([file_name, label])\n",
        "            np.savetxt(f, [log], delimiter=',', fmt='%s')\n",
        "    print(\"DONE\")\n",
        "        \n",
        "\n",
        "convert_dataset_to_image(df)"
      ]
    }
  ],
  "metadata": {
    "kernelspec": {
      "display_name": "DP",
      "language": "python",
      "name": "python3"
    },
    "language_info": {
      "codemirror_mode": {
        "name": "ipython",
        "version": 3
      },
      "file_extension": ".py",
      "mimetype": "text/x-python",
      "name": "python",
      "nbconvert_exporter": "python",
      "pygments_lexer": "ipython3",
      "version": "3.11.7"
    }
  },
  "nbformat": 4,
  "nbformat_minor": 2
}
