{
 "cells": [
  {
   "cell_type": "code",
   "execution_count": 1,
   "metadata": {},
   "outputs": [
    {
     "name": "stderr",
     "output_type": "stream",
     "text": [
      "C:\\Users\\vikio\\AppData\\Local\\Temp\\ipykernel_21372\\4080736814.py:1: DeprecationWarning: \n",
      "Pyarrow will become a required dependency of pandas in the next major release of pandas (pandas 3.0),\n",
      "(to allow more performant data types, such as the Arrow string type, and better interoperability with other libraries)\n",
      "but was not found to be installed on your system.\n",
      "If this would cause problems for you,\n",
      "please provide us feedback at https://github.com/pandas-dev/pandas/issues/54466\n",
      "        \n",
      "  import pandas as pd\n"
     ]
    }
   ],
   "source": [
    "import pandas as pd"
   ]
  },
  {
   "cell_type": "code",
   "execution_count": 2,
   "metadata": {},
   "outputs": [],
   "source": [
    "df = pd.read_csv(\"..\\..\\datasets\\CIC-IDS-2017\\CICIDS_converted_data.csv\")"
   ]
  },
  {
   "cell_type": "code",
   "execution_count": 3,
   "metadata": {},
   "outputs": [],
   "source": [
    "df = df.drop_duplicates()"
   ]
  },
  {
   "cell_type": "code",
   "execution_count": 4,
   "metadata": {},
   "outputs": [
    {
     "name": "stdout",
     "output_type": "stream",
     "text": [
      "<class 'pandas.core.frame.DataFrame'>\n",
      "Index: 763416 entries, 0 to 1410250\n",
      "Columns: 1505 entries, payload_byte_1 to label\n",
      "dtypes: float64(1), int64(1502), object(2)\n",
      "memory usage: 8.6+ GB\n"
     ]
    }
   ],
   "source": [
    "df.info()"
   ]
  },
  {
   "cell_type": "code",
   "execution_count": 5,
   "metadata": {},
   "outputs": [
    {
     "data": {
      "text/plain": [
       "Index(['payload_byte_1', 'payload_byte_2', 'payload_byte_3', 'payload_byte_4',\n",
       "       'payload_byte_5', 'payload_byte_6', 'payload_byte_7', 'payload_byte_8',\n",
       "       'payload_byte_9', 'payload_byte_10',\n",
       "       ...\n",
       "       'payload_byte_1496', 'payload_byte_1497', 'payload_byte_1498',\n",
       "       'payload_byte_1499', 'payload_byte_1500', 'ttl', 'total_len',\n",
       "       'protocol', 't_delta', 'label'],\n",
       "      dtype='object', length=1505)"
      ]
     },
     "execution_count": 5,
     "metadata": {},
     "output_type": "execute_result"
    }
   ],
   "source": [
    "df.columns"
   ]
  },
  {
   "cell_type": "code",
   "execution_count": 6,
   "metadata": {},
   "outputs": [
    {
     "data": {
      "text/plain": [
       "array(['BENIGN', 'Bot', 'DDoS', 'DoS GoldenEye', 'DoS Hulk',\n",
       "       'DoS Slowhttptest', 'DoS slowloris', 'FTP-Patator', 'Heartbleed',\n",
       "       'Infiltration', 'PortScan', 'SSH-Patator',\n",
       "       'Web Attack – Brute Force', 'Web Attack – Sql Injection',\n",
       "       'Web Attack – XSS'], dtype=object)"
      ]
     },
     "execution_count": 6,
     "metadata": {},
     "output_type": "execute_result"
    }
   ],
   "source": [
    "df.label.unique()"
   ]
  },
  {
   "cell_type": "code",
   "execution_count": 7,
   "metadata": {},
   "outputs": [
    {
     "data": {
      "text/plain": [
       "label\n",
       "BENIGN                        316573\n",
       "DoS Hulk                      138853\n",
       "DoS GoldenEye                 106651\n",
       "DoS slowloris                  61081\n",
       "DoS Slowhttptest               59442\n",
       "SSH-Patator                    37859\n",
       "Infiltration                   16836\n",
       "FTP-Patator                    12917\n",
       "Web Attack – Brute Force        7101\n",
       "Bot                             2042\n",
       "Web Attack – XSS                1816\n",
       "Heartbleed                      1226\n",
       "DDoS                             823\n",
       "PortScan                         185\n",
       "Web Attack – Sql Injection        11\n",
       "Name: count, dtype: int64"
      ]
     },
     "execution_count": 7,
     "metadata": {},
     "output_type": "execute_result"
    }
   ],
   "source": [
    "df.label.value_counts()"
   ]
  },
  {
   "cell_type": "code",
   "execution_count": 8,
   "metadata": {},
   "outputs": [],
   "source": [
    "def class_sampler(df, column_name, sampling_threshold: int = 25000, sampling_rate: float = 0.5):\n",
    "    dfs = []\n",
    "    for unique_value in df[column_name].unique():\n",
    "        df_temp = df[df[column_name] == unique_value]\n",
    "        if df_temp[column_name].count() > sampling_threshold:\n",
    "            mask = df_temp[column_name] != 1\n",
    "            indices_to_drop = df_temp[mask].sample(frac=sampling_rate).index\n",
    "            df_temp = df_temp.drop(indices_to_drop)\n",
    "        dfs.append(df_temp)\n",
    "        \n",
    "    return pd.concat(dfs)"
   ]
  },
  {
   "cell_type": "code",
   "execution_count": 9,
   "metadata": {},
   "outputs": [],
   "source": [
    "df_temp = df.copy()"
   ]
  },
  {
   "cell_type": "code",
   "execution_count": 10,
   "metadata": {},
   "outputs": [
    {
     "data": {
      "text/plain": [
       "0          True\n",
       "1          True\n",
       "2          True\n",
       "3          True\n",
       "4          True\n",
       "           ... \n",
       "1410222    True\n",
       "1410229    True\n",
       "1410230    True\n",
       "1410249    True\n",
       "1410250    True\n",
       "Name: label, Length: 763416, dtype: bool"
      ]
     },
     "execution_count": 10,
     "metadata": {},
     "output_type": "execute_result"
    }
   ],
   "source": [
    "mask = df_temp['label'] != 1\n",
    "# mask.loc['label'] = True\n",
    "mask"
   ]
  },
  {
   "cell_type": "code",
   "execution_count": 11,
   "metadata": {},
   "outputs": [
    {
     "data": {
      "text/plain": [
       "572562"
      ]
     },
     "execution_count": 11,
     "metadata": {},
     "output_type": "execute_result"
    }
   ],
   "source": [
    "sampling_index = df_temp[mask].sample(frac=0.75).index\n",
    "len(sampling_index)"
   ]
  },
  {
   "cell_type": "code",
   "execution_count": 12,
   "metadata": {},
   "outputs": [
    {
     "data": {
      "text/plain": [
       "190854"
      ]
     },
     "execution_count": 12,
     "metadata": {},
     "output_type": "execute_result"
    }
   ],
   "source": [
    "df_temp = df_temp.drop(sampling_index)\n",
    "len(df_temp)"
   ]
  },
  {
   "cell_type": "code",
   "execution_count": 13,
   "metadata": {},
   "outputs": [
    {
     "data": {
      "text/plain": [
       "label\n",
       "BENIGN                        316573\n",
       "DoS Hulk                      138853\n",
       "DoS GoldenEye                 106651\n",
       "DoS slowloris                  61081\n",
       "DoS Slowhttptest               59442\n",
       "SSH-Patator                    37859\n",
       "Infiltration                   16836\n",
       "FTP-Patator                    12917\n",
       "Web Attack – Brute Force        7101\n",
       "Bot                             2042\n",
       "Web Attack – XSS                1816\n",
       "Heartbleed                      1226\n",
       "DDoS                             823\n",
       "PortScan                         185\n",
       "Web Attack – Sql Injection        11\n",
       "Name: count, dtype: int64"
      ]
     },
     "execution_count": 13,
     "metadata": {},
     "output_type": "execute_result"
    }
   ],
   "source": [
    "df[\"label\"].value_counts()"
   ]
  },
  {
   "cell_type": "code",
   "execution_count": 14,
   "metadata": {},
   "outputs": [
    {
     "data": {
      "text/plain": [
       "label\n",
       "BENIGN                        158287\n",
       "DoS Hulk                       69427\n",
       "DoS GoldenEye                  53325\n",
       "DoS slowloris                  30541\n",
       "DoS Slowhttptest               29721\n",
       "SSH-Patator                    18929\n",
       "Infiltration                   16836\n",
       "FTP-Patator                    12917\n",
       "Web Attack – Brute Force        7101\n",
       "Bot                             2042\n",
       "Web Attack – XSS                1816\n",
       "Heartbleed                      1226\n",
       "DDoS                             823\n",
       "PortScan                         185\n",
       "Web Attack – Sql Injection        11\n",
       "Name: count, dtype: int64"
      ]
     },
     "execution_count": 14,
     "metadata": {},
     "output_type": "execute_result"
    }
   ],
   "source": [
    "df_copy = class_sampler(df, \"label\")\n",
    "df_copy.label.value_counts()"
   ]
  }
 ],
 "metadata": {
  "kernelspec": {
   "display_name": "DP",
   "language": "python",
   "name": "python3"
  },
  "language_info": {
   "codemirror_mode": {
    "name": "ipython",
    "version": 3
   },
   "file_extension": ".py",
   "mimetype": "text/x-python",
   "name": "python",
   "nbconvert_exporter": "python",
   "pygments_lexer": "ipython3",
   "version": "3.11.7"
  }
 },
 "nbformat": 4,
 "nbformat_minor": 2
}
