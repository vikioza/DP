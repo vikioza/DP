{
 "cells": [
  {
   "cell_type": "code",
   "execution_count": 2,
   "metadata": {},
   "outputs": [
    {
     "data": {
      "text/plain": [
       "['../datasets/CIC-IDS-2017\\\\Friday-WorkingHours-Afternoon-DDos.pcap_ISCX.csv',\n",
       " '../datasets/CIC-IDS-2017\\\\Friday-WorkingHours-Afternoon-PortScan.pcap_ISCX.csv',\n",
       " '../datasets/CIC-IDS-2017\\\\Friday-WorkingHours-Morning.pcap_ISCX.csv',\n",
       " '../datasets/CIC-IDS-2017\\\\Monday-WorkingHours.pcap_ISCX.csv',\n",
       " '../datasets/CIC-IDS-2017\\\\Thursday-WorkingHours-Afternoon-Infilteration.pcap_ISCX.csv',\n",
       " '../datasets/CIC-IDS-2017\\\\Thursday-WorkingHours-Morning-WebAttacks.pcap_ISCX.csv',\n",
       " '../datasets/CIC-IDS-2017\\\\Tuesday-WorkingHours.pcap_ISCX.csv',\n",
       " '../datasets/CIC-IDS-2017\\\\Wednesday-workingHours.pcap_ISCX.csv']"
      ]
     },
     "execution_count": 2,
     "metadata": {},
     "output_type": "execute_result"
    }
   ],
   "source": [
    "import glob\n",
    "file_paths = glob.glob(\"../datasets/CIC-IDS-2017/*.csv\")\n",
    "file_paths"
   ]
  },
  {
   "cell_type": "code",
   "execution_count": 7,
   "metadata": {},
   "outputs": [
    {
     "name": "stdout",
     "output_type": "stream",
     "text": [
      "(225745, 79)\n",
      "(286467, 79)\n",
      "(191033, 79)\n",
      "(529918, 79)\n",
      "(288602, 79)\n",
      "(170366, 79)\n",
      "(445909, 79)\n",
      "(692703, 79)\n"
     ]
    },
    {
     "name": "stderr",
     "output_type": "stream",
     "text": [
      "C:\\Users\\vikio\\AppData\\Local\\Temp\\ipykernel_9464\\459474070.py:29: FutureWarning: Starting with pandas version 3.0 all arguments of to_csv except for the argument 'path_or_buf' will be keyword-only.\n",
      "  pd.DataFrame(train).to_csv('/'.join([_dir, 'to_use/train.csv']), ',')\n",
      "C:\\Users\\vikio\\AppData\\Local\\Temp\\ipykernel_9464\\459474070.py:30: FutureWarning: Starting with pandas version 3.0 all arguments of to_csv except for the argument 'path_or_buf' will be keyword-only.\n",
      "  pd.DataFrame(val).to_csv('/'.join([_dir, 'to_use/val.csv']), ',')\n",
      "C:\\Users\\vikio\\AppData\\Local\\Temp\\ipykernel_9464\\459474070.py:31: FutureWarning: Starting with pandas version 3.0 all arguments of to_csv except for the argument 'path_or_buf' will be keyword-only.\n",
      "  pd.DataFrame(test).to_csv('/'.join([_dir, 'to_use/test.csv']), ',')\n"
     ]
    }
   ],
   "source": [
    "import pandas as pd\n",
    "from sklearn.model_selection import train_test_split\n",
    "\n",
    "final_train = None\n",
    "final_val = None\n",
    "final_test = None\n",
    "\n",
    "for file_path in file_paths:\n",
    "    _dir, file_name = file_path.split('\\\\')\n",
    "    input_df = pd.read_csv(file_path)\n",
    "    print(input_df.shape)\n",
    "    train, test = train_test_split(input_df, train_size=0.75)\n",
    "    val, test = train_test_split(test, train_size=0.6)  # this should result in a 75/15/10 split\n",
    "    if final_train is None:\n",
    "        final_train = pd.DataFrame(train)\n",
    "    else:\n",
    "        pd.concat([final_train, pd.DataFrame(train)])\n",
    "    if final_val is None:\n",
    "        final_val = pd.DataFrame(val)\n",
    "    else:\n",
    "        pd.concat([final_val, pd.DataFrame(val)])\n",
    "    if final_test is None:\n",
    "        final_test = pd.DataFrame(test)\n",
    "    else:\n",
    "        pd.concat([final_test, pd.DataFrame(test)])\n",
    "    \n",
    "    \n",
    "    \n",
    "pd.DataFrame(train).to_csv('/'.join([_dir, 'to_use/train.csv']), ',')\n",
    "pd.DataFrame(val).to_csv('/'.join([_dir, 'to_use/val.csv']), ',')\n",
    "pd.DataFrame(test).to_csv('/'.join([_dir, 'to_use/test.csv']), ',')"
   ]
  }
 ],
 "metadata": {
  "kernelspec": {
   "display_name": "DP",
   "language": "python",
   "name": "python3"
  },
  "language_info": {
   "codemirror_mode": {
    "name": "ipython",
    "version": 3
   },
   "file_extension": ".py",
   "mimetype": "text/x-python",
   "name": "python",
   "nbconvert_exporter": "python",
   "pygments_lexer": "ipython3",
   "version": "3.11.7"
  }
 },
 "nbformat": 4,
 "nbformat_minor": 2
}
