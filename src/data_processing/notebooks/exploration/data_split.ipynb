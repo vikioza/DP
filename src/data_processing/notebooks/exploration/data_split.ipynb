{
 "cells": [
  {
   "cell_type": "code",
   "execution_count": null,
   "metadata": {},
   "outputs": [],
   "source": [
    "import glob\n",
    "file_paths = glob.glob(\"../datasets/CIC-IDS-2017/*.csv\")\n",
    "file_paths"
   ]
  },
  {
   "cell_type": "code",
   "execution_count": null,
   "metadata": {},
   "outputs": [],
   "source": [
    "import pandas as pd\n",
    "from sklearn.model_selection import train_test_split\n",
    "\n",
    "final_train = None\n",
    "final_val = None\n",
    "final_test = None\n",
    "\n",
    "for file_path in file_paths:\n",
    "    _dir, file_name = file_path.split('\\\\')\n",
    "    input_df = pd.read_csv(file_path)\n",
    "    print(input_df.shape)\n",
    "    train, test = train_test_split(input_df, train_size=0.75)\n",
    "    val, test = train_test_split(test, train_size=0.6)  # this should result in a 75/15/10 split\n",
    "    if final_train is None:\n",
    "        final_train = pd.DataFrame(train)\n",
    "    else:\n",
    "        pd.concat([final_train, pd.DataFrame(train)])\n",
    "    if final_val is None:\n",
    "        final_val = pd.DataFrame(val)\n",
    "    else:\n",
    "        pd.concat([final_val, pd.DataFrame(val)])\n",
    "    if final_test is None:\n",
    "        final_test = pd.DataFrame(test)\n",
    "    else:\n",
    "        pd.concat([final_test, pd.DataFrame(test)])\n",
    "    \n",
    "    \n",
    "    \n",
    "pd.DataFrame(train).to_csv('/'.join([_dir, 'to_use/train.csv']), ',')\n",
    "pd.DataFrame(val).to_csv('/'.join([_dir, 'to_use/val.csv']), ',')\n",
    "pd.DataFrame(test).to_csv('/'.join([_dir, 'to_use/test.csv']), ',')"
   ]
  }
 ],
 "metadata": {
  "language_info": {
   "name": "python"
  }
 },
 "nbformat": 4,
 "nbformat_minor": 2
}
