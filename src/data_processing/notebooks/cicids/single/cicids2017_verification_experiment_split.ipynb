{
 "cells": [
  {
   "cell_type": "code",
   "execution_count": null,
   "metadata": {},
   "outputs": [],
   "source": [
    "import os\n",
    "import sys\n",
    "# Get the directory where the current script is located\n",
    "current_dir = os.path.dirname(os.getcwd()).split('\\\\')\n",
    "\n",
    "# Construct the path to your target folder (e.g., 'data' inside the repo)\n",
    "target_folder = \"/\".join(current_dir[:current_dir.index('src')+1])\n",
    "sys.path.append(os.path.abspath(target_folder))"
   ]
  },
  {
   "cell_type": "code",
   "execution_count": null,
   "metadata": {},
   "outputs": [],
   "source": [
    "import pandas as pd"
   ]
  },
  {
   "cell_type": "code",
   "execution_count": null,
   "metadata": {},
   "outputs": [],
   "source": [
    "path = \"C:\\VScode_Projects\\DP\\datasets\\CIC-IDS-2017\"\n",
    "csv_file = path + \"\\cicids2017_img.csv\""
   ]
  },
  {
   "cell_type": "code",
   "execution_count": null,
   "metadata": {},
   "outputs": [],
   "source": [
    "df = pd.read_csv(csv_file, encoding=\"cp1252\")"
   ]
  },
  {
   "cell_type": "code",
   "execution_count": null,
   "metadata": {},
   "outputs": [],
   "source": [
    "df.info()"
   ]
  },
  {
   "cell_type": "code",
   "execution_count": null,
   "metadata": {},
   "outputs": [],
   "source": [
    "df.label.unique()"
   ]
  },
  {
   "cell_type": "code",
   "execution_count": null,
   "metadata": {},
   "outputs": [],
   "source": [
    "df.label.value_counts()"
   ]
  },
  {
   "cell_type": "code",
   "execution_count": null,
   "metadata": {},
   "outputs": [],
   "source": [
    "# choose 3 attacks from the list above\n",
    "attacks= [\"DoS GoldenEye\", \"SSH-Patator\", \"Heartbleed\"]\n",
    "\n",
    "# Create a mask for rows with chosen attacks\n",
    "mask = df['label'].isin(attacks)\n",
    "\n",
    "# Split the DataFrame into two parts\n",
    "df_with_new_attacks= df[mask]\n",
    "df_for_training = df[~mask]"
   ]
  },
  {
   "cell_type": "code",
   "execution_count": null,
   "metadata": {},
   "outputs": [],
   "source": [
    "df_with_new_attacks.info()"
   ]
  },
  {
   "cell_type": "code",
   "execution_count": null,
   "metadata": {},
   "outputs": [],
   "source": [
    "df_with_new_attacks.label.value_counts()"
   ]
  },
  {
   "cell_type": "code",
   "execution_count": null,
   "metadata": {},
   "outputs": [],
   "source": [
    "df_for_training.info()"
   ]
  },
  {
   "cell_type": "code",
   "execution_count": null,
   "metadata": {},
   "outputs": [],
   "source": [
    "df_for_training.label.value_counts()"
   ]
  },
  {
   "cell_type": "code",
   "execution_count": null,
   "metadata": {},
   "outputs": [],
   "source": [
    "len(df_with_new_attacks)"
   ]
  },
  {
   "cell_type": "code",
   "execution_count": null,
   "metadata": {},
   "outputs": [],
   "source": [
    "benign_rows = df_for_training[df_for_training['label'] == 'BENIGN']\n",
    "sampled_rows = benign_rows.sample(n=len(df_with_new_attacks), random_state=42)\n",
    "df_with_new_attacks = pd.concat([df_with_new_attacks, sampled_rows], ignore_index=True)"
   ]
  },
  {
   "cell_type": "code",
   "execution_count": null,
   "metadata": {},
   "outputs": [],
   "source": [
    "df_with_new_attacks.label.value_counts()"
   ]
  },
  {
   "cell_type": "code",
   "execution_count": null,
   "metadata": {},
   "outputs": [],
   "source": [
    "# save the new split as csv files\n",
    "df_with_new_attacks.to_csv(path + \"\\cicids2017_img_new_attacks.csv\", index=False)\n",
    "df_for_training.to_csv(path + \"\\cicids2017_img_selection.csv\", index=False)"
   ]
  }
 ],
 "metadata": {
  "language_info": {
   "name": "python"
  }
 },
 "nbformat": 4,
 "nbformat_minor": 2
}
