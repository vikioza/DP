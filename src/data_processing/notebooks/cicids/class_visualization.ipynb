{
 "cells": [
  {
   "cell_type": "code",
   "execution_count": null,
   "id": "dd07f6eb",
   "metadata": {},
   "outputs": [],
   "source": [
    "import os\n",
    "import sys\n",
    "# Get the directory where the current script is located\n",
    "current_dir = os.path.dirname(os.getcwd()).split('\\\\')\n",
    "\n",
    "# Construct the path to your target folder (e.g., 'data' inside the repo)\n",
    "target_folder = \"/\".join(current_dir[:current_dir.index('src')+1])\n",
    "sys.path.append(os.path.abspath(target_folder))"
   ]
  },
  {
   "cell_type": "code",
   "execution_count": null,
   "id": "b9541e62",
   "metadata": {},
   "outputs": [],
   "source": [
    "import pandas as pd\n",
    "import numpy as np\n",
    "import h5py as h5\n",
    "import matplotlib.pyplot as plt"
   ]
  },
  {
   "cell_type": "code",
   "execution_count": null,
   "id": "e442ccc0",
   "metadata": {},
   "outputs": [],
   "source": [
    "BASE_PATH = \"C:\\VScode_Projects\\DP\\datasets\\CIC-IDS-2017\"\n",
    "CSV_FILES = [\"clean\\cicids2017_img_inc.csv\", \"clean\\cicids2017_img_uni_dir.csv\", \"clean\\cicids2017_img_bi_dir.csv\"]\n",
    "IMG_FOLDERS = [\"clean\\image_inc\", \"clean\\image_uni_dir\", \"clean\\image_bi_dir\"]"
   ]
  },
  {
   "cell_type": "code",
   "execution_count": null,
   "id": "9a6c039e",
   "metadata": {},
   "outputs": [],
   "source": [
    "df = pd.read_csv(os.path.join(BASE_PATH, CSV_FILES[2]), encoding=\"cp1252\")\n",
    "df.label = df[\"label\"].str.replace(\"ï¿½\", \"-\")\n",
    "df.label.unique()"
   ]
  },
  {
   "cell_type": "code",
   "execution_count": null,
   "id": "6ada2859",
   "metadata": {},
   "outputs": [],
   "source": [
    "df.columns"
   ]
  },
  {
   "cell_type": "code",
   "execution_count": null,
   "id": "e852a527",
   "metadata": {},
   "outputs": [],
   "source": [
    "df.label.value_counts()"
   ]
  },
  {
   "cell_type": "code",
   "execution_count": null,
   "id": "a44f53e7",
   "metadata": {},
   "outputs": [],
   "source": [
    "image_indices = list(df[df[\"label\"] == \"FTP-Patator\"][\"idx\"])\n",
    "len(image_indices)"
   ]
  },
  {
   "cell_type": "code",
   "execution_count": null,
   "id": "6b8226d1",
   "metadata": {},
   "outputs": [],
   "source": [
    "from data_processing.utils import generate_average_image\n",
    "\n",
    "\n",
    "image = generate_average_image(BASE_PATH, IMG_FOLDERS[2], image_indices)\n",
    "plt.imshow(image)\n",
    "plt.axis('off')  # Remove axes\n",
    "plt.show()"
   ]
  },
  {
   "cell_type": "code",
   "execution_count": null,
   "id": "e5a66dae",
   "metadata": {},
   "outputs": [],
   "source": [
    "def plot_average_images(img_folder, csv_file):\n",
    "    df = pd.read_csv(os.path.join(BASE_PATH, csv_file), encoding=\"cp1252\")\n",
    "    df.label = df[\"label\"].str.replace(\"ï¿½\", \"-\")\n",
    "    labels = list(df.label.unique())\n",
    "    \n",
    "    plt.figure(figsize=(12, 8))\n",
    "    plt.suptitle(f\"Class visualization for {csv_file}\", fontsize=16)\n",
    "    for idx, label in enumerate(labels):\n",
    "        image_indices = list(df[df[\"label\"] == label][\"idx\"])\n",
    "        image = generate_average_image(BASE_PATH, img_folder, image_indices)\n",
    "        \n",
    "        plt.subplot(3, 5, idx + 1)\n",
    "        plt.imshow(image)\n",
    "        plt.title(f\"{label}\")\n",
    "        plt.axis('off')\n",
    "\n",
    "    \n",
    "    plt.tight_layout()\n",
    "    plt.show()\n",
    "\n",
    "plot_average_images(IMG_FOLDERS[0], CSV_FILES[0])"
   ]
  },
  {
   "cell_type": "code",
   "execution_count": null,
   "id": "305ed479",
   "metadata": {},
   "outputs": [],
   "source": [
    "plot_average_images(IMG_FOLDERS[1], CSV_FILES[1])"
   ]
  },
  {
   "cell_type": "code",
   "execution_count": null,
   "id": "b052e653",
   "metadata": {},
   "outputs": [],
   "source": [
    "plot_average_images(IMG_FOLDERS[2], CSV_FILES[2])"
   ]
  },
  {
   "cell_type": "code",
   "execution_count": null,
   "id": "0fc66e91",
   "metadata": {},
   "outputs": [],
   "source": [
    "plot_average_images(\"clean\\image\", \"clean\\cicids2017_img.csv\")"
   ]
  },
  {
   "cell_type": "code",
   "execution_count": null,
   "id": "a08970e5",
   "metadata": {},
   "outputs": [],
   "source": [
    "plot_average_images(\"image\", \"cicids2017_img.csv\")"
   ]
  }
 ],
 "metadata": {
  "language_info": {
   "name": "python"
  }
 },
 "nbformat": 4,
 "nbformat_minor": 5
}
