{
 "cells": [
  {
   "cell_type": "code",
   "execution_count": null,
   "id": "6102c3d8",
   "metadata": {},
   "outputs": [],
   "source": [
    "import pandas as pd\n",
    "import numpy as np"
   ]
  },
  {
   "cell_type": "code",
   "execution_count": null,
   "id": "6c9deb03",
   "metadata": {},
   "outputs": [],
   "source": [
    "path = \"C:\\VScode_Projects\\DP\\datasets\\CIC-IDS-2017\\clean\"\n",
    "csv_file = path + \"\\CICIDS_converted_data_final_2.csv\"\n",
    "src_file = path + \"\\CICIDS_converted_data_with_attacks.csv\"\n",
    "chunk_size = 100_000"
   ]
  },
  {
   "cell_type": "code",
   "execution_count": null,
   "id": "aa90991f",
   "metadata": {},
   "outputs": [],
   "source": [
    "# Initialize an empty list to store processed chunks\n",
    "processed_chunks = []\n",
    "\n",
    "# Read the file in chunks\n",
    "for chunk in pd.read_csv(src_file, chunksize=chunk_size):\n",
    "    chunk = chunk.dropna()\n",
    "    \n",
    "    # Append the processed chunk to the list\n",
    "    processed_chunks.append(chunk)\n",
    "\n",
    "# Combine all processed chunks into a single DataFrame\n",
    "df = pd.concat(processed_chunks, ignore_index=True)"
   ]
  },
  {
   "cell_type": "code",
   "execution_count": null,
   "id": "94a00d65",
   "metadata": {},
   "outputs": [],
   "source": [
    "df = df.drop_duplicates()"
   ]
  },
  {
   "cell_type": "code",
   "execution_count": null,
   "id": "a8aae534",
   "metadata": {},
   "outputs": [],
   "source": [
    "df.info()"
   ]
  },
  {
   "cell_type": "code",
   "execution_count": null,
   "id": "cc36dbcf",
   "metadata": {},
   "outputs": [],
   "source": [
    "df.columns"
   ]
  },
  {
   "cell_type": "code",
   "execution_count": null,
   "id": "e4ba9f0a",
   "metadata": {},
   "outputs": [],
   "source": [
    "df.srcip.value_counts()"
   ]
  },
  {
   "cell_type": "code",
   "execution_count": null,
   "id": "db07268f",
   "metadata": {},
   "outputs": [],
   "source": [
    "df.rename(columns={\"protocol_m\": \"protocol\"}, inplace=True)"
   ]
  },
  {
   "cell_type": "code",
   "execution_count": null,
   "id": "17471edd",
   "metadata": {},
   "outputs": [],
   "source": [
    "df.protocol.unique()"
   ]
  },
  {
   "cell_type": "code",
   "execution_count": null,
   "id": "52be5ff5",
   "metadata": {},
   "outputs": [],
   "source": [
    "df.protocol.value_counts()"
   ]
  },
  {
   "cell_type": "code",
   "execution_count": null,
   "id": "79b3b515",
   "metadata": {},
   "outputs": [],
   "source": [
    "df = df[df[\"protocol\"] != \"other\"]\n",
    "df.protocol = df.protocol.apply(lambda x: 1 if x == \"tcp\" else 0 )"
   ]
  },
  {
   "cell_type": "code",
   "execution_count": null,
   "id": "c1d2a609",
   "metadata": {},
   "outputs": [],
   "source": [
    "df.protocol.value_counts()"
   ]
  },
  {
   "cell_type": "code",
   "execution_count": null,
   "id": "786e354c",
   "metadata": {},
   "outputs": [],
   "source": [
    "df.drop(columns=[\"label\"], inplace=True)"
   ]
  },
  {
   "cell_type": "code",
   "execution_count": null,
   "id": "8a15cedc",
   "metadata": {},
   "outputs": [],
   "source": [
    "df.rename(columns={\"attack_cat\": \"label\"}, inplace=True)"
   ]
  },
  {
   "cell_type": "code",
   "execution_count": null,
   "id": "59002841",
   "metadata": {},
   "outputs": [],
   "source": [
    "df.info()"
   ]
  },
  {
   "cell_type": "code",
   "execution_count": null,
   "id": "a68b50f1",
   "metadata": {},
   "outputs": [],
   "source": [
    "df.columns"
   ]
  },
  {
   "cell_type": "code",
   "execution_count": null,
   "id": "06a2e59a",
   "metadata": {},
   "outputs": [],
   "source": [
    "columns_to_move = [\"protocol\", \"t_delta\", \"label\", \"srcip\", \"sport\", \"dstip\", \"dsport\"]\n",
    "for column_to_move in columns_to_move: \n",
    "    columns = [col for col in df.columns if col != column_to_move] + [column_to_move]\n",
    "    df = df[columns]"
   ]
  },
  {
   "cell_type": "code",
   "execution_count": null,
   "id": "155fa441",
   "metadata": {},
   "outputs": [],
   "source": [
    "df.columns"
   ]
  },
  {
   "cell_type": "code",
   "execution_count": null,
   "id": "d38c49f1",
   "metadata": {},
   "outputs": [],
   "source": [
    "df.label.value_counts()"
   ]
  },
  {
   "cell_type": "code",
   "execution_count": null,
   "id": "a4dbf745",
   "metadata": {},
   "outputs": [],
   "source": [
    "# Separate BENIGN and other rows\n",
    "benign_rows = df[df['label'] == 'BENIGN']\n",
    "other_rows = df[df['label'] != 'BENIGN']\n",
    "\n",
    "# Undersample BENIGN rows (e.g., randomly select 50% of them)\n",
    "undersampled_benign = benign_rows.sample(frac=0.3, random_state=42)\n",
    "\n",
    "# Combine undersampled BENIGN rows with the other rows\n",
    "df = pd.concat([undersampled_benign, other_rows])"
   ]
  },
  {
   "cell_type": "code",
   "execution_count": null,
   "id": "ba3ed7d8",
   "metadata": {},
   "outputs": [],
   "source": [
    "df.label.value_counts()"
   ]
  },
  {
   "cell_type": "code",
   "execution_count": null,
   "id": "5f79a311",
   "metadata": {},
   "outputs": [],
   "source": [
    "df.to_csv(csv_file, index=False)"
   ]
  }
 ],
 "metadata": {
  "language_info": {
   "name": "python"
  }
 },
 "nbformat": 4,
 "nbformat_minor": 5
}
