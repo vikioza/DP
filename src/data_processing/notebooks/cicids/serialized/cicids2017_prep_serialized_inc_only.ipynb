{
 "cells": [
  {
   "cell_type": "code",
   "execution_count": null,
   "metadata": {},
   "outputs": [],
   "source": [
    "import os\n",
    "import sys\n",
    "sys.path.append(os.path.abspath(os.path.join(os.getcwd(), '../../../../')))"
   ]
  },
  {
   "cell_type": "code",
   "execution_count": null,
   "metadata": {},
   "outputs": [],
   "source": [
    "import pandas as pd\n",
    "import numpy as np\n",
    "import matplotlib.pyplot as plt\n",
    "import cv2"
   ]
  },
  {
   "cell_type": "code",
   "execution_count": null,
   "metadata": {},
   "outputs": [],
   "source": [
    "height = 128\n",
    "width = 128\n",
    "size = height*width\n",
    "windows_size = 5\n",
    "path = \"C:\\VScode_Projects\\DP\\datasets\\CIC-IDS-2017\\clean\"\n",
    "image_dir_name = \"\\image_inc\\\\\"\n",
    "csv_file = path + \"\\cicids2017_img_inc.csv\""
   ]
  },
  {
   "cell_type": "code",
   "execution_count": null,
   "metadata": {},
   "outputs": [],
   "source": [
    "df = pd.read_csv(path+\"\\CICIDS_converted_data_final_2.csv\")"
   ]
  },
  {
   "cell_type": "code",
   "execution_count": null,
   "metadata": {},
   "outputs": [],
   "source": [
    "df.info()"
   ]
  },
  {
   "cell_type": "code",
   "execution_count": null,
   "metadata": {},
   "outputs": [],
   "source": [
    "df.columns"
   ]
  },
  {
   "cell_type": "code",
   "execution_count": null,
   "metadata": {},
   "outputs": [],
   "source": [
    "df.protocol.unique()"
   ]
  },
  {
   "cell_type": "code",
   "execution_count": null,
   "metadata": {},
   "outputs": [],
   "source": [
    "df.protocol.value_counts()"
   ]
  },
  {
   "cell_type": "code",
   "execution_count": null,
   "metadata": {},
   "outputs": [],
   "source": [
    "df.label.unique()"
   ]
  },
  {
   "cell_type": "code",
   "execution_count": null,
   "metadata": {},
   "outputs": [],
   "source": [
    "len(df.label.unique())"
   ]
  },
  {
   "cell_type": "code",
   "execution_count": null,
   "metadata": {},
   "outputs": [],
   "source": [
    "df.label.value_counts() / len(df)"
   ]
  },
  {
   "cell_type": "code",
   "execution_count": null,
   "metadata": {},
   "outputs": [],
   "source": [
    "df.label.value_counts()"
   ]
  },
  {
   "cell_type": "code",
   "execution_count": null,
   "metadata": {},
   "outputs": [],
   "source": [
    "df = df.to_numpy()\n",
    "df.shape"
   ]
  },
  {
   "cell_type": "code",
   "execution_count": null,
   "metadata": {},
   "outputs": [],
   "source": [
    "# normalize payload, ttl, total_len\n",
    "for col_index in range(df.shape[1]-7):\n",
    "    column = df[:, col_index]\n",
    "    column_normalized = (column - np.min(column)) / (np.max(column) - np.min(column))\n",
    "    df[:, col_index] = column_normalized"
   ]
  },
  {
   "cell_type": "code",
   "execution_count": null,
   "metadata": {},
   "outputs": [],
   "source": [
    "# inspect t_delta\n",
    "print(np.min(df[:, -6]), np.max(df[:, -6]))"
   ]
  },
  {
   "cell_type": "code",
   "execution_count": null,
   "metadata": {},
   "outputs": [],
   "source": [
    "# normalize t_delta\n",
    "column = df[:, -6]\n",
    "column_normalized = (column - np.min(column)) / (np.max(column) - np.min(column))\n",
    "df[:, -6] = column_normalized"
   ]
  },
  {
   "cell_type": "code",
   "execution_count": null,
   "metadata": {},
   "outputs": [],
   "source": [
    "print(np.min(df[:, -6]), np.max(df[:, -6]))"
   ]
  },
  {
   "cell_type": "code",
   "execution_count": null,
   "metadata": {},
   "outputs": [],
   "source": [
    "#inspect label\n",
    "np.unique(df[:, -5])"
   ]
  },
  {
   "cell_type": "code",
   "execution_count": null,
   "metadata": {},
   "outputs": [],
   "source": [
    "def convert_dataset_to_grayscale_image(arr):\n",
    "    for idx, row in enumerate(arr):\n",
    "        print(row.shape)\n",
    "        data = row[:-4]\n",
    "        print(data.shape)\n",
    "        idset = list(row[-4:]) + [row[-7]]\n",
    "        srcip = idset[0]\n",
    "        idset = frozenset(idset)\n",
    "        print(idset, srcip)\n",
    "        data = data[:-1]\n",
    "        print(data.shape)\n",
    "        label = data[-1]\n",
    "        print(label)\n",
    "        \n",
    "        # data = np.pad(data, pad_width=int((size-len(data))/2), constant_values=0)\n",
    "        # print(data.shape)\n",
    "        # data = data.reshape(height, width).astype('float64')\n",
    "        # print(data.shape)\n",
    "        \n",
    "        # plt.imshow(data, cmap='gray')\n",
    "        # plt.axis('off')  # Remove axes\n",
    "        # plt.show()\n",
    "        \n",
    "        break\n",
    "    print(\"DONE\")\n",
    "        \n",
    "convert_dataset_to_grayscale_image(df)"
   ]
  },
  {
   "cell_type": "code",
   "execution_count": null,
   "metadata": {},
   "outputs": [],
   "source": [
    "%run ../../../../sniffer/flow.py"
   ]
  },
  {
   "cell_type": "code",
   "execution_count": null,
   "metadata": {},
   "outputs": [],
   "source": [
    "from sniffer.flow import FlowControl"
   ]
  },
  {
   "cell_type": "code",
   "execution_count": null,
   "metadata": {},
   "outputs": [],
   "source": [
    "def convert_dataset_to_rgb_image(arr):\n",
    "    flows = FlowControl()\n",
    "    for idx, row in enumerate(arr):\n",
    "        print(row.shape)\n",
    "        idset = list(row[-4:]) + [row[-7]]\n",
    "        srcip = idset[0]\n",
    "        idset = frozenset(idset)\n",
    "        print(idset, srcip)\n",
    "        data = row[:-5]\n",
    "        label = row[-5]\n",
    "        print(data.shape)\n",
    "        print(label)\n",
    "        \n",
    "        data, _ = flows.attach_dict(idset=idset, data=data, srcip=srcip, window_size=windows_size)\n",
    "        data = np.array(data).flatten()\n",
    "        \n",
    "        data = np.pad(data, pad_width=int((size-len(data))/2), constant_values=0)\n",
    "        data = data.reshape(height, width)\n",
    "        print(data.shape)\n",
    "        \n",
    "        channel_1 = data.astype('float64')\n",
    "        print(channel_1.shape)\n",
    "        channel_2 = np.rot90(channel_1, k=2).reshape(height, width)\n",
    "        print(channel_2.shape)\n",
    "        channel_3 = np.rot90(channel_2, k=2).reshape(height, width)\n",
    "        print(channel_3.shape)\n",
    "        img = np.stack((channel_1, channel_2, channel_3)).transpose((1, 2, 0))\n",
    "        print(img.shape)\n",
    "        \n",
    "        plt.imshow(img)\n",
    "        plt.axis('off')  # Remove axes\n",
    "        plt.show() \n",
    "        break\n",
    "    \n",
    "    print(\"DONE\")\n",
    "        \n",
    "convert_dataset_to_rgb_image(df)"
   ]
  },
  {
   "cell_type": "code",
   "execution_count": null,
   "metadata": {},
   "outputs": [],
   "source": [
    "import threading\n",
    "import queue\n",
    "\n",
    "image_queue = queue.Queue()\n",
    "def save_images():\n",
    "    while True:\n",
    "        filename, image = image_queue.get()\n",
    "        if image is None:\n",
    "            print(\"THREAD DEATH\")\n",
    "            break\n",
    "        # Save the image\n",
    "        cv2.imwrite(filename, image)\n",
    "        image_queue.task_done()\n",
    "\n",
    "with open(csv_file, 'w') as f:\n",
    "    np.savetxt(f, [np.array([\"file_name\", \"label\"])], delimiter=',', fmt='%s')\n",
    "\n",
    "def convert_dataset_to_image(arr):\n",
    "    flows = FlowControl()\n",
    "    image_saver = threading.Thread(target=save_images, daemon=True)\n",
    "    with open(csv_file, 'a') as f:\n",
    "        for idx, row in enumerate(arr):\n",
    "            idset = list(row[-4:]) + [row[-7]]\n",
    "            srcip = idset[0]\n",
    "            idset = frozenset(idset)\n",
    "            data = row[:-5]\n",
    "            label = row[-5]\n",
    "                    \n",
    "            data, _ = flows.attach_dict(idset=idset, data=data, srcip=srcip, window_size=windows_size)\n",
    "            \n",
    "            data = np.array(data).flatten()\n",
    "            data = np.pad(data, pad_width=int((size-len(data))/2), constant_values=0)\n",
    "            data = data.reshape(height, width)\n",
    "            \n",
    "            channel_1 = data.astype('float64')\n",
    "            channel_2 = np.rot90(channel_1, k=2).reshape(height, width)\n",
    "            channel_3 = np.rot90(channel_2, k=2).reshape(height, width)\n",
    "            \n",
    "            img = np.stack((channel_1, channel_2, channel_3)).transpose((1, 2, 0))\n",
    "            file_name = f\"cic_ids_2017_{idx}.png\"\n",
    "            # cv2.imwrite(path+image_dir_name+file_name, img*255)\n",
    "            image_queue.put((path+image_dir_name+file_name, img*255))\n",
    "        \n",
    "            log = np.array([file_name, label])\n",
    "            np.savetxt(f, [log], delimiter=',', fmt='%s')\n",
    "            \n",
    "            if idx % 100_000 == 0:\n",
    "                print(idx, label)\n",
    "                if not image_saver.is_alive():\n",
    "                    print(\"THREAD RESTART\")\n",
    "                    image_saver.start\n",
    "            \n",
    "    print(\"DONE\")\n",
    "        \n",
    "\n",
    "convert_dataset_to_image(df)"
   ]
  }
 ],
 "metadata": {
  "language_info": {
   "name": "python"
  }
 },
 "nbformat": 4,
 "nbformat_minor": 2
}
