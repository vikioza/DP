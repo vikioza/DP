{
 "cells": [
  {
   "cell_type": "code",
   "execution_count": null,
   "metadata": {},
   "outputs": [],
   "source": [
    "import pandas as pd"
   ]
  },
  {
   "cell_type": "code",
   "execution_count": null,
   "metadata": {},
   "outputs": [],
   "source": [
    "path = \"C:\\VScode_Projects\\DP\\datasets\\CIC-IDS-2017\\clean\"\n",
    "csv_files = [path + \"\\cicids2017_img_inc\", path + \"\\cicids2017_img_uni_dir\", path + \"\\cicids2017_img_bi_dir\", path + \"\\cicids2017_img\"]"
   ]
  },
  {
   "cell_type": "code",
   "execution_count": null,
   "metadata": {},
   "outputs": [],
   "source": [
    "# choose 3 attacks from the list above\n",
    "attacks= [\"DoS GoldenEye\", \"SSH-Patator\", \"Heartbleed\"]\n",
    "\n",
    "for csv_file in csv_files:\n",
    "    df = pd.read_csv(csv_file+\".csv\")\n",
    "\n",
    "    # Create a mask for rows with chosen attacks\n",
    "    mask = df['label'].isin(attacks)\n",
    "\n",
    "    # Split the DataFrame into two parts\n",
    "    df_with_new_attacks= df[mask]\n",
    "    df_for_training = df[~mask]\n",
    "    \n",
    "    # Add some BENIGN values to the test data in order to not break dataloader labelling\n",
    "    benign_rows = df_for_training[df_for_training['label'] == 'BENIGN']\n",
    "    sampled_rows = benign_rows.sample(n=50_000, random_state=42)\n",
    "    df_with_new_attacks = pd.concat([df_with_new_attacks, sampled_rows], ignore_index=True)\n",
    "    \n",
    "    # save the new split as csv files\n",
    "    df_with_new_attacks.to_csv(csv_file+\"_new_attacks.csv\", index=False)\n",
    "    df_for_training.to_csv(csv_file+\"_selection.csv\", index=False)"
   ]
  }
 ],
 "metadata": {
  "language_info": {
   "name": "python"
  }
 },
 "nbformat": 4,
 "nbformat_minor": 2
}
