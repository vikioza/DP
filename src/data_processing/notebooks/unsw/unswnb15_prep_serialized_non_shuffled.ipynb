{
 "cells": [
  {
   "cell_type": "code",
   "execution_count": null,
   "metadata": {},
   "outputs": [],
   "source": [
    "import pandas as pd\n",
    "import numpy as np\n",
    "import matplotlib.pyplot as plt\n",
    "import cv2"
   ]
  },
  {
   "cell_type": "code",
   "execution_count": null,
   "metadata": {},
   "outputs": [],
   "source": [
    "height = 64\n",
    "width = 128\n",
    "size = height*width\n",
    "path = \"..\\..\\datasets\\\\UNSW_NB15\"\n",
    "csv_file = path + \"\\\\unswnb15_img_serialized_5_nonshuffled.csv\""
   ]
  },
  {
   "cell_type": "code",
   "execution_count": null,
   "metadata": {},
   "outputs": [],
   "source": [
    "df = pd.read_csv(path+\"\\\\UNSW_converted_data.csv\")"
   ]
  },
  {
   "cell_type": "code",
   "execution_count": null,
   "metadata": {},
   "outputs": [],
   "source": [
    "df = df.drop_duplicates()"
   ]
  },
  {
   "cell_type": "code",
   "execution_count": null,
   "metadata": {},
   "outputs": [],
   "source": [
    "df.info()"
   ]
  },
  {
   "cell_type": "code",
   "execution_count": null,
   "metadata": {},
   "outputs": [],
   "source": [
    "df.columns"
   ]
  },
  {
   "cell_type": "code",
   "execution_count": null,
   "metadata": {},
   "outputs": [],
   "source": [
    "df.protocol.unique()"
   ]
  },
  {
   "cell_type": "code",
   "execution_count": null,
   "metadata": {},
   "outputs": [],
   "source": [
    "len(df.protocol.unique())"
   ]
  },
  {
   "cell_type": "code",
   "execution_count": null,
   "metadata": {},
   "outputs": [],
   "source": [
    "indices = list(df.protocol.unique())"
   ]
  },
  {
   "cell_type": "code",
   "execution_count": null,
   "metadata": {},
   "outputs": [],
   "source": [
    "indices.index(\"tcp\")"
   ]
  },
  {
   "cell_type": "code",
   "execution_count": null,
   "metadata": {},
   "outputs": [],
   "source": [
    "# move tcp to end of list\n",
    "indices.remove(\"tcp\")\n",
    "indices.append(\"tcp\")\n",
    "indices.index(\"tcp\")"
   ]
  },
  {
   "cell_type": "code",
   "execution_count": null,
   "metadata": {},
   "outputs": [],
   "source": [
    "indices.index(\"udp\")"
   ]
  },
  {
   "cell_type": "code",
   "execution_count": null,
   "metadata": {},
   "outputs": [],
   "source": [
    "# move udp to start of list\n",
    "indices.remove(\"udp\")\n",
    "indices = [\"udp\"] + indices\n",
    "indices.index(\"udp\")"
   ]
  },
  {
   "cell_type": "code",
   "execution_count": null,
   "metadata": {},
   "outputs": [],
   "source": [
    "df.protocol = df.protocol.apply(lambda x: indices.index(x))"
   ]
  },
  {
   "cell_type": "code",
   "execution_count": null,
   "metadata": {},
   "outputs": [],
   "source": [
    "df.protocol.unique()"
   ]
  },
  {
   "cell_type": "code",
   "execution_count": null,
   "metadata": {},
   "outputs": [],
   "source": [
    "df.label.unique()"
   ]
  },
  {
   "cell_type": "code",
   "execution_count": null,
   "metadata": {},
   "outputs": [],
   "source": [
    "len(df.label.unique())"
   ]
  },
  {
   "cell_type": "code",
   "execution_count": null,
   "metadata": {},
   "outputs": [],
   "source": [
    "df = df.to_numpy()\n",
    "df.shape, df[0, -1]"
   ]
  },
  {
   "cell_type": "code",
   "execution_count": null,
   "metadata": {},
   "outputs": [],
   "source": [
    "# normalize payload, ttl, total_len\n",
    "for col_index in range(df.shape[1]-1):\n",
    "    column = df[:, col_index]\n",
    "    column_normalized = (column - np.min(column)) / (np.max(column) - np.min(column) + 0.1)\n",
    "    df[:, col_index] = column_normalized"
   ]
  },
  {
   "cell_type": "code",
   "execution_count": null,
   "metadata": {},
   "outputs": [],
   "source": [
    "def convert_dataset_to_grayscale_image(arr):\n",
    "    for idx in range(len(arr) - 5):\n",
    "        batch = arr[idx: idx + 5, :-1]\n",
    "        label = arr[idx + 5, -1]\n",
    "        print(batch.shape, label)\n",
    "        data = np.concatenate(batch)\n",
    "        print(data.shape)\n",
    "        \n",
    "        data = np.pad(data, pad_width=int((size-len(data))/2), constant_values=0)\n",
    "        print(data.shape)\n",
    "        data = data.reshape(height, width).astype('float64')\n",
    "        print(data.shape)\n",
    "        \n",
    "        plt.imshow(data, cmap='gray')\n",
    "        plt.axis('off')  # Remove axes\n",
    "        plt.show()\n",
    "        \n",
    "        break\n",
    "    print(\"DONE\")\n",
    "        \n",
    "convert_dataset_to_grayscale_image(df)"
   ]
  },
  {
   "cell_type": "code",
   "execution_count": null,
   "metadata": {},
   "outputs": [],
   "source": [
    "def convert_dataset_to_rgb_image(arr):\n",
    "    for idx in range(len(arr) - 5):\n",
    "        batch = arr[idx: idx + 5, :-1]\n",
    "        label = arr[idx + 5, -1]\n",
    "        print(batch.shape, label)\n",
    "        data = np.concatenate(batch)\n",
    "        print(data.shape)\n",
    "        \n",
    "        data = np.pad(data, pad_width=int((size-len(data))/2), constant_values=0)\n",
    "        data = data.reshape(height, width)\n",
    "        \n",
    "        channel_1 = data.astype('float64')\n",
    "        print(channel_1.shape)\n",
    "        channel_2 = np.rot90(channel_1, k=2).reshape(height, width)\n",
    "        print(channel_2.shape)\n",
    "        channel_3 = np.rot90(channel_2, k=2).reshape(height, width)\n",
    "        print(channel_3.shape)\n",
    "        img = np.stack((channel_1, channel_2, channel_3)).transpose((1, 2, 0))\n",
    "        print(img.shape)\n",
    "        \n",
    "        plt.imshow(img)\n",
    "        plt.axis('off')  # Remove axes\n",
    "        plt.show()\n",
    "        \n",
    "        break\n",
    "    print(\"DONE\")\n",
    "        \n",
    "convert_dataset_to_rgb_image(df)"
   ]
  },
  {
   "cell_type": "code",
   "execution_count": null,
   "metadata": {},
   "outputs": [],
   "source": [
    "with open(csv_file, 'w') as f:\n",
    "    np.savetxt(f, [np.array([\"file_name\", \"label\"])], delimiter=',', fmt='%s')\n",
    "\n",
    "def convert_dataset_to_image(arr):\n",
    "    with open(csv_file, 'a') as f:\n",
    "        for idx in range(len(arr) - 5):\n",
    "            batch = arr[idx: idx + 5, :-1]\n",
    "            label = arr[idx + 5, -1]\n",
    "            data = np.concatenate(batch)\n",
    "            if idx % 1000 == 0:\n",
    "                print(idx, label)\n",
    "            \n",
    "            data = np.pad(data, pad_width=int((size-len(data))/2), constant_values=0)\n",
    "            data = data.reshape(height, width)\n",
    "            \n",
    "            channel_1 = data.astype('float64')\n",
    "            channel_2 = np.rot90(channel_1, k=2).reshape(height, width)\n",
    "            channel_3 = np.rot90(channel_2, k=2).reshape(height, width)\n",
    "            img = np.stack((channel_1, channel_2, channel_3)).transpose((1, 2, 0))\n",
    "            \n",
    "            file_name = f\"unswnb15_{idx}.png\"\n",
    "            cv2.imwrite(path+\"\\image_serialized_5_non_shuffled\\\\\"+file_name, img*255)\n",
    "            \n",
    "            log = np.array([file_name, label])\n",
    "            np.savetxt(f, [log], delimiter=',', fmt='%s')\n",
    "    print(\"DONE\")\n",
    "        \n",
    "\n",
    "convert_dataset_to_image(df)"
   ]
  }
 ],
 "metadata": {
  "language_info": {
   "name": "python"
  }
 },
 "nbformat": 4,
 "nbformat_minor": 2
}
