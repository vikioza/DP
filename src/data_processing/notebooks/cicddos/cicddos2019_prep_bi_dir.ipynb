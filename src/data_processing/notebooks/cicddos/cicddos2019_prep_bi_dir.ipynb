{
 "cells": [
  {
   "cell_type": "code",
   "execution_count": null,
   "metadata": {},
   "outputs": [],
   "source": [
    "import os\n",
    "import sys\n",
    "# Get the directory where the current script is located\n",
    "current_dir = os.path.dirname(os.getcwd()).split('\\\\')\n",
    "\n",
    "# Construct the path to your target folder (e.g., 'data' inside the repo)\n",
    "target_folder = \"/\".join(current_dir[:current_dir.index('src')+1])\n",
    "sys.path.append(os.path.abspath(target_folder))"
   ]
  },
  {
   "cell_type": "code",
   "execution_count": null,
   "metadata": {},
   "outputs": [],
   "source": [
    "import pandas as pd\n",
    "import numpy as np\n",
    "import matplotlib.pyplot as plt\n",
    "import cv2"
   ]
  },
  {
   "cell_type": "code",
   "execution_count": null,
   "metadata": {},
   "outputs": [],
   "source": [
    "height = 128\n",
    "width = 128\n",
    "size = height*width\n",
    "windows_size = 5\n",
    "path = \"C:\\VScode_Projects\\DP\\datasets\\CIC-DDoS-2019\\clean\"\n",
    "image_dir_name = \"\\image_bi_dir\\\\\"\n",
    "csv_file = path + \"\\cicddos2019_img_bi_dir.csv\""
   ]
  },
  {
   "cell_type": "code",
   "execution_count": null,
   "metadata": {},
   "outputs": [],
   "source": [
    "df = pd.read_csv(path+\"\\labeled_sample.csv\")"
   ]
  },
  {
   "cell_type": "code",
   "execution_count": null,
   "metadata": {},
   "outputs": [],
   "source": [
    "df.info()"
   ]
  },
  {
   "cell_type": "code",
   "execution_count": null,
   "metadata": {},
   "outputs": [],
   "source": [
    "df.columns"
   ]
  },
  {
   "cell_type": "code",
   "execution_count": null,
   "metadata": {},
   "outputs": [],
   "source": [
    "cols_to_move = ['src_ip', 'src_p', 'dst_ip', 'dst_p']\n",
    "for col_move in cols_to_move:\n",
    "    df = df[[col for col in df.columns if col != col_move] + [col_move]]"
   ]
  },
  {
   "cell_type": "code",
   "execution_count": null,
   "metadata": {},
   "outputs": [],
   "source": [
    "df.protocol.unique()"
   ]
  },
  {
   "cell_type": "code",
   "execution_count": null,
   "metadata": {},
   "outputs": [],
   "source": [
    "df.label.unique()"
   ]
  },
  {
   "cell_type": "code",
   "execution_count": null,
   "metadata": {},
   "outputs": [],
   "source": [
    "len(df.label.unique())"
   ]
  },
  {
   "cell_type": "code",
   "execution_count": null,
   "metadata": {},
   "outputs": [],
   "source": [
    "df.label.value_counts() / len(df)"
   ]
  },
  {
   "cell_type": "code",
   "execution_count": null,
   "metadata": {},
   "outputs": [],
   "source": [
    "df = df.to_numpy()\n",
    "df.shape"
   ]
  },
  {
   "cell_type": "code",
   "execution_count": null,
   "metadata": {},
   "outputs": [],
   "source": [
    "# normalize payload, ttl, total_len\n",
    "for col_index in range(df.shape[1]-7):\n",
    "    column = df[:, col_index]\n",
    "    column_normalized = (column - np.min(column)) / (np.max(column) - np.min(column))\n",
    "    df[:, col_index] = column_normalized"
   ]
  },
  {
   "cell_type": "code",
   "execution_count": null,
   "metadata": {},
   "outputs": [],
   "source": [
    "# inspect t_delta\n",
    "print(np.min(df[:, -6]), np.max(df[:, -6]))"
   ]
  },
  {
   "cell_type": "code",
   "execution_count": null,
   "metadata": {},
   "outputs": [],
   "source": [
    "# normalize t_delta\n",
    "column = df[:, -6]\n",
    "column_normalized = (column - np.min(column)) / (np.max(column) - np.min(column))\n",
    "df[:, -6] = column_normalized"
   ]
  },
  {
   "cell_type": "code",
   "execution_count": null,
   "metadata": {},
   "outputs": [],
   "source": [
    "def convert_dataset_to_grayscale_image(arr):\n",
    "    for idx, row in enumerate(arr):\n",
    "        print(row.shape)\n",
    "        data = row[:-4]\n",
    "        print(data.shape)\n",
    "        idset = list(row[-4:]) + [row[-7]]\n",
    "        srcip = idset[0]\n",
    "        idset = frozenset(idset)\n",
    "        print(idset, srcip)\n",
    "        data = data[:-1]\n",
    "        label = data[-1]\n",
    "        print(data.shape)\n",
    "        print(label)\n",
    "        \n",
    "        # data = np.pad(data, pad_width=int((size-len(data))/2), constant_values=0)\n",
    "        # print(data.shape)\n",
    "        # data = data.reshape(height, width).astype('float64')\n",
    "        # print(data.shape)\n",
    "        \n",
    "        # plt.imshow(data, cmap='gray')\n",
    "        # plt.axis('off')  # Remove axes\n",
    "        # plt.show()\n",
    "        \n",
    "        break\n",
    "    print(\"DONE\")\n",
    "        \n",
    "convert_dataset_to_grayscale_image(df)"
   ]
  },
  {
   "cell_type": "code",
   "execution_count": null,
   "metadata": {},
   "outputs": [],
   "source": [
    "from sniffer.flow import FlowControl"
   ]
  },
  {
   "cell_type": "code",
   "execution_count": null,
   "metadata": {},
   "outputs": [],
   "source": [
    "def gray_filter(img, tolerance):\n",
    "    img = img\n",
    "    R, G, B = img[:, :, 0], img[:, :, 1], img[:, :, 2]\n",
    "    gray_mask = np.abs(R - G) < tolerance\n",
    "    img_no_gray = img.copy()\n",
    "    img_no_gray[gray_mask] = [0, 0, 0]\n",
    "    for c in range(3):\n",
    "        channel = img_no_gray[:, :, c]\n",
    "        mean = channel.mean()\n",
    "        std = channel.std()\n",
    "        if mean == 0 or std == 0:\n",
    "            continue\n",
    "        img_no_gray[:, :, c] = (channel - mean) / std\n",
    "    return img_no_gray"
   ]
  },
  {
   "cell_type": "code",
   "execution_count": null,
   "metadata": {},
   "outputs": [],
   "source": [
    "def convert_dataset_to_rgb_image(arr):\n",
    "    flows = FlowControl()\n",
    "    for idx, row in enumerate(arr):\n",
    "        print(row.shape)\n",
    "        idset = list(row[-4:]) + [row[-7]]\n",
    "        srcip = idset[0]\n",
    "        idset = frozenset(idset)\n",
    "        print(idset, srcip)\n",
    "        data = row[:-5]\n",
    "        label = row[-5]\n",
    "        print(data.shape)\n",
    "        print(label)\n",
    "        \n",
    "        channel_1, channel_2 = flows.attach_dict(idset=idset, data=data, srcip=srcip, window_size=windows_size)\n",
    "        \n",
    "        channel_1 = np.array(channel_1).flatten()\n",
    "        channel_1 = np.pad(channel_1, pad_width=int((size-len(channel_1))/2), constant_values=0)\n",
    "        channel_1 = channel_1.reshape(height, width)\n",
    "        \n",
    "        channel_2 = np.array(channel_2).flatten()\n",
    "        channel_2 = np.pad(channel_2, pad_width=int((size-len(channel_2))/2), constant_values=0)\n",
    "        channel_2 = channel_2.reshape(height, width)\n",
    "        \n",
    "        channel_1 = channel_1.astype('float64')\n",
    "        print(channel_1.shape)\n",
    "        channel_2 = channel_2.astype('float64')\n",
    "        print(channel_2.shape)\n",
    "        channel_3 = channel_3 = np.zeros(shape=(height, width))\n",
    "        print(channel_3.shape)\n",
    "        img = np.stack((channel_1, channel_2, channel_3)).transpose((1, 2, 0))\n",
    "        print(img.shape)\n",
    "        \n",
    "        image = gray_filter(img, 0.1)\n",
    "        \n",
    "        plt.imshow(image)\n",
    "        plt.axis('off')  # Remove axes\n",
    "        plt.show() \n",
    "        break\n",
    "    \n",
    "    print(\"DONE\")\n",
    "        \n",
    "convert_dataset_to_rgb_image(df)"
   ]
  },
  {
   "cell_type": "code",
   "execution_count": null,
   "metadata": {},
   "outputs": [],
   "source": [
    "with open(csv_file, 'w') as f:\n",
    "    np.savetxt(f, [np.array([\"file_name\", \"label\"])], delimiter=',', fmt='%s')\n",
    "\n",
    "def convert_dataset_to_image(arr):\n",
    "    flows = FlowControl()\n",
    "    with open(csv_file, 'a') as f:\n",
    "        for idx, row in enumerate(arr):\n",
    "            idset = list(row[-4:]) + [row[-7]]\n",
    "            srcip = idset[0]\n",
    "            idset = frozenset(idset)\n",
    "            data = row[:-5]\n",
    "            label = row[-5]\n",
    "        \n",
    "            if idx % 10_000 == 0:\n",
    "                    print(idx, label)\n",
    "                    \n",
    "            channel_1, channel_2 = flows.attach_dict(idset=idset, data=data, srcip=srcip, window_size=windows_size)\n",
    "            channel_1 = np.array(channel_1).flatten()\n",
    "            channel_2 = np.array(channel_2).flatten()\n",
    "            \n",
    "            channel_1 = np.pad(channel_1, pad_width=int((size-len(channel_1))/2), constant_values=0)\n",
    "            channel_1 = channel_1.reshape(height, width)\n",
    "            \n",
    "            channel_2 = np.pad(channel_2, pad_width=int((size-len(channel_2))/2), constant_values=0)\n",
    "            channel_2 = channel_2.reshape(height, width)\n",
    "            \n",
    "            channel_1 = channel_1.astype('float64')\n",
    "            channel_2 = channel_2.astype('float64')\n",
    "            channel_3 = np.zeros(shape=(height, width))\n",
    "            img = np.stack((channel_1, channel_2, channel_3)).transpose((1, 2, 0))\n",
    "            \n",
    "            file_name = f\"cic_ddos_2019_{idx}.png\"\n",
    "            \n",
    "            image = gray_filter(img, 0.1)\n",
    "            cv2.imwrite(path+image_dir_name+file_name, image)\n",
    "            \n",
    "            log = np.array([file_name, label])\n",
    "            np.savetxt(f, [log], delimiter=',', fmt='%s')\n",
    "    print(\"DONE\")\n",
    "        \n",
    "convert_dataset_to_image(df)"
   ]
  }
 ],
 "metadata": {
  "language_info": {
   "name": "python"
  }
 },
 "nbformat": 4,
 "nbformat_minor": 2
}
