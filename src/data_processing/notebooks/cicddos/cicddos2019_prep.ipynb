{
 "cells": [
  {
   "cell_type": "code",
   "execution_count": null,
   "metadata": {},
   "outputs": [],
   "source": [
    "import pandas as pd\n",
    "import numpy as np\n",
    "import matplotlib.pyplot as plt\n",
    "import cv2"
   ]
  },
  {
   "cell_type": "code",
   "execution_count": null,
   "metadata": {},
   "outputs": [],
   "source": [
    "height = 32\n",
    "width = 64\n",
    "size = height*width\n",
    "path = \"C:\\VScode_Projects\\DP\\datasets\\CIC-DDoS-2019\\clean\"\n",
    "csv_file = path + \"\\cicddos2019_img.csv\""
   ]
  },
  {
   "cell_type": "code",
   "execution_count": null,
   "metadata": {},
   "outputs": [],
   "source": [
    "df = pd.read_csv(path+\"\\labeled_sample.csv\")"
   ]
  },
  {
   "cell_type": "code",
   "execution_count": null,
   "metadata": {},
   "outputs": [],
   "source": [
    "df = df.drop_duplicates()"
   ]
  },
  {
   "cell_type": "code",
   "execution_count": null,
   "metadata": {},
   "outputs": [],
   "source": [
    "df.info()"
   ]
  },
  {
   "cell_type": "code",
   "execution_count": null,
   "metadata": {},
   "outputs": [],
   "source": [
    "df.columns"
   ]
  },
  {
   "cell_type": "code",
   "execution_count": null,
   "metadata": {},
   "outputs": [],
   "source": [
    "df.protocol.unique()"
   ]
  },
  {
   "cell_type": "code",
   "execution_count": null,
   "metadata": {},
   "outputs": [],
   "source": [
    "df.label.unique()"
   ]
  },
  {
   "cell_type": "code",
   "execution_count": null,
   "metadata": {},
   "outputs": [],
   "source": [
    "len(df.label.unique())"
   ]
  },
  {
   "cell_type": "code",
   "execution_count": null,
   "metadata": {},
   "outputs": [],
   "source": [
    "df.label.value_counts() / len(df)"
   ]
  },
  {
   "cell_type": "code",
   "execution_count": null,
   "metadata": {},
   "outputs": [],
   "source": [
    "downsampled = df[df['label'] == 'UDP'].sample(frac=0.1, random_state=42) \n",
    "other_labels = df[df['label'] != 'UDP']\n",
    "df = pd.concat([downsampled, other_labels])"
   ]
  },
  {
   "cell_type": "code",
   "execution_count": null,
   "metadata": {},
   "outputs": [],
   "source": [
    "df.label.value_counts() / len(df)"
   ]
  },
  {
   "cell_type": "code",
   "execution_count": null,
   "metadata": {},
   "outputs": [],
   "source": [
    "df = df.to_numpy()\n",
    "df.shape"
   ]
  },
  {
   "cell_type": "code",
   "execution_count": null,
   "metadata": {},
   "outputs": [],
   "source": [
    "# normalize payload, ttl, total_len\n",
    "for col_index in range(df.shape[1]-3):\n",
    "    column = df[:, col_index]\n",
    "    column_normalized = (column - np.min(column)) / (np.max(column) - np.min(column))\n",
    "    df[:, col_index] = column_normalized"
   ]
  },
  {
   "cell_type": "code",
   "execution_count": null,
   "metadata": {},
   "outputs": [],
   "source": [
    "# inspect t_delta\n",
    "print(np.min(df[:, -2]), np.max(df[:, -2]))"
   ]
  },
  {
   "cell_type": "code",
   "execution_count": null,
   "metadata": {},
   "outputs": [],
   "source": [
    "# normalize t_delta\n",
    "column = df[:, -2]\n",
    "column_normalized = (column - np.min(column)) / (np.max(column) - np.min(column))\n",
    "df[:, -2] = column_normalized"
   ]
  },
  {
   "cell_type": "code",
   "execution_count": null,
   "metadata": {},
   "outputs": [],
   "source": [
    "def convert_dataset_to_grayscale_image(arr):\n",
    "    for idx, row in enumerate(arr):\n",
    "        data = row[:-1]\n",
    "        label = row[-1]\n",
    "        print(data.shape)\n",
    "        print(label)\n",
    "        \n",
    "        data = np.pad(data, pad_width=int((size-len(data))/2), constant_values=0)\n",
    "        print(data.shape)\n",
    "        data = data.reshape(height, width).astype('float64')\n",
    "        print(data.shape)\n",
    "        \n",
    "        plt.imshow(data, cmap='gray')\n",
    "        plt.axis('off')  # Remove axes\n",
    "        plt.show()\n",
    "        \n",
    "        break\n",
    "    print(\"DONE\")\n",
    "        \n",
    "convert_dataset_to_grayscale_image(df)"
   ]
  },
  {
   "cell_type": "code",
   "execution_count": null,
   "metadata": {},
   "outputs": [],
   "source": [
    "def convert_dataset_to_rgb_image(arr):\n",
    "    for idx, row in enumerate(arr):\n",
    "        data = row[:-1]\n",
    "        label = row[-1]\n",
    "        print(data.shape)\n",
    "        print(label)\n",
    "        \n",
    "        data = np.pad(data, pad_width=int((size-len(data))/2), constant_values=0)\n",
    "        data = data.reshape(height, width)\n",
    "        \n",
    "        channel_1 = data.astype('float64')\n",
    "        print(channel_1.shape)\n",
    "        channel_2 = np.rot90(channel_1, k=2).reshape(height, width)\n",
    "        print(channel_2.shape)\n",
    "        channel_3 = np.rot90(channel_2, k=2).reshape(height, width)\n",
    "        print(channel_3.shape)\n",
    "        img = np.stack((channel_1, channel_2, channel_3)).transpose((1, 2, 0))\n",
    "        print(img.shape)\n",
    "        \n",
    "        plt.imshow(img)\n",
    "        plt.axis('off')  # Remove axes\n",
    "        plt.show()\n",
    "        \n",
    "        break\n",
    "    print(\"DONE\")\n",
    "        \n",
    "convert_dataset_to_rgb_image(df)"
   ]
  },
  {
   "cell_type": "code",
   "execution_count": null,
   "metadata": {},
   "outputs": [],
   "source": [
    "with open(csv_file, 'w') as f:\n",
    "    np.savetxt(f, [np.array([\"file_name\", \"label\"])], delimiter=',', fmt='%s')\n",
    "\n",
    "def convert_dataset_to_image(arr):\n",
    "    with open(csv_file, 'a') as f:\n",
    "        for idx, row in enumerate(arr):\n",
    "            data = row[:-1]\n",
    "            label = row[-1]\n",
    "            if idx % 10_000 == 0:\n",
    "                    print(idx, label)\n",
    "            \n",
    "            data = np.pad(data, pad_width=int((size-len(data))/2), constant_values=0)\n",
    "            data = data.reshape(height, width)\n",
    "            \n",
    "            channel_1 = data.astype('float64')\n",
    "            channel_2 = np.rot90(channel_1, k=2).reshape(height, width)\n",
    "            channel_3 = np.rot90(channel_2, k=2).reshape(height, width)\n",
    "            img = np.stack((channel_1, channel_2, channel_3)).transpose((1, 2, 0))\n",
    "            \n",
    "            file_name = f\"cic_ddos_2019_{idx}.png\"\n",
    "            cv2.imwrite(path+\"\\image\\\\\"+file_name, img*255)\n",
    "            \n",
    "            log = np.array([file_name, label])\n",
    "            np.savetxt(f, [log], delimiter=',', fmt='%s')\n",
    "    print(\"DONE\")\n",
    "        \n",
    "convert_dataset_to_image(df)"
   ]
  }
 ],
 "metadata": {
  "language_info": {
   "name": "python"
  }
 },
 "nbformat": 4,
 "nbformat_minor": 2
}
