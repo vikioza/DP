{
 "cells": [
  {
   "cell_type": "code",
   "execution_count": null,
   "metadata": {},
   "outputs": [],
   "source": [
    "import glob\n",
    "import pandas as pd"
   ]
  },
  {
   "cell_type": "code",
   "execution_count": null,
   "metadata": {},
   "outputs": [],
   "source": [
    "CSV_DIR = \"C:\\VScode_Projects\\DP\\datasets\\CIC-DDoS-2019\\\\raw\\csv\\\\03-11\"\n",
    "COLS = [\n",
    "    \"Flow ID\",\n",
    "    \" Source IP\",\n",
    "    \" Source Port\",\n",
    "    \" Destination IP\",\n",
    "    \" Destination Port\",\n",
    "    \" Protocol\",\n",
    "    \" Timestamp\",\n",
    "    \" Flow Duration\",\n",
    "    \" Label\",\n",
    "]"
   ]
  },
  {
   "cell_type": "code",
   "execution_count": null,
   "metadata": {},
   "outputs": [],
   "source": [
    "def read_csv(dir: str, cols: list = None):\n",
    "    print(\"READING CSV FILES...\")\n",
    "\n",
    "    extension = \"*.csv\"\n",
    "    files = glob.glob(f\"{dir}/{extension}\")\n",
    "\n",
    "    dfs = []\n",
    "    for file in files:\n",
    "        print(f\"READING {file}\")\n",
    "        if cols:\n",
    "            dfs.append(pd.read_csv(file, usecols=cols))\n",
    "        else:\n",
    "            dfs.append(pd.read_csv(file))\n",
    "\n",
    "    print(\"MERGING CSV FILES...\")\n",
    "    df = pd.concat(dfs, ignore_index=True)\n",
    "    df.columns = df.columns.str.strip()\n",
    "\n",
    "    print('DROPPING ROWS WITH MISSING \"Flow ID\"...')\n",
    "    df = df.drop(df[pd.isnull(df[\"Flow ID\"])].index)\n",
    "\n",
    "    df[\"Timestamp\"] = pd.to_datetime(df[\"Timestamp\"])\n",
    "    min_timestamp = df[\"Timestamp\"].min()\n",
    "\n",
    "    return df, min_timestamp"
   ]
  },
  {
   "cell_type": "code",
   "execution_count": null,
   "metadata": {},
   "outputs": [],
   "source": [
    "df, _ = read_csv(CSV_DIR, COLS)\n",
    "df"
   ]
  },
  {
   "cell_type": "code",
   "execution_count": null,
   "metadata": {},
   "outputs": [],
   "source": [
    "df = df.rename(columns={\"Timestamp\": \"stime\", \"Flow Duration\": \"dur\"})"
   ]
  },
  {
   "cell_type": "code",
   "execution_count": null,
   "metadata": {},
   "outputs": [],
   "source": [
    "df[\"stime\"] = df[\"stime\"].apply(lambda x: x.timestamp())"
   ]
  },
  {
   "cell_type": "code",
   "execution_count": null,
   "metadata": {},
   "outputs": [],
   "source": [
    "df.head(5)"
   ]
  },
  {
   "cell_type": "code",
   "execution_count": null,
   "metadata": {},
   "outputs": [],
   "source": [
    "output_file = \"C:\\VScode_Projects\\DP\\datasets\\CIC-DDoS-2019\\clean\\labeled_sample.csv\"\n",
    "counter = 0\n",
    "for chunk in pd.read_csv(\"C:\\VScode_Projects\\DP\\datasets\\CIC-DDoS-2019\\clean\\sample.csv\", chunksize=100_000):\n",
    "    temp1 = pd.merge(chunk, df, how=\"left\", left_on=[\"src_ip\", \"src_p\", \"dst_ip\", \"dst_p\", \"protocol.1\",], right_on=[\"Source IP\", \"Source Port\", \"Destination IP\", \"Destination Port\", \"Protocol\"])\n",
    "    temp2 = pd.merge(chunk, df, how=\"left\", left_on=[\"src_ip\", \"src_p\", \"dst_ip\", \"dst_p\", \"protocol.1\",], right_on=[\"Destination IP\", \"Destination Port\", \"Source IP\", \"Source Port\", \"Protocol\"])\n",
    "    combine = pd.concat([temp1, temp2])\n",
    "    combine.drop_duplicates(inplace=True)\n",
    "    combine = combine[\n",
    "        (combine[\"stime\"] <= combine[\"timestamp\"])\n",
    "        & (combine[\"timestamp\"] <= combine[\"stime\"] + combine[\"dur\"])\n",
    "    ]\n",
    "    combine = combine.drop(columns=[\"stime\", \"dur\", \"timestamp\", \"Flow ID\", \"src_ip\", \"src_p\", \"dst_ip\", \"dst_p\", \"protocol.1\", \"Source IP\", \"Source Port\", \"Destination IP\", \"Destination Port\", \"Protocol\"])\n",
    "    combine = combine.rename(columns={\"Label\": \"label\"})\n",
    "    if counter == 0:\n",
    "        combine.to_csv(output_file, index=False, mode='w', header=True)\n",
    "    else:\n",
    "        combine.to_csv(output_file, index=False, mode='a', header=False)\n",
    "    counter += 1\n",
    "    if counter == 100:\n",
    "        break"
   ]
  },
  {
   "cell_type": "code",
   "execution_count": null,
   "metadata": {},
   "outputs": [],
   "source": [
    "df_check = pd.read_csv(\"C:\\VScode_Projects\\DP\\datasets\\CIC-DDoS-2019\\clean\\labeled_sample.csv\")"
   ]
  },
  {
   "cell_type": "code",
   "execution_count": null,
   "metadata": {},
   "outputs": [],
   "source": [
    "df_check.label.unique()"
   ]
  },
  {
   "cell_type": "code",
   "execution_count": null,
   "metadata": {},
   "outputs": [],
   "source": [
    "df_check.label.value_counts()"
   ]
  }
 ],
 "metadata": {
  "language_info": {
   "name": "python"
  }
 },
 "nbformat": 4,
 "nbformat_minor": 2
}
