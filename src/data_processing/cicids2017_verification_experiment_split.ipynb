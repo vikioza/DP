{
 "cells": [
  {
   "cell_type": "code",
   "execution_count": null,
   "metadata": {},
   "outputs": [],
   "source": [
    "import pandas as pd"
   ]
  },
  {
   "cell_type": "code",
   "execution_count": null,
   "metadata": {},
   "outputs": [],
   "source": [
    "path = \"..\\..\\datasets\\CIC-IDS-2017\"\n",
    "csv_file = path + \"\\cicids2017_img.csv\""
   ]
  },
  {
   "cell_type": "code",
   "execution_count": null,
   "metadata": {},
   "outputs": [],
   "source": [
    "df = pd.read_csv(csv_file)"
   ]
  },
  {
   "cell_type": "code",
   "execution_count": null,
   "metadata": {},
   "outputs": [],
   "source": [
    "df.info()"
   ]
  },
  {
   "cell_type": "code",
   "execution_count": null,
   "metadata": {},
   "outputs": [],
   "source": [
    "df.label.unique()"
   ]
  },
  {
   "cell_type": "code",
   "execution_count": null,
   "metadata": {},
   "outputs": [],
   "source": [
    "df.label.value_counts() / len(df)"
   ]
  },
  {
   "cell_type": "code",
   "execution_count": null,
   "metadata": {},
   "outputs": [],
   "source": [
    "# choose 3 attacks from the list above\n",
    "attacks= [\"DoS GoldenEye\", \"SSH-Patator\", \"Heartbleed\"]\n",
    "\n",
    "# Create a mask for rows with chosen attacks\n",
    "mask = df['label'].isin(attacks)\n",
    "\n",
    "# Split the DataFrame into two parts\n",
    "df_with_new_attacks= df[mask]\n",
    "df_for_training = df[~mask]"
   ]
  },
  {
   "cell_type": "code",
   "execution_count": null,
   "metadata": {},
   "outputs": [],
   "source": [
    "# save the new split as csv files\n",
    "df_with_new_attacks.to_csv(path + \"\\cicids2017_img_new_attacks.csv\", index=False)\n",
    "df_for_training.to_csv(path + \"\\cicids2017_img_selection.csv\", index=False)"
   ]
  }
 ],
 "metadata": {
  "language_info": {
   "name": "python"
  }
 },
 "nbformat": 4,
 "nbformat_minor": 2
}
