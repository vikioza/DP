{
  "cells": [
    {
      "cell_type": "code",
      "execution_count": 1,
      "metadata": {},
      "outputs": [
        {
          "name": "stderr",
          "output_type": "stream",
          "text": [
            "C:\\Users\\vikio\\AppData\\Local\\Temp\\ipykernel_10648\\2836724294.py:1: DeprecationWarning: \n",
            "Pyarrow will become a required dependency of pandas in the next major release of pandas (pandas 3.0),\n",
            "(to allow more performant data types, such as the Arrow string type, and better interoperability with other libraries)\n",
            "but was not found to be installed on your system.\n",
            "If this would cause problems for you,\n",
            "please provide us feedback at https://github.com/pandas-dev/pandas/issues/54466\n",
            "        \n",
            "  import pandas as pd\n"
          ]
        }
      ],
      "source": [
        "import pandas as pd\n",
        "import numpy as np\n",
        "import matplotlib.pyplot as plt\n",
        "import cv2"
      ]
    },
    {
      "cell_type": "code",
      "execution_count": 25,
      "metadata": {},
      "outputs": [],
      "source": [
        "height = 64\n",
        "width = 128\n",
        "size = height*width\n",
        "path = \"..\\..\\datasets\\CIC-IDS-2017\"\n",
        "csv_file = path + \"\\cicids2017_img_serialized_5.csv\""
      ]
    },
    {
      "cell_type": "code",
      "execution_count": 3,
      "metadata": {},
      "outputs": [],
      "source": [
        "df = pd.read_csv(path+\"\\CICIDS_converted_data.csv\")"
      ]
    },
    {
      "cell_type": "code",
      "execution_count": 4,
      "metadata": {},
      "outputs": [],
      "source": [
        "df = df.drop_duplicates()"
      ]
    },
    {
      "cell_type": "code",
      "execution_count": 5,
      "metadata": {},
      "outputs": [
        {
          "name": "stdout",
          "output_type": "stream",
          "text": [
            "<class 'pandas.core.frame.DataFrame'>\n",
            "Index: 763416 entries, 0 to 1410250\n",
            "Columns: 1505 entries, payload_byte_1 to label\n",
            "dtypes: float64(1), int64(1502), object(2)\n",
            "memory usage: 8.6+ GB\n"
          ]
        }
      ],
      "source": [
        "df.info()"
      ]
    },
    {
      "cell_type": "code",
      "execution_count": 6,
      "metadata": {},
      "outputs": [
        {
          "data": {
            "text/plain": [
              "Index(['payload_byte_1', 'payload_byte_2', 'payload_byte_3', 'payload_byte_4',\n",
              "       'payload_byte_5', 'payload_byte_6', 'payload_byte_7', 'payload_byte_8',\n",
              "       'payload_byte_9', 'payload_byte_10',\n",
              "       ...\n",
              "       'payload_byte_1496', 'payload_byte_1497', 'payload_byte_1498',\n",
              "       'payload_byte_1499', 'payload_byte_1500', 'ttl', 'total_len',\n",
              "       'protocol', 't_delta', 'label'],\n",
              "      dtype='object', length=1505)"
            ]
          },
          "execution_count": 6,
          "metadata": {},
          "output_type": "execute_result"
        }
      ],
      "source": [
        "df.columns"
      ]
    },
    {
      "cell_type": "code",
      "execution_count": 7,
      "metadata": {},
      "outputs": [
        {
          "data": {
            "text/plain": [
              "array(['udp', 'tcp'], dtype=object)"
            ]
          },
          "execution_count": 7,
          "metadata": {},
          "output_type": "execute_result"
        }
      ],
      "source": [
        "df.protocol.unique()"
      ]
    },
    {
      "cell_type": "code",
      "execution_count": 8,
      "metadata": {},
      "outputs": [],
      "source": [
        "df.protocol = df.protocol.apply(lambda x: 1 if x == \"tcp\" else 0 )"
      ]
    },
    {
      "cell_type": "code",
      "execution_count": 9,
      "metadata": {},
      "outputs": [
        {
          "data": {
            "text/plain": [
              "array([0, 1], dtype=int64)"
            ]
          },
          "execution_count": 9,
          "metadata": {},
          "output_type": "execute_result"
        }
      ],
      "source": [
        "df.protocol.unique()"
      ]
    },
    {
      "cell_type": "code",
      "execution_count": 10,
      "metadata": {},
      "outputs": [
        {
          "data": {
            "text/plain": [
              "array(['BENIGN', 'Bot', 'DDoS', 'DoS GoldenEye', 'DoS Hulk',\n",
              "       'DoS Slowhttptest', 'DoS slowloris', 'FTP-Patator', 'Heartbleed',\n",
              "       'Infiltration', 'PortScan', 'SSH-Patator',\n",
              "       'Web Attack – Brute Force', 'Web Attack – Sql Injection',\n",
              "       'Web Attack – XSS'], dtype=object)"
            ]
          },
          "execution_count": 10,
          "metadata": {},
          "output_type": "execute_result"
        }
      ],
      "source": [
        "LABELS = df.label.unique()\n",
        "LABELS"
      ]
    },
    {
      "cell_type": "code",
      "execution_count": 11,
      "metadata": {},
      "outputs": [
        {
          "data": {
            "text/plain": [
              "15"
            ]
          },
          "execution_count": 11,
          "metadata": {},
          "output_type": "execute_result"
        }
      ],
      "source": [
        "len(df.label.unique())"
      ]
    },
    {
      "cell_type": "code",
      "execution_count": 12,
      "metadata": {},
      "outputs": [
        {
          "data": {
            "text/plain": [
              "label\n",
              "BENIGN                        0.414680\n",
              "DoS Hulk                      0.181884\n",
              "DoS GoldenEye                 0.139702\n",
              "DoS slowloris                 0.080010\n",
              "DoS Slowhttptest              0.077863\n",
              "SSH-Patator                   0.049592\n",
              "Infiltration                  0.022054\n",
              "FTP-Patator                   0.016920\n",
              "Web Attack – Brute Force      0.009302\n",
              "Bot                           0.002675\n",
              "Web Attack – XSS              0.002379\n",
              "Heartbleed                    0.001606\n",
              "DDoS                          0.001078\n",
              "PortScan                      0.000242\n",
              "Web Attack – Sql Injection    0.000014\n",
              "Name: count, dtype: float64"
            ]
          },
          "execution_count": 12,
          "metadata": {},
          "output_type": "execute_result"
        }
      ],
      "source": [
        "df.label.value_counts() / len(df)"
      ]
    },
    {
      "cell_type": "code",
      "execution_count": 13,
      "metadata": {},
      "outputs": [],
      "source": [
        "df = pd.get_dummies(df, columns=['label'])"
      ]
    },
    {
      "cell_type": "code",
      "execution_count": 14,
      "metadata": {},
      "outputs": [
        {
          "data": {
            "text/plain": [
              "(763416, 1519)"
            ]
          },
          "execution_count": 14,
          "metadata": {},
          "output_type": "execute_result"
        }
      ],
      "source": [
        "df = df.to_numpy()\n",
        "df.shape"
      ]
    },
    {
      "cell_type": "code",
      "execution_count": 15,
      "metadata": {},
      "outputs": [
        {
          "data": {
            "text/plain": [
              "(dtype('O'), 9277031232)"
            ]
          },
          "execution_count": 15,
          "metadata": {},
          "output_type": "execute_result"
        }
      ],
      "source": [
        "df.dtype, df.nbytes"
      ]
    },
    {
      "cell_type": "code",
      "execution_count": 18,
      "metadata": {},
      "outputs": [],
      "source": [
        "# normalize payload, ttl, total_len\n",
        "for col_index in range(df.shape[1]-17):\n",
        "    column = df[:, col_index]\n",
        "    column_normalized = (column - np.min(column)) / (np.max(column) - np.min(column))\n",
        "    df[:, col_index] = column_normalized"
      ]
    },
    {
      "cell_type": "code",
      "execution_count": 16,
      "metadata": {},
      "outputs": [
        {
          "name": "stdout",
          "output_type": "stream",
          "text": [
            "-1.8e-05 58.352796\n"
          ]
        }
      ],
      "source": [
        "# inspect t_delta\n",
        "print(np.min(df[:, -16]), np.max(df[:, -16]))"
      ]
    },
    {
      "cell_type": "code",
      "execution_count": 17,
      "metadata": {},
      "outputs": [],
      "source": [
        "# normalize t_delta\n",
        "column = df[:, -16]\n",
        "column_normalized = (column - np.min(column)) / (np.max(column) - np.min(column))\n",
        "df[:, -16] = column_normalized"
      ]
    },
    {
      "cell_type": "code",
      "execution_count": 19,
      "metadata": {},
      "outputs": [
        {
          "data": {
            "text/plain": [
              "(dtype('float16'), 2319257808)"
            ]
          },
          "execution_count": 19,
          "metadata": {},
          "output_type": "execute_result"
        }
      ],
      "source": [
        "df = df.astype(np.float16)\n",
        "df.dtype, df.nbytes"
      ]
    },
    {
      "cell_type": "code",
      "execution_count": 20,
      "metadata": {},
      "outputs": [
        {
          "data": {
            "text/plain": [
              "((763416, 1519),\n",
              " array([0., 0., 0., 1., 0., 0., 0., 0., 0., 0., 0., 0., 0., 0., 0.],\n",
              "       dtype=float16))"
            ]
          },
          "execution_count": 20,
          "metadata": {},
          "output_type": "execute_result"
        }
      ],
      "source": [
        "np.random.shuffle(df)\n",
        "df.shape, df[0, -15:]"
      ]
    },
    {
      "cell_type": "code",
      "execution_count": 22,
      "metadata": {},
      "outputs": [
        {
          "data": {
            "text/plain": [
              "'DoS GoldenEye'"
            ]
          },
          "execution_count": 22,
          "metadata": {},
          "output_type": "execute_result"
        }
      ],
      "source": [
        "def translate_encoded_label(encoded_label):\n",
        "        return LABELS[list(encoded_label).index(1)]\n",
        "    \n",
        "translate_encoded_label(df[0, -15:])"
      ]
    },
    {
      "cell_type": "code",
      "execution_count": 23,
      "metadata": {},
      "outputs": [
        {
          "name": "stdout",
          "output_type": "stream",
          "text": [
            "(5, 1504) BENIGN\n",
            "(7520,)\n",
            "BENIGN\n",
            "(8192,)\n",
            "(64, 128)\n"
          ]
        },
        {
          "data": {
            "image/png": "[encoded data removed]",
            "text/plain": [
              "<Figure size 640x480 with 1 Axes>"
            ]
          },
          "metadata": {},
          "output_type": "display_data"
        },
        {
          "name": "stdout",
          "output_type": "stream",
          "text": [
            "DONE\n"
          ]
        }
      ],
      "source": [
        "def convert_dataset_to_grayscale_image(arr):\n",
        "    for idx in range(len(arr) - 5):\n",
        "        batch = arr[idx: idx + 5, :-15]\n",
        "        label = translate_encoded_label(arr[idx + 5, -15:])\n",
        "        print(batch.shape, label)\n",
        "        data = np.concatenate(batch)\n",
        "        print(data.shape)\n",
        "        print(label)\n",
        "        \n",
        "        data = np.pad(data, pad_width=int((size-len(data))/2), constant_values=0)\n",
        "        print(data.shape)\n",
        "        data = data.reshape(height, width).astype('float64')\n",
        "        print(data.shape)\n",
        "        \n",
        "        plt.imshow(data, cmap='gray')\n",
        "        plt.axis('off')  # Remove axes\n",
        "        plt.show()\n",
        "        \n",
        "        break\n",
        "    print(\"DONE\")\n",
        "        \n",
        "convert_dataset_to_grayscale_image(df)"
      ]
    },
    {
      "cell_type": "code",
      "execution_count": 24,
      "metadata": {},
      "outputs": [
        {
          "name": "stdout",
          "output_type": "stream",
          "text": [
            "(5, 1504) BENIGN\n",
            "(7520,)\n",
            "BENIGN\n",
            "(64, 128)\n",
            "(64, 128)\n",
            "(64, 128)\n",
            "(64, 128, 3)\n"
          ]
        },
        {
          "data": {
            "image/png": "[encoded data removed]",
            "text/plain": [
              "<Figure size 640x480 with 1 Axes>"
            ]
          },
          "metadata": {},
          "output_type": "display_data"
        },
        {
          "name": "stdout",
          "output_type": "stream",
          "text": [
            "DONE\n"
          ]
        }
      ],
      "source": [
        "def convert_dataset_to_rgb_image(arr):\n",
        "    for idx in range(len(arr) - 5):\n",
        "        batch = arr[idx: idx + 5, :-15]\n",
        "        label = translate_encoded_label(arr[idx + 5, -15:])\n",
        "        print(batch.shape, label)\n",
        "        data = np.concatenate(batch)\n",
        "        print(data.shape)\n",
        "        print(label)\n",
        "        \n",
        "        data = np.pad(data, pad_width=int((size-len(data))/2), constant_values=0)\n",
        "        data = data.reshape(height, width)\n",
        "        \n",
        "        channel_1 = data.astype('float64')\n",
        "        print(channel_1.shape)\n",
        "        channel_2 = np.rot90(channel_1, k=2).reshape(height, width)\n",
        "        print(channel_2.shape)\n",
        "        channel_3 = np.rot90(channel_2, k=2).reshape(height, width)\n",
        "        print(channel_3.shape)\n",
        "        img = np.stack((channel_1, channel_2, channel_3)).transpose((1, 2, 0))\n",
        "        print(img.shape)\n",
        "        \n",
        "        plt.imshow(img)\n",
        "        plt.axis('off')  # Remove axes\n",
        "        plt.show()\n",
        "        \n",
        "        break\n",
        "    print(\"DONE\")\n",
        "        \n",
        "convert_dataset_to_rgb_image(df)"
      ]
    },
    {
      "cell_type": "code",
      "execution_count": 26,
      "metadata": {},
      "outputs": [
        {
          "name": "stdout",
          "output_type": "stream",
          "text": [
            "0 BENIGN\n",
            "10000 BENIGN\n",
            "20000 SSH-Patator\n",
            "30000 SSH-Patator\n",
            "40000 BENIGN\n",
            "50000 BENIGN\n",
            "60000 FTP-Patator\n",
            "70000 DoS Slowhttptest\n",
            "80000 SSH-Patator\n",
            "90000 BENIGN\n",
            "100000 DoS Hulk\n",
            "110000 BENIGN\n",
            "120000 DoS Hulk\n",
            "130000 BENIGN\n",
            "140000 SSH-Patator\n",
            "150000 BENIGN\n",
            "160000 BENIGN\n",
            "170000 DoS slowloris\n",
            "180000 DoS Slowhttptest\n",
            "190000 DoS slowloris\n",
            "200000 DoS Slowhttptest\n",
            "210000 BENIGN\n",
            "220000 DoS GoldenEye\n",
            "230000 DoS GoldenEye\n",
            "240000 DoS slowloris\n",
            "250000 BENIGN\n",
            "260000 DoS Hulk\n",
            "270000 Infiltration\n",
            "280000 DoS slowloris\n",
            "290000 DoS Hulk\n",
            "300000 BENIGN\n",
            "310000 BENIGN\n",
            "320000 BENIGN\n",
            "330000 BENIGN\n",
            "340000 DoS GoldenEye\n",
            "350000 DoS GoldenEye\n",
            "360000 DoS Hulk\n",
            "370000 DoS slowloris\n",
            "380000 BENIGN\n",
            "390000 BENIGN\n",
            "400000 DoS Hulk\n",
            "410000 FTP-Patator\n",
            "420000 SSH-Patator\n",
            "430000 BENIGN\n",
            "440000 DoS GoldenEye\n",
            "450000 BENIGN\n",
            "460000 DoS Hulk\n",
            "470000 DoS GoldenEye\n",
            "480000 BENIGN\n",
            "490000 DoS Hulk\n",
            "500000 BENIGN\n",
            "510000 DoS GoldenEye\n",
            "520000 DoS GoldenEye\n",
            "530000 DoS Hulk\n",
            "540000 DoS Hulk\n",
            "550000 BENIGN\n",
            "560000 DoS Hulk\n",
            "570000 DoS slowloris\n",
            "580000 BENIGN\n",
            "590000 DoS Slowhttptest\n",
            "600000 BENIGN\n",
            "610000 BENIGN\n",
            "620000 BENIGN\n",
            "630000 BENIGN\n",
            "640000 DoS GoldenEye\n",
            "650000 BENIGN\n",
            "660000 BENIGN\n",
            "670000 BENIGN\n",
            "680000 DoS GoldenEye\n",
            "690000 DoS Hulk\n",
            "700000 FTP-Patator\n",
            "710000 SSH-Patator\n",
            "720000 BENIGN\n",
            "730000 BENIGN\n",
            "740000 DoS Hulk\n",
            "750000 BENIGN\n",
            "760000 BENIGN\n",
            "DONE\n"
          ]
        }
      ],
      "source": [
        "with open(csv_file, 'w') as f:\n",
        "    np.savetxt(f, [np.array([\"file_name\", \"label\"])], delimiter=',', fmt='%s')\n",
        "\n",
        "def convert_dataset_to_image(arr):\n",
        "    with open(csv_file, 'a') as f:\n",
        "        for idx in range(len(arr) - 5):\n",
        "            batch = arr[idx: idx + 5, :-15]\n",
        "            label = translate_encoded_label(arr[idx + 5, -15:])\n",
        "            data = np.concatenate(batch)\n",
        "            if idx % 10_000 == 0:\n",
        "                    print(idx, label)\n",
        "            \n",
        "            data = np.pad(data, pad_width=int((size-len(data))/2), constant_values=0)\n",
        "            data = data.reshape(height, width)\n",
        "            \n",
        "            channel_1 = data.astype('float64')\n",
        "            channel_2 = np.rot90(channel_1, k=2).reshape(height, width)\n",
        "            channel_3 = np.rot90(channel_2, k=2).reshape(height, width)\n",
        "            img = np.stack((channel_1, channel_2, channel_3)).transpose((1, 2, 0))\n",
        "            \n",
        "            file_name = f\"cic_ids_2017_{idx}.png\"\n",
        "            cv2.imwrite(path+\"\\image_serialized_5\\\\\"+file_name, img*255)\n",
        "            \n",
        "            log = np.array([file_name, label])\n",
        "            np.savetxt(f, [log], delimiter=',', fmt='%s')\n",
        "    print(\"DONE\")\n",
        "        \n",
        "convert_dataset_to_image(df)"
      ]
    }
  ],
  "metadata": {
    "kernelspec": {
      "display_name": "DP",
      "language": "python",
      "name": "python3"
    },
    "language_info": {
      "codemirror_mode": {
        "name": "ipython",
        "version": 3
      },
      "file_extension": ".py",
      "mimetype": "text/x-python",
      "name": "python",
      "nbconvert_exporter": "python",
      "pygments_lexer": "ipython3",
      "version": "3.11.7"
    }
  },
  "nbformat": 4,
  "nbformat_minor": 2
}
