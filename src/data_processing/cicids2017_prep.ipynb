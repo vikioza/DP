{
  "cells": [
    {
      "cell_type": "code",
      "execution_count": 19,
      "metadata": {},
      "outputs": [],
      "source": [
        "import pandas as pd\n",
        "import numpy as np\n",
        "import matplotlib.pyplot as plt\n",
        "import cv2"
      ]
    },
    {
      "cell_type": "code",
      "execution_count": 20,
      "metadata": {},
      "outputs": [],
      "source": [
        "height = 32\n",
        "width = 64\n",
        "size = height*width\n",
        "path = \"..\\..\\datasets\\CIC-IDS-2017\"\n",
        "csv_file = path + \"\\cicids2017_img.csv\""
      ]
    },
    {
      "cell_type": "code",
      "execution_count": 21,
      "metadata": {},
      "outputs": [],
      "source": [
        "df = pd.read_csv(path+\"\\CICIDS_converted_data.csv\")"
      ]
    },
    {
      "cell_type": "code",
      "execution_count": 22,
      "metadata": {},
      "outputs": [],
      "source": [
        "df = df.drop_duplicates()"
      ]
    },
    {
      "cell_type": "code",
      "execution_count": 23,
      "metadata": {},
      "outputs": [
        {
          "name": "stdout",
          "output_type": "stream",
          "text": [
            "<class 'pandas.core.frame.DataFrame'>\n",
            "Index: 763416 entries, 0 to 1410250\n",
            "Columns: 1505 entries, payload_byte_1 to label\n",
            "dtypes: float64(1), int64(1502), object(2)\n",
            "memory usage: 8.6+ GB\n"
          ]
        }
      ],
      "source": [
        "df.info()"
      ]
    },
    {
      "cell_type": "code",
      "execution_count": 24,
      "metadata": {},
      "outputs": [
        {
          "data": {
            "text/plain": [
              "Index(['payload_byte_1', 'payload_byte_2', 'payload_byte_3', 'payload_byte_4',\n",
              "       'payload_byte_5', 'payload_byte_6', 'payload_byte_7', 'payload_byte_8',\n",
              "       'payload_byte_9', 'payload_byte_10',\n",
              "       ...\n",
              "       'payload_byte_1496', 'payload_byte_1497', 'payload_byte_1498',\n",
              "       'payload_byte_1499', 'payload_byte_1500', 'ttl', 'total_len',\n",
              "       'protocol', 't_delta', 'label'],\n",
              "      dtype='object', length=1505)"
            ]
          },
          "execution_count": 24,
          "metadata": {},
          "output_type": "execute_result"
        }
      ],
      "source": [
        "df.columns"
      ]
    },
    {
      "cell_type": "code",
      "execution_count": 25,
      "metadata": {},
      "outputs": [
        {
          "data": {
            "text/plain": [
              "array(['udp', 'tcp'], dtype=object)"
            ]
          },
          "execution_count": 25,
          "metadata": {},
          "output_type": "execute_result"
        }
      ],
      "source": [
        "df.protocol.unique()"
      ]
    },
    {
      "cell_type": "code",
      "execution_count": 26,
      "metadata": {},
      "outputs": [],
      "source": [
        "df.protocol = df.protocol.apply(lambda x: 1 if x == \"tcp\" else 0 )"
      ]
    },
    {
      "cell_type": "code",
      "execution_count": 27,
      "metadata": {},
      "outputs": [
        {
          "data": {
            "text/plain": [
              "array([0, 1], dtype=int64)"
            ]
          },
          "execution_count": 27,
          "metadata": {},
          "output_type": "execute_result"
        }
      ],
      "source": [
        "df.protocol.unique()"
      ]
    },
    {
      "cell_type": "code",
      "execution_count": 28,
      "metadata": {},
      "outputs": [
        {
          "data": {
            "text/plain": [
              "array(['BENIGN', 'Bot', 'DDoS', 'DoS GoldenEye', 'DoS Hulk',\n",
              "       'DoS Slowhttptest', 'DoS slowloris', 'FTP-Patator', 'Heartbleed',\n",
              "       'Infiltration', 'PortScan', 'SSH-Patator',\n",
              "       'Web Attack – Brute Force', 'Web Attack – Sql Injection',\n",
              "       'Web Attack – XSS'], dtype=object)"
            ]
          },
          "execution_count": 28,
          "metadata": {},
          "output_type": "execute_result"
        }
      ],
      "source": [
        "df.label.unique()"
      ]
    },
    {
      "cell_type": "code",
      "execution_count": 29,
      "metadata": {},
      "outputs": [
        {
          "data": {
            "text/plain": [
              "15"
            ]
          },
          "execution_count": 29,
          "metadata": {},
          "output_type": "execute_result"
        }
      ],
      "source": [
        "len(df.label.unique())"
      ]
    },
    {
      "cell_type": "code",
      "execution_count": 30,
      "metadata": {},
      "outputs": [
        {
          "data": {
            "text/plain": [
              "label\n",
              "BENIGN                        0.414680\n",
              "DoS Hulk                      0.181884\n",
              "DoS GoldenEye                 0.139702\n",
              "DoS slowloris                 0.080010\n",
              "DoS Slowhttptest              0.077863\n",
              "SSH-Patator                   0.049592\n",
              "Infiltration                  0.022054\n",
              "FTP-Patator                   0.016920\n",
              "Web Attack – Brute Force      0.009302\n",
              "Bot                           0.002675\n",
              "Web Attack – XSS              0.002379\n",
              "Heartbleed                    0.001606\n",
              "DDoS                          0.001078\n",
              "PortScan                      0.000242\n",
              "Web Attack – Sql Injection    0.000014\n",
              "Name: count, dtype: float64"
            ]
          },
          "execution_count": 30,
          "metadata": {},
          "output_type": "execute_result"
        }
      ],
      "source": [
        "df.label.value_counts() / len(df)"
      ]
    },
    {
      "cell_type": "code",
      "execution_count": 13,
      "metadata": {},
      "outputs": [
        {
          "data": {
            "text/plain": [
              "(763416, 1505)"
            ]
          },
          "execution_count": 13,
          "metadata": {},
          "output_type": "execute_result"
        }
      ],
      "source": [
        "df = df.to_numpy()\n",
        "df.shape"
      ]
    },
    {
      "cell_type": "code",
      "execution_count": 14,
      "metadata": {},
      "outputs": [],
      "source": [
        "# normalize payload, ttl, total_len\n",
        "for col_index in range(df.shape[1]-3):\n",
        "    column = df[:, col_index]\n",
        "    column_normalized = (column - np.min(column)) / (np.max(column) - np.min(column))\n",
        "    df[:, col_index] = column_normalized"
      ]
    },
    {
      "cell_type": "code",
      "execution_count": 15,
      "metadata": {},
      "outputs": [
        {
          "name": "stdout",
          "output_type": "stream",
          "text": [
            "-1.8e-05 58.352796\n"
          ]
        }
      ],
      "source": [
        "# inspect t_delta\n",
        "print(np.min(df[:, -2]), np.max(df[:, -2]))"
      ]
    },
    {
      "cell_type": "code",
      "execution_count": 16,
      "metadata": {},
      "outputs": [],
      "source": [
        "# normalize t_delta\n",
        "column = df[:, -2]\n",
        "column_normalized = (column - np.min(column)) / (np.max(column) - np.min(column))\n",
        "df[:, -2] = column_normalized"
      ]
    },
    {
      "cell_type": "code",
      "execution_count": 17,
      "metadata": {},
      "outputs": [
        {
          "name": "stdout",
          "output_type": "stream",
          "text": [
            "(1504,)\n",
            "BENIGN\n",
            "(2048,)\n",
            "(32, 64)\n"
          ]
        },
        {
          "data": {
            "image/png": "[encoded data removed]",
            "text/plain": [
              "<Figure size 640x480 with 1 Axes>"
            ]
          },
          "metadata": {},
          "output_type": "display_data"
        },
        {
          "name": "stdout",
          "output_type": "stream",
          "text": [
            "DONE\n"
          ]
        }
      ],
      "source": [
        "def convert_dataset_to_grayscale_image(arr):\n",
        "    for idx, row in enumerate(arr):\n",
        "        data = row[:-1]\n",
        "        label = row[-1]\n",
        "        print(data.shape)\n",
        "        print(label)\n",
        "        \n",
        "        data = np.pad(data, pad_width=int((size-len(data))/2), constant_values=0)\n",
        "        print(data.shape)\n",
        "        data = data.reshape(height, width).astype('float64')\n",
        "        print(data.shape)\n",
        "        \n",
        "        plt.imshow(data, cmap='gray')\n",
        "        plt.axis('off')  # Remove axes\n",
        "        plt.show()\n",
        "        \n",
        "        break\n",
        "    print(\"DONE\")\n",
        "        \n",
        "convert_dataset_to_grayscale_image(df)"
      ]
    },
    {
      "cell_type": "code",
      "execution_count": 17,
      "metadata": {},
      "outputs": [
        {
          "name": "stdout",
          "output_type": "stream",
          "text": [
            "(1504,)\n",
            "BENIGN\n",
            "(32, 64)\n",
            "(32, 64)\n",
            "(32, 64)\n",
            "(32, 64, 3)\n"
          ]
        },
        {
          "data": {
            "image/png": "[encoded data removed]",
            "text/plain": [
              "<Figure size 640x480 with 1 Axes>"
            ]
          },
          "metadata": {},
          "output_type": "display_data"
        },
        {
          "name": "stdout",
          "output_type": "stream",
          "text": [
            "DONE\n"
          ]
        }
      ],
      "source": [
        "def convert_dataset_to_rgb_image(arr):\n",
        "    for idx, row in enumerate(arr):\n",
        "        data = row[:-1]\n",
        "        label = row[-1]\n",
        "        print(data.shape)\n",
        "        print(label)\n",
        "        \n",
        "        data = np.pad(data, pad_width=int((size-len(data))/2), constant_values=0)\n",
        "        data = data.reshape(height, width)\n",
        "        \n",
        "        channel_1 = data.astype('float64')\n",
        "        print(channel_1.shape)\n",
        "        channel_2 = np.rot90(channel_1, k=2).reshape(height, width)\n",
        "        print(channel_2.shape)\n",
        "        channel_3 = np.rot90(channel_2, k=2).reshape(height, width)\n",
        "        print(channel_3.shape)\n",
        "        img = np.stack((channel_1, channel_2, channel_3)).transpose((1, 2, 0))\n",
        "        print(img.shape)\n",
        "        \n",
        "        plt.imshow(img)\n",
        "        plt.axis('off')  # Remove axes\n",
        "        plt.show()\n",
        "        \n",
        "        break\n",
        "    print(\"DONE\")\n",
        "        \n",
        "convert_dataset_to_rgb_image(df)"
      ]
    },
    {
      "cell_type": "code",
      "execution_count": 11,
      "metadata": {},
      "outputs": [],
      "source": [
        "# with open(csv_file, 'w') as f:\n",
        "#     np.savetxt(f, [np.array([\"file_name\", \"label\"])], delimiter=',', fmt='%s')\n",
        "\n",
        "def convert_dataset_to_image(arr):\n",
        "    with open(csv_file, 'a') as f:\n",
        "        for idx, row in enumerate(arr):\n",
        "            data = row[:-1]\n",
        "            label = row[-1]\n",
        "            if idx % 10_000 == 0:\n",
        "                    print(idx, label)\n",
        "            \n",
        "            data = np.pad(data, pad_width=int((size-len(data))/2), constant_values=0)\n",
        "            data = data.reshape(height, width)\n",
        "            \n",
        "            channel_1 = data.astype('float64')\n",
        "            channel_2 = np.rot90(channel_1, k=2).reshape(height, width)\n",
        "            channel_3 = np.rot90(channel_2, k=2).reshape(height, width)\n",
        "            img = np.stack((channel_1, channel_2, channel_3)).transpose((1, 2, 0))\n",
        "            \n",
        "            file_name = f\"cic_ids_2017_{idx}.png\"\n",
        "            cv2.imwrite(path+\"\\image\\\\\"+file_name, img*255)\n",
        "            \n",
        "            log = np.array([file_name, label])\n",
        "            np.savetxt(f, [log], delimiter=',', fmt='%s')\n",
        "    print(\"DONE\")\n",
        "        \n",
        "# convert_dataset_to_image(df)"
      ]
    }
  ],
  "metadata": {
    "kernelspec": {
      "display_name": "DP",
      "language": "python",
      "name": "python3"
    },
    "language_info": {
      "codemirror_mode": {
        "name": "ipython",
        "version": 3
      },
      "file_extension": ".py",
      "mimetype": "text/x-python",
      "name": "python",
      "nbconvert_exporter": "python",
      "pygments_lexer": "ipython3",
      "version": "3.11.7"
    }
  },
  "nbformat": 4,
  "nbformat_minor": 2
}
