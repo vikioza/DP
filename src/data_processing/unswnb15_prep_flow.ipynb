{
  "cells": [
    {
      "cell_type": "code",
      "execution_count": 95,
      "metadata": {},
      "outputs": [],
      "source": [
        "import pandas as pd\n",
        "import numpy as np\n",
        "import matplotlib.pyplot as plt\n",
        "import cv2"
      ]
    },
    {
      "cell_type": "code",
      "execution_count": 96,
      "metadata": {},
      "outputs": [],
      "source": [
        "height = 8\n",
        "width = 8\n",
        "size = height*width\n",
        "path = \"..\\..\\datasets\\\\UNSW_NB15\"\n",
        "csv_file = path + \"\\\\unswnb15_img_flow.csv\""
      ]
    },
    {
      "cell_type": "code",
      "execution_count": 97,
      "metadata": {},
      "outputs": [],
      "source": [
        "df1 = pd.read_csv(path+\"\\\\UNSW_NB15_training-set.csv\")\n",
        "df1 = df1.drop([\"id\"], axis=1)"
      ]
    },
    {
      "cell_type": "code",
      "execution_count": 98,
      "metadata": {},
      "outputs": [],
      "source": [
        "df2 = pd.read_csv(path+\"\\\\UNSW_NB15_testing-set.csv\")\n",
        "df2 = df2.drop([\"id\"], axis=1)"
      ]
    },
    {
      "cell_type": "code",
      "execution_count": 99,
      "metadata": {},
      "outputs": [],
      "source": [
        "df = pd.concat([df1, df2])"
      ]
    },
    {
      "cell_type": "code",
      "execution_count": 100,
      "metadata": {},
      "outputs": [],
      "source": [
        "df = df.drop_duplicates()"
      ]
    },
    {
      "cell_type": "code",
      "execution_count": 101,
      "metadata": {},
      "outputs": [
        {
          "name": "stdout",
          "output_type": "stream",
          "text": [
            "<class 'pandas.core.frame.DataFrame'>\n",
            "Index: 162745 entries, 0 to 82328\n",
            "Data columns (total 44 columns):\n",
            " #   Column             Non-Null Count   Dtype  \n",
            "---  ------             --------------   -----  \n",
            " 0   dur                162745 non-null  float64\n",
            " 1   proto              162745 non-null  object \n",
            " 2   service            162745 non-null  object \n",
            " 3   state              162745 non-null  object \n",
            " 4   spkts              162745 non-null  int64  \n",
            " 5   dpkts              162745 non-null  int64  \n",
            " 6   sbytes             162745 non-null  int64  \n",
            " 7   dbytes             162745 non-null  int64  \n",
            " 8   rate               162745 non-null  float64\n",
            " 9   sttl               162745 non-null  int64  \n",
            " 10  dttl               162745 non-null  int64  \n",
            " 11  sload              162745 non-null  float64\n",
            " 12  dload              162745 non-null  float64\n",
            " 13  sloss              162745 non-null  int64  \n",
            " 14  dloss              162745 non-null  int64  \n",
            " 15  sinpkt             162745 non-null  float64\n",
            " 16  dinpkt             162745 non-null  float64\n",
            " 17  sjit               162745 non-null  float64\n",
            " 18  djit               162745 non-null  float64\n",
            " 19  swin               162745 non-null  int64  \n",
            " 20  stcpb              162745 non-null  int64  \n",
            " 21  dtcpb              162745 non-null  int64  \n",
            " 22  dwin               162745 non-null  int64  \n",
            " 23  tcprtt             162745 non-null  float64\n",
            " 24  synack             162745 non-null  float64\n",
            " 25  ackdat             162745 non-null  float64\n",
            " 26  smean              162745 non-null  int64  \n",
            " 27  dmean              162745 non-null  int64  \n",
            " 28  trans_depth        162745 non-null  int64  \n",
            " 29  response_body_len  162745 non-null  int64  \n",
            " 30  ct_srv_src         162745 non-null  int64  \n",
            " 31  ct_state_ttl       162745 non-null  int64  \n",
            " 32  ct_dst_ltm         162745 non-null  int64  \n",
            " 33  ct_src_dport_ltm   162745 non-null  int64  \n",
            " 34  ct_dst_sport_ltm   162745 non-null  int64  \n",
            " 35  ct_dst_src_ltm     162745 non-null  int64  \n",
            " 36  is_ftp_login       162745 non-null  int64  \n",
            " 37  ct_ftp_cmd         162745 non-null  int64  \n",
            " 38  ct_flw_http_mthd   162745 non-null  int64  \n",
            " 39  ct_src_ltm         162745 non-null  int64  \n",
            " 40  ct_srv_dst         162745 non-null  int64  \n",
            " 41  is_sm_ips_ports    162745 non-null  int64  \n",
            " 42  attack_cat         162745 non-null  object \n",
            " 43  label              162745 non-null  int64  \n",
            "dtypes: float64(11), int64(29), object(4)\n",
            "memory usage: 55.9+ MB\n"
          ]
        }
      ],
      "source": [
        "df.info()"
      ]
    },
    {
      "cell_type": "code",
      "execution_count": 102,
      "metadata": {},
      "outputs": [
        {
          "data": {
            "text/plain": [
              "Index(['dur', 'proto', 'service', 'state', 'spkts', 'dpkts', 'sbytes',\n",
              "       'dbytes', 'rate', 'sttl', 'dttl', 'sload', 'dload', 'sloss', 'dloss',\n",
              "       'sinpkt', 'dinpkt', 'sjit', 'djit', 'swin', 'stcpb', 'dtcpb', 'dwin',\n",
              "       'tcprtt', 'synack', 'ackdat', 'smean', 'dmean', 'trans_depth',\n",
              "       'response_body_len', 'ct_srv_src', 'ct_state_ttl', 'ct_dst_ltm',\n",
              "       'ct_src_dport_ltm', 'ct_dst_sport_ltm', 'ct_dst_src_ltm',\n",
              "       'is_ftp_login', 'ct_ftp_cmd', 'ct_flw_http_mthd', 'ct_src_ltm',\n",
              "       'ct_srv_dst', 'is_sm_ips_ports', 'attack_cat', 'label'],\n",
              "      dtype='object')"
            ]
          },
          "execution_count": 102,
          "metadata": {},
          "output_type": "execute_result"
        }
      ],
      "source": [
        "df.columns"
      ]
    },
    {
      "cell_type": "code",
      "execution_count": 103,
      "metadata": {},
      "outputs": [
        {
          "data": {
            "text/plain": [
              "array(['Normal', 'Backdoor', 'Analysis', 'Fuzzers', 'Shellcode',\n",
              "       'Reconnaissance', 'Exploits', 'DoS', 'Worms', 'Generic'],\n",
              "      dtype=object)"
            ]
          },
          "execution_count": 103,
          "metadata": {},
          "output_type": "execute_result"
        }
      ],
      "source": [
        "df.attack_cat.unique()"
      ]
    },
    {
      "cell_type": "code",
      "execution_count": 104,
      "metadata": {},
      "outputs": [],
      "source": [
        "df = df.drop([\"label\"], axis=1)"
      ]
    },
    {
      "cell_type": "code",
      "execution_count": 105,
      "metadata": {},
      "outputs": [
        {
          "data": {
            "text/plain": [
              "133"
            ]
          },
          "execution_count": 105,
          "metadata": {},
          "output_type": "execute_result"
        }
      ],
      "source": [
        "len(df.proto.unique())"
      ]
    },
    {
      "cell_type": "code",
      "execution_count": 106,
      "metadata": {},
      "outputs": [],
      "source": [
        "indices = list(df.proto.unique())"
      ]
    },
    {
      "cell_type": "code",
      "execution_count": 107,
      "metadata": {},
      "outputs": [
        {
          "data": {
            "text/plain": [
              "0"
            ]
          },
          "execution_count": 107,
          "metadata": {},
          "output_type": "execute_result"
        }
      ],
      "source": [
        "indices.index(\"tcp\")"
      ]
    },
    {
      "cell_type": "code",
      "execution_count": 108,
      "metadata": {},
      "outputs": [
        {
          "data": {
            "text/plain": [
              "132"
            ]
          },
          "execution_count": 108,
          "metadata": {},
          "output_type": "execute_result"
        }
      ],
      "source": [
        "# move tcp to end of list\n",
        "indices.remove(\"tcp\")\n",
        "indices.append(\"tcp\")\n",
        "indices.index(\"tcp\")"
      ]
    },
    {
      "cell_type": "code",
      "execution_count": 109,
      "metadata": {},
      "outputs": [
        {
          "data": {
            "text/plain": [
              "0"
            ]
          },
          "execution_count": 109,
          "metadata": {},
          "output_type": "execute_result"
        }
      ],
      "source": [
        "indices.index(\"udp\")"
      ]
    },
    {
      "cell_type": "code",
      "execution_count": 110,
      "metadata": {},
      "outputs": [
        {
          "data": {
            "text/plain": [
              "0"
            ]
          },
          "execution_count": 110,
          "metadata": {},
          "output_type": "execute_result"
        }
      ],
      "source": [
        "# move udp to start of list\n",
        "indices.remove(\"udp\")\n",
        "indices = [\"udp\"] + indices\n",
        "indices.index(\"udp\")"
      ]
    },
    {
      "cell_type": "code",
      "execution_count": 111,
      "metadata": {},
      "outputs": [],
      "source": [
        "df.proto = df.proto.apply(lambda x: indices.index(x))"
      ]
    },
    {
      "cell_type": "code",
      "execution_count": 117,
      "metadata": {},
      "outputs": [],
      "source": [
        "indices = list(df.service.unique())\n",
        "df.service = df.service.apply(lambda x: indices.index(x))"
      ]
    },
    {
      "cell_type": "code",
      "execution_count": 118,
      "metadata": {},
      "outputs": [],
      "source": [
        "indices = list(df.state.unique())\n",
        "df.state = df.state.apply(lambda x: indices.index(x))"
      ]
    },
    {
      "cell_type": "code",
      "execution_count": 112,
      "metadata": {},
      "outputs": [
        {
          "data": {
            "text/plain": [
              "array([132,   0,   1,   2,   3,   4,   5,   6,   7,   8,   9,  10,  11,\n",
              "        12,  13,  14,  15,  16,  17,  18,  19,  20,  21,  22,  23,  24,\n",
              "        25,  26,  27,  28,  29,  30,  31,  32,  33,  34,  35,  36,  37,\n",
              "        38,  39,  40,  41,  42,  43,  44,  45,  46,  47,  48,  49,  50,\n",
              "        51,  52,  53,  54,  55,  56,  57,  58,  59,  60,  61,  62,  63,\n",
              "        64,  65,  66,  67,  68,  69,  70,  71,  72,  73,  74,  75,  76,\n",
              "        77,  78,  79,  80,  81,  82,  83,  84,  85,  86,  87,  88,  89,\n",
              "        90,  91,  92,  93,  94,  95,  96,  97,  98,  99, 100, 101, 102,\n",
              "       103, 104, 105, 106, 107, 108, 109, 110, 111, 112, 113, 114, 115,\n",
              "       116, 117, 118, 119, 120, 121, 122, 123, 124, 125, 126, 127, 128,\n",
              "       129, 130, 131], dtype=int64)"
            ]
          },
          "execution_count": 112,
          "metadata": {},
          "output_type": "execute_result"
        }
      ],
      "source": [
        "df.proto.unique()"
      ]
    },
    {
      "cell_type": "code",
      "execution_count": 113,
      "metadata": {},
      "outputs": [],
      "source": [
        "df = df.rename(columns={\"attack_cat\": \"label\"})"
      ]
    },
    {
      "cell_type": "code",
      "execution_count": 114,
      "metadata": {},
      "outputs": [
        {
          "data": {
            "text/plain": [
              "array(['Normal', 'Backdoor', 'Analysis', 'Fuzzers', 'Shellcode',\n",
              "       'Reconnaissance', 'Exploits', 'DoS', 'Worms', 'Generic'],\n",
              "      dtype=object)"
            ]
          },
          "execution_count": 114,
          "metadata": {},
          "output_type": "execute_result"
        }
      ],
      "source": [
        "df.label.unique()"
      ]
    },
    {
      "cell_type": "code",
      "execution_count": 115,
      "metadata": {},
      "outputs": [
        {
          "data": {
            "text/plain": [
              "10"
            ]
          },
          "execution_count": 115,
          "metadata": {},
          "output_type": "execute_result"
        }
      ],
      "source": [
        "len(df.label.unique())"
      ]
    },
    {
      "cell_type": "code",
      "execution_count": 119,
      "metadata": {},
      "outputs": [
        {
          "name": "stdout",
          "output_type": "stream",
          "text": [
            "<class 'pandas.core.frame.DataFrame'>\n",
            "Index: 162745 entries, 0 to 82328\n",
            "Data columns (total 43 columns):\n",
            " #   Column             Non-Null Count   Dtype  \n",
            "---  ------             --------------   -----  \n",
            " 0   dur                162745 non-null  float64\n",
            " 1   proto              162745 non-null  int64  \n",
            " 2   service            162745 non-null  int64  \n",
            " 3   state              162745 non-null  int64  \n",
            " 4   spkts              162745 non-null  int64  \n",
            " 5   dpkts              162745 non-null  int64  \n",
            " 6   sbytes             162745 non-null  int64  \n",
            " 7   dbytes             162745 non-null  int64  \n",
            " 8   rate               162745 non-null  float64\n",
            " 9   sttl               162745 non-null  int64  \n",
            " 10  dttl               162745 non-null  int64  \n",
            " 11  sload              162745 non-null  float64\n",
            " 12  dload              162745 non-null  float64\n",
            " 13  sloss              162745 non-null  int64  \n",
            " 14  dloss              162745 non-null  int64  \n",
            " 15  sinpkt             162745 non-null  float64\n",
            " 16  dinpkt             162745 non-null  float64\n",
            " 17  sjit               162745 non-null  float64\n",
            " 18  djit               162745 non-null  float64\n",
            " 19  swin               162745 non-null  int64  \n",
            " 20  stcpb              162745 non-null  int64  \n",
            " 21  dtcpb              162745 non-null  int64  \n",
            " 22  dwin               162745 non-null  int64  \n",
            " 23  tcprtt             162745 non-null  float64\n",
            " 24  synack             162745 non-null  float64\n",
            " 25  ackdat             162745 non-null  float64\n",
            " 26  smean              162745 non-null  int64  \n",
            " 27  dmean              162745 non-null  int64  \n",
            " 28  trans_depth        162745 non-null  int64  \n",
            " 29  response_body_len  162745 non-null  int64  \n",
            " 30  ct_srv_src         162745 non-null  int64  \n",
            " 31  ct_state_ttl       162745 non-null  int64  \n",
            " 32  ct_dst_ltm         162745 non-null  int64  \n",
            " 33  ct_src_dport_ltm   162745 non-null  int64  \n",
            " 34  ct_dst_sport_ltm   162745 non-null  int64  \n",
            " 35  ct_dst_src_ltm     162745 non-null  int64  \n",
            " 36  is_ftp_login       162745 non-null  int64  \n",
            " 37  ct_ftp_cmd         162745 non-null  int64  \n",
            " 38  ct_flw_http_mthd   162745 non-null  int64  \n",
            " 39  ct_src_ltm         162745 non-null  int64  \n",
            " 40  ct_srv_dst         162745 non-null  int64  \n",
            " 41  is_sm_ips_ports    162745 non-null  int64  \n",
            " 42  label              162745 non-null  object \n",
            "dtypes: float64(11), int64(31), object(1)\n",
            "memory usage: 54.6+ MB\n"
          ]
        }
      ],
      "source": [
        "df.info()"
      ]
    },
    {
      "cell_type": "code",
      "execution_count": 120,
      "metadata": {},
      "outputs": [
        {
          "data": {
            "text/plain": [
              "(162745, 43)"
            ]
          },
          "execution_count": 120,
          "metadata": {},
          "output_type": "execute_result"
        }
      ],
      "source": [
        "df = df.to_numpy()\n",
        "df.shape"
      ]
    },
    {
      "cell_type": "code",
      "execution_count": 121,
      "metadata": {},
      "outputs": [],
      "source": [
        "# normalize payload, ttl, total_len\n",
        "for col_index in range(df.shape[1]-1):\n",
        "    column = df[:, col_index]\n",
        "    column_normalized = (column - np.min(column)) / (np.max(column) - np.min(column) + 0.1)\n",
        "    df[:, col_index] = column_normalized"
      ]
    },
    {
      "cell_type": "code",
      "execution_count": 122,
      "metadata": {},
      "outputs": [
        {
          "name": "stdout",
          "output_type": "stream",
          "text": [
            "(42,)\n",
            "Normal\n",
            "(64,)\n",
            "(8, 8)\n"
          ]
        },
        {
          "data": {
            "image/png": "[encoded data removed]",
            "text/plain": [
              "<Figure size 640x480 with 1 Axes>"
            ]
          },
          "metadata": {},
          "output_type": "display_data"
        },
        {
          "name": "stdout",
          "output_type": "stream",
          "text": [
            "DONE\n"
          ]
        }
      ],
      "source": [
        "def convert_dataset_to_grayscale_image(arr):\n",
        "    for idx, row in enumerate(arr):\n",
        "        data = row[:-1]\n",
        "        label = row[-1]\n",
        "        print(data.shape)\n",
        "        print(label)\n",
        "        \n",
        "        data = np.pad(data, pad_width=int((size-len(data))/2), constant_values=0)\n",
        "        print(data.shape)\n",
        "        data = data.reshape(height, width).astype('float64')\n",
        "        print(data.shape)\n",
        "        \n",
        "        plt.imshow(data, cmap='gray')\n",
        "        plt.axis('off')  # Remove axes\n",
        "        plt.show()\n",
        "        \n",
        "        break\n",
        "    print(\"DONE\")\n",
        "        \n",
        "convert_dataset_to_grayscale_image(df)"
      ]
    },
    {
      "cell_type": "code",
      "execution_count": 123,
      "metadata": {},
      "outputs": [
        {
          "name": "stdout",
          "output_type": "stream",
          "text": [
            "(42,)\n",
            "Normal\n",
            "(8, 8)\n",
            "(8, 8)\n",
            "(8, 8)\n",
            "(8, 8, 3)\n"
          ]
        },
        {
          "data": {
            "image/png": "[encoded data removed]",
            "text/plain": [
              "<Figure size 640x480 with 1 Axes>"
            ]
          },
          "metadata": {},
          "output_type": "display_data"
        },
        {
          "name": "stdout",
          "output_type": "stream",
          "text": [
            "DONE\n"
          ]
        }
      ],
      "source": [
        "def convert_dataset_to_rgb_image(arr):\n",
        "    for idx, row in enumerate(arr):\n",
        "        data = row[:-1]\n",
        "        label = row[-1]\n",
        "        print(data.shape)\n",
        "        print(label)\n",
        "        \n",
        "        data = np.pad(data, pad_width=int((size-len(data))/2), constant_values=0)\n",
        "        data = data.reshape(height, width)\n",
        "        \n",
        "        channel_1 = data.astype('float64')\n",
        "        print(channel_1.shape)\n",
        "        channel_2 = np.rot90(channel_1, k=2).reshape(height, width)\n",
        "        print(channel_2.shape)\n",
        "        channel_3 = np.rot90(channel_2, k=2).reshape(height, width)\n",
        "        print(channel_3.shape)\n",
        "        img = np.stack((channel_1, channel_2, channel_3)).transpose((1, 2, 0))\n",
        "        print(img.shape)\n",
        "        \n",
        "        plt.imshow(img)\n",
        "        plt.axis('off')  # Remove axes\n",
        "        plt.show()\n",
        "        \n",
        "        break\n",
        "    print(\"DONE\")\n",
        "        \n",
        "convert_dataset_to_rgb_image(df)"
      ]
    },
    {
      "cell_type": "code",
      "execution_count": 124,
      "metadata": {},
      "outputs": [
        {
          "name": "stdout",
          "output_type": "stream",
          "text": [
            "0 Normal\n",
            "1000 Normal\n",
            "2000 Normal\n",
            "3000 Normal\n",
            "4000 Normal\n",
            "5000 Normal\n",
            "6000 Normal\n",
            "7000 Normal\n",
            "8000 Normal\n",
            "9000 Normal\n",
            "10000 Normal\n",
            "11000 Normal\n",
            "12000 Normal\n",
            "13000 Normal\n",
            "14000 Normal\n",
            "15000 Normal\n",
            "16000 Normal\n",
            "17000 Normal\n",
            "18000 Normal\n",
            "19000 Normal\n",
            "20000 Normal\n",
            "21000 Normal\n",
            "22000 Normal\n",
            "23000 Normal\n",
            "24000 Normal\n",
            "25000 Normal\n",
            "26000 Normal\n",
            "27000 Normal\n",
            "28000 Normal\n",
            "29000 Normal\n",
            "30000 Normal\n",
            "31000 Normal\n",
            "32000 Normal\n",
            "33000 Normal\n",
            "34000 Normal\n",
            "35000 Normal\n",
            "36000 Normal\n",
            "37000 Normal\n",
            "38000 Normal\n",
            "39000 Normal\n",
            "40000 Normal\n",
            "41000 Normal\n",
            "42000 Normal\n",
            "43000 Normal\n",
            "44000 Normal\n",
            "45000 Normal\n",
            "46000 Normal\n",
            "47000 Fuzzers\n",
            "48000 Fuzzers\n",
            "49000 Exploits\n",
            "50000 Exploits\n",
            "51000 Analysis\n",
            "52000 Exploits\n",
            "53000 Fuzzers\n",
            "54000 Exploits\n",
            "55000 Exploits\n",
            "56000 Exploits\n",
            "57000 Exploits\n",
            "58000 Reconnaissance\n",
            "59000 Analysis\n",
            "60000 DoS\n",
            "61000 Fuzzers\n",
            "62000 Exploits\n",
            "63000 Exploits\n",
            "64000 Normal\n",
            "65000 Normal\n",
            "66000 Backdoor\n",
            "67000 Exploits\n",
            "68000 Exploits\n",
            "69000 DoS\n",
            "70000 Fuzzers\n",
            "71000 Exploits\n",
            "72000 Normal\n",
            "73000 Exploits\n",
            "74000 Reconnaissance\n",
            "75000 Shellcode\n",
            "76000 Fuzzers\n",
            "77000 Exploits\n",
            "78000 DoS\n",
            "79000 Fuzzers\n",
            "80000 Fuzzers\n",
            "81000 DoS\n",
            "82000 Fuzzers\n",
            "83000 DoS\n",
            "84000 DoS\n",
            "85000 Normal\n",
            "86000 Exploits\n",
            "87000 Normal\n",
            "88000 Exploits\n",
            "89000 Reconnaissance\n",
            "90000 Backdoor\n",
            "91000 Exploits\n",
            "92000 Fuzzers\n",
            "93000 Generic\n",
            "94000 Exploits\n",
            "95000 Exploits\n",
            "96000 Fuzzers\n",
            "97000 DoS\n",
            "98000 Exploits\n",
            "99000 Fuzzers\n",
            "100000 Exploits\n",
            "101000 Reconnaissance\n",
            "102000 Fuzzers\n",
            "103000 Exploits\n",
            "104000 Fuzzers\n",
            "105000 Exploits\n",
            "106000 Fuzzers\n",
            "107000 Generic\n",
            "108000 Fuzzers\n",
            "109000 Exploits\n",
            "110000 Exploits\n",
            "111000 Analysis\n",
            "112000 Reconnaissance\n",
            "113000 Exploits\n",
            "114000 Exploits\n",
            "115000 Generic\n",
            "116000 Generic\n",
            "117000 Normal\n",
            "118000 Normal\n",
            "119000 Normal\n",
            "120000 Normal\n",
            "121000 Normal\n",
            "122000 Normal\n",
            "123000 Normal\n",
            "124000 Normal\n",
            "125000 Normal\n",
            "126000 Normal\n",
            "127000 Normal\n",
            "128000 Normal\n",
            "129000 Normal\n",
            "130000 Normal\n",
            "131000 Normal\n",
            "132000 Normal\n",
            "133000 Normal\n",
            "134000 Normal\n",
            "135000 Normal\n",
            "136000 Fuzzers\n",
            "137000 Generic\n",
            "138000 Exploits\n",
            "139000 Fuzzers\n",
            "140000 Exploits\n",
            "141000 Exploits\n",
            "142000 Exploits\n",
            "143000 Fuzzers\n",
            "144000 Exploits\n",
            "145000 Exploits\n",
            "146000 Exploits\n",
            "147000 Exploits\n",
            "148000 Fuzzers\n",
            "149000 Normal\n",
            "150000 Normal\n",
            "151000 Normal\n",
            "152000 Normal\n",
            "153000 Normal\n",
            "154000 Normal\n",
            "155000 Normal\n",
            "156000 Normal\n",
            "157000 Normal\n",
            "158000 Normal\n",
            "159000 Normal\n",
            "160000 Normal\n",
            "161000 Normal\n",
            "162000 Normal\n",
            "DONE\n"
          ]
        }
      ],
      "source": [
        "with open(csv_file, 'w') as f:\n",
        "    np.savetxt(f, [np.array([\"file_name\", \"label\"])], delimiter=',', fmt='%s')\n",
        "\n",
        "def convert_dataset_to_image(arr):\n",
        "    with open(csv_file, 'a') as f:\n",
        "        for idx, row in enumerate(arr):\n",
        "            data = row[:-1]\n",
        "            label = row[-1]\n",
        "            if idx % 1000 == 0:\n",
        "                print(idx, label)\n",
        "            \n",
        "            data = np.pad(data, pad_width=int((size-len(data))/2), constant_values=0)\n",
        "            data = data.reshape(height, width)\n",
        "            \n",
        "            channel_1 = data.astype('float64')\n",
        "            channel_2 = np.rot90(channel_1, k=2).reshape(height, width)\n",
        "            channel_3 = np.rot90(channel_2, k=2).reshape(height, width)\n",
        "            img = np.stack((channel_1, channel_2, channel_3)).transpose((1, 2, 0))\n",
        "            \n",
        "            file_name = f\"unswnb15_{idx}.png\"\n",
        "            cv2.imwrite(path+\"\\image_flow\\\\\"+file_name, img*255)\n",
        "            \n",
        "            log = np.array([file_name, label])\n",
        "            np.savetxt(f, [log], delimiter=',', fmt='%s')\n",
        "    print(\"DONE\")\n",
        "        \n",
        "\n",
        "convert_dataset_to_image(df)"
      ]
    }
  ],
  "metadata": {
    "kernelspec": {
      "display_name": "DP",
      "language": "python",
      "name": "python3"
    },
    "language_info": {
      "codemirror_mode": {
        "name": "ipython",
        "version": 3
      },
      "file_extension": ".py",
      "mimetype": "text/x-python",
      "name": "python",
      "nbconvert_exporter": "python",
      "pygments_lexer": "ipython3",
      "version": "3.11.7"
    }
  },
  "nbformat": 4,
  "nbformat_minor": 2
}
