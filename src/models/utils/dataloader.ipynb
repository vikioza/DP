{
 "cells": [
  {
   "cell_type": "code",
   "execution_count": 147,
   "metadata": {},
   "outputs": [],
   "source": [
    "import os\n",
    "import numpy as np\n",
    "import pandas as pd\n",
    "\n",
    "import torch\n",
    "from torchvision import transforms\n",
    "from torch.utils.data import Dataset, DataLoader\n",
    "from torchvision.io import read_image"
   ]
  },
  {
   "cell_type": "code",
   "execution_count": 148,
   "metadata": {},
   "outputs": [],
   "source": [
    "class CicIds2017(Dataset):\n",
    "    BASE_PATH = \"C:\\VScode Projects\\FIIT_MASTERS\\DP\\datasets\\CIC-IDS-2017\"\n",
    "    MAPPING_FILE = \"\\cicids2017_img.csv\"\n",
    "    index: int\n",
    "    batch_size: int\n",
    "    classes_count: int\n",
    "    classes_list: list\n",
    "    \n",
    "    def __init__(self, shuffle: bool = False):        \n",
    "        self.mapping = pd.read_csv(self.BASE_PATH+self.MAPPING_FILE)\n",
    "        self.mapping = pd.get_dummies(self.mapping, columns=['label'])\n",
    "        \n",
    "        if shuffle:\n",
    "            self.mapping = self.mapping.sample(frac=1) # shuffle\n",
    "        \n",
    "        self.classes_list = [label.split(\"_\")[1] for label in self.mapping.columns[1:]]\n",
    "        \n",
    "        self.mapping = self.mapping.to_numpy()\n",
    "        \n",
    "        self.classes_count = len(self.mapping[0]) - 1\n",
    "        \n",
    "        self.transform = transforms.Compose([transforms.ToTensor()]) \n",
    "        \n",
    "    def __len__(self):\n",
    "        return len(self.mapping)\n",
    "    \n",
    "    def __getitem__(self, idx):\n",
    "        img_name = self.mapping[idx, 0]\n",
    "        img_path = os.path.join(self.BASE_PATH + \"\\image\", img_name)\n",
    "        img = read_image(img_path)\n",
    "        \n",
    "        label = [1 if label_class is True else 0 for label_class in self.mapping[idx, 1:]]\n",
    "        label = np.array(label)\n",
    "        \n",
    "        return img, label\n",
    "    \n",
    "    def translate_encoded_label(self, encoded_label):\n",
    "        return self.classes_list[list(encoded_label).index(1)]"
   ]
  },
  {
   "cell_type": "code",
   "execution_count": 149,
   "metadata": {},
   "outputs": [
    {
     "data": {
      "text/plain": [
       "15"
      ]
     },
     "execution_count": 149,
     "metadata": {},
     "output_type": "execute_result"
    }
   ],
   "source": [
    "dataset = CicIds2017()\n",
    "dataset.classes_count"
   ]
  },
  {
   "cell_type": "code",
   "execution_count": 150,
   "metadata": {},
   "outputs": [
    {
     "data": {
      "text/plain": [
       "['BENIGN',\n",
       " 'Bot',\n",
       " 'DDoS',\n",
       " 'DoS GoldenEye',\n",
       " 'DoS Hulk',\n",
       " 'DoS Slowhttptest',\n",
       " 'DoS slowloris',\n",
       " 'FTP-Patator',\n",
       " 'Heartbleed',\n",
       " 'Infiltration',\n",
       " 'PortScan',\n",
       " 'SSH-Patator',\n",
       " 'Web Attack – Brute Force',\n",
       " 'Web Attack – Sql Injection',\n",
       " 'Web Attack – XSS']"
      ]
     },
     "execution_count": 150,
     "metadata": {},
     "output_type": "execute_result"
    }
   ],
   "source": [
    "dataset.classes_list"
   ]
  },
  {
   "cell_type": "code",
   "execution_count": 151,
   "metadata": {},
   "outputs": [
    {
     "data": {
      "text/plain": [
       "torch.Size([3, 32, 64])"
      ]
     },
     "execution_count": 151,
     "metadata": {},
     "output_type": "execute_result"
    }
   ],
   "source": [
    "img, label = dataset.__getitem__(idx=0)\n",
    "img.shape"
   ]
  },
  {
   "cell_type": "code",
   "execution_count": 152,
   "metadata": {},
   "outputs": [
    {
     "data": {
      "text/plain": [
       "array([1, 0, 0, 0, 0, 0, 0, 0, 0, 0, 0, 0, 0, 0, 0])"
      ]
     },
     "execution_count": 152,
     "metadata": {},
     "output_type": "execute_result"
    }
   ],
   "source": [
    "label"
   ]
  },
  {
   "cell_type": "code",
   "execution_count": 153,
   "metadata": {},
   "outputs": [
    {
     "data": {
      "text/plain": [
       "(15,)"
      ]
     },
     "execution_count": 153,
     "metadata": {},
     "output_type": "execute_result"
    }
   ],
   "source": [
    "label.shape"
   ]
  },
  {
   "cell_type": "code",
   "execution_count": 154,
   "metadata": {},
   "outputs": [
    {
     "data": {
      "text/plain": [
       "'BENIGN'"
      ]
     },
     "execution_count": 154,
     "metadata": {},
     "output_type": "execute_result"
    }
   ],
   "source": [
    "dataset.translate_encoded_label(label)"
   ]
  },
  {
   "cell_type": "code",
   "execution_count": 155,
   "metadata": {},
   "outputs": [
    {
     "data": {
      "image/png": "[encoded data removed]",
      "text/plain": [
       "<Figure size 640x480 with 1 Axes>"
      ]
     },
     "metadata": {},
     "output_type": "display_data"
    }
   ],
   "source": [
    "import matplotlib.pyplot as plt\n",
    "plt.imshow(img.numpy().transpose((1, 2, 0)))\n",
    "plt.axis('off')  # Remove axes\n",
    "plt.show()"
   ]
  },
  {
   "cell_type": "code",
   "execution_count": 156,
   "metadata": {},
   "outputs": [
    {
     "name": "stdout",
     "output_type": "stream",
     "text": [
      "Feature batch shape: torch.Size([64, 3, 32, 64])\n",
      "Labels batch shape: torch.Size([64, 15])\n"
     ]
    }
   ],
   "source": [
    "loader = DataLoader(dataset, batch_size=64)\n",
    "train_features, train_labels = next(iter(loader))\n",
    "print(f\"Feature batch shape: {train_features.size()}\")\n",
    "print(f\"Labels batch shape: {train_labels.size()}\")"
   ]
  }
 ],
 "metadata": {
  "kernelspec": {
   "display_name": "DP",
   "language": "python",
   "name": "python3"
  },
  "language_info": {
   "codemirror_mode": {
    "name": "ipython",
    "version": 3
   },
   "file_extension": ".py",
   "mimetype": "text/x-python",
   "name": "python",
   "nbconvert_exporter": "python",
   "pygments_lexer": "ipython3",
   "version": "3.11.7"
  }
 },
 "nbformat": 4,
 "nbformat_minor": 2
}
