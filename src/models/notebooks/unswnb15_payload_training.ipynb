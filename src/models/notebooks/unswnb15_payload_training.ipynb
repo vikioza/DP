{
 "cells": [
  {
   "cell_type": "code",
   "execution_count": 1,
   "metadata": {},
   "outputs": [
    {
     "name": "stderr",
     "output_type": "stream",
     "text": [
      "C:\\Users\\vikio\\AppData\\Local\\Temp\\ipykernel_4892\\2642016576.py:7: DeprecationWarning: \n",
      "Pyarrow will become a required dependency of pandas in the next major release of pandas (pandas 3.0),\n",
      "(to allow more performant data types, such as the Arrow string type, and better interoperability with other libraries)\n",
      "but was not found to be installed on your system.\n",
      "If this would cause problems for you,\n",
      "please provide us feedback at https://github.com/pandas-dev/pandas/issues/54466\n",
      "        \n",
      "  import pandas as pd\n"
     ]
    }
   ],
   "source": [
    "import os\n",
    "import random\n",
    "import timeit\n",
    "import wandb\n",
    "\n",
    "import numpy as np\n",
    "import pandas as pd\n",
    "from sklearn.metrics import precision_recall_fscore_support\n",
    "from tqdm import tqdm\n",
    "\n",
    "import torch\n",
    "from torch import nn\n",
    "from torch import optim\n",
    "from torchvision import transforms\n",
    "from torch.utils.data import Dataset, DataLoader, random_split\n",
    "from torchvision.io import read_image"
   ]
  },
  {
   "cell_type": "code",
   "execution_count": 2,
   "metadata": {},
   "outputs": [],
   "source": [
    "RANDOM_SEED = 42\n",
    "BATCH_SIZE = 512\n",
    "EPOCHS = 30\n",
    "LEARNING_RATE = 1e-3\n",
    "PATCH_SIZE = 8\n",
    "HEIGHT = 32\n",
    "WIDTH = 64\n",
    "IN_CHANNELS = 3\n",
    "NUM_HEADS = 8\n",
    "DROPOUT = 0.1\n",
    "ADAM_WEIGHT_DECAY = 0\n",
    "ADAM_BETAS = (0.9, 0.999)\n",
    "ACTIVATION=\"gelu\"\n",
    "NUM_ENCODERS = 4\n",
    "EMBED_DIM = (PATCH_SIZE ** 2) * IN_CHANNELS # (8**2)*3=192\n",
    "NUM_PATCHES = (HEIGHT // PATCH_SIZE) * (WIDTH // PATCH_SIZE) # 4*8=32\n",
    "NUM_CLASSES = 10\n",
    "\n",
    "random.seed(RANDOM_SEED)\n",
    "np.random.seed(RANDOM_SEED)\n",
    "torch.manual_seed(RANDOM_SEED)\n",
    "torch.cuda.manual_seed(RANDOM_SEED)\n",
    "torch.cuda.manual_seed_all(RANDOM_SEED)\n",
    "torch.backends.cudnn.deterministic = True\n",
    "torch.backends.cudnn.benchmark = False\n",
    "\n",
    "device = \"cuda\" if torch.cuda.is_available() else \"cpu\""
   ]
  },
  {
   "cell_type": "code",
   "execution_count": 3,
   "metadata": {},
   "outputs": [
    {
     "data": {
      "text/plain": [
       "'cuda'"
      ]
     },
     "execution_count": 3,
     "metadata": {},
     "output_type": "execute_result"
    }
   ],
   "source": [
    "device"
   ]
  },
  {
   "cell_type": "code",
   "execution_count": 4,
   "metadata": {},
   "outputs": [],
   "source": [
    "class PatchEmbedding(nn.Module):\n",
    "    def __init__(self, embed_dim, patch_size, num_patches, dropout, in_channels):\n",
    "        super().__init__()\n",
    "        self.patcher = nn.Sequential(\n",
    "            nn.Conv2d(\n",
    "                in_channels=in_channels,\n",
    "                out_channels=embed_dim,\n",
    "                kernel_size=patch_size,\n",
    "                stride=patch_size,\n",
    "            ),\n",
    "            nn.Flatten(2))\n",
    "\n",
    "        self.cls_token = nn.Parameter(torch.randn(size=(1, in_channels, embed_dim)), requires_grad=True)\n",
    "        self.position_embeddings = nn.Parameter(torch.randn(size=(1, num_patches+in_channels, embed_dim)), requires_grad=True)\n",
    "        self.dropout = nn.Dropout(p=dropout)\n",
    "\n",
    "    def forward(self, x):        \n",
    "        cls_token = self.cls_token.expand(x.shape[0], -1, -1)\n",
    "\n",
    "        x = self.patcher(x).permute(0, 2, 1)\n",
    "        x = torch.cat([cls_token, x], dim=1)\n",
    "        x = self.position_embeddings + x\n",
    "        x = self.dropout(x)\n",
    "        return x"
   ]
  },
  {
   "cell_type": "code",
   "execution_count": 5,
   "metadata": {},
   "outputs": [
    {
     "name": "stdout",
     "output_type": "stream",
     "text": [
      "torch.Size([512, 35, 192])\n"
     ]
    }
   ],
   "source": [
    "model = PatchEmbedding(EMBED_DIM, PATCH_SIZE, NUM_PATCHES, DROPOUT, IN_CHANNELS).to(device)\n",
    "x = torch.randn(BATCH_SIZE, IN_CHANNELS, HEIGHT, WIDTH).to(device)\n",
    "print(model(x).shape)"
   ]
  },
  {
   "cell_type": "code",
   "execution_count": 6,
   "metadata": {},
   "outputs": [],
   "source": [
    "class ViT(nn.Module):\n",
    "    def __init__(self, num_patches, num_classes, patch_size, embed_dim, num_encoders, num_heads, dropout, activation, in_channels):\n",
    "        super().__init__()\n",
    "        self.embeddings_block = PatchEmbedding(embed_dim, patch_size, num_patches, dropout, in_channels)\n",
    "        \n",
    "        encoder_layer = nn.TransformerEncoderLayer(d_model=embed_dim, nhead=num_heads, dropout=dropout, activation=activation, batch_first=True, norm_first=True)\n",
    "        self.encoder_blocks = nn.TransformerEncoder(encoder_layer, num_layers=num_encoders)\n",
    "\n",
    "        self.mlp_head = nn.Sequential(\n",
    "            nn.LayerNorm(normalized_shape=embed_dim),\n",
    "            nn.Linear(in_features=embed_dim, out_features=num_classes)\n",
    "        )\n",
    "\n",
    "    def forward(self, x):\n",
    "        x = self.embeddings_block(x)\n",
    "        x = self.encoder_blocks(x)\n",
    "        x = self.mlp_head(x[:, 0, :])  # Apply MLP on the CLS token only\n",
    "        return x"
   ]
  },
  {
   "cell_type": "code",
   "execution_count": 7,
   "metadata": {},
   "outputs": [
    {
     "name": "stdout",
     "output_type": "stream",
     "text": [
      "torch.Size([512, 10])\n"
     ]
    },
    {
     "name": "stderr",
     "output_type": "stream",
     "text": [
      "c:\\Users\\vikio\\anaconda3\\envs\\DP\\Lib\\site-packages\\torch\\nn\\modules\\transformer.py:282: UserWarning: enable_nested_tensor is True, but self.use_nested_tensor is False because encoder_layer.norm_first was True\n",
      "  warnings.warn(f\"enable_nested_tensor is True, but self.use_nested_tensor is False because {why_not_sparsity_fast_path}\")\n"
     ]
    }
   ],
   "source": [
    "model = ViT(NUM_PATCHES, NUM_CLASSES, PATCH_SIZE, EMBED_DIM, NUM_ENCODERS, NUM_HEADS, DROPOUT, ACTIVATION, IN_CHANNELS).to(device)\n",
    "x = torch.randn(BATCH_SIZE, IN_CHANNELS, HEIGHT, WIDTH).to(device)\n",
    "print(model(x).shape) # BATCH_SIZE X NUM_CLASSES"
   ]
  },
  {
   "cell_type": "code",
   "execution_count": 8,
   "metadata": {},
   "outputs": [
    {
     "data": {
      "text/plain": [
       "ViT(\n",
       "  (embeddings_block): PatchEmbedding(\n",
       "    (patcher): Sequential(\n",
       "      (0): Conv2d(3, 192, kernel_size=(8, 8), stride=(8, 8))\n",
       "      (1): Flatten(start_dim=2, end_dim=-1)\n",
       "    )\n",
       "    (dropout): Dropout(p=0.1, inplace=False)\n",
       "  )\n",
       "  (encoder_blocks): TransformerEncoder(\n",
       "    (layers): ModuleList(\n",
       "      (0-3): 4 x TransformerEncoderLayer(\n",
       "        (self_attn): MultiheadAttention(\n",
       "          (out_proj): NonDynamicallyQuantizableLinear(in_features=192, out_features=192, bias=True)\n",
       "        )\n",
       "        (linear1): Linear(in_features=192, out_features=2048, bias=True)\n",
       "        (dropout): Dropout(p=0.1, inplace=False)\n",
       "        (linear2): Linear(in_features=2048, out_features=192, bias=True)\n",
       "        (norm1): LayerNorm((192,), eps=1e-05, elementwise_affine=True)\n",
       "        (norm2): LayerNorm((192,), eps=1e-05, elementwise_affine=True)\n",
       "        (dropout1): Dropout(p=0.1, inplace=False)\n",
       "        (dropout2): Dropout(p=0.1, inplace=False)\n",
       "      )\n",
       "    )\n",
       "  )\n",
       "  (mlp_head): Sequential(\n",
       "    (0): LayerNorm((192,), eps=1e-05, elementwise_affine=True)\n",
       "    (1): Linear(in_features=192, out_features=10, bias=True)\n",
       "  )\n",
       ")"
      ]
     },
     "execution_count": 8,
     "metadata": {},
     "output_type": "execute_result"
    }
   ],
   "source": [
    "model"
   ]
  },
  {
   "cell_type": "code",
   "execution_count": 9,
   "metadata": {},
   "outputs": [],
   "source": [
    "class UNSW_NB15(Dataset):\n",
    "    BASE_PATH = \"C:\\VScode Projects\\FIIT_MASTERS\\DP\\datasets\\\\UNSW_NB15\"\n",
    "    MAPPING_FILE = \"\\\\unswnb15_img.csv\"\n",
    "    index: int\n",
    "    batch_size: int\n",
    "    classes_count: int\n",
    "    classes_list: list\n",
    "    \n",
    "    def __init__(self, shuffle: bool = False):        \n",
    "        self.mapping = pd.read_csv(self.BASE_PATH+self.MAPPING_FILE)\n",
    "        self.mapping = pd.get_dummies(self.mapping, columns=['label'])\n",
    "        \n",
    "        if shuffle:\n",
    "            self.mapping = self.mapping.sample(frac=1) # shuffle\n",
    "            \n",
    "        self.classes_list = [label.split(\"_\")[1] for label in self.mapping.columns[1:]]\n",
    "        \n",
    "        self.mapping = self.mapping.to_numpy()\n",
    "        \n",
    "        self.classes_count = len(self.mapping[0]) - 1\n",
    "        \n",
    "        self.transform = transforms.Compose([transforms.ToTensor()]) \n",
    "        \n",
    "    def __len__(self):\n",
    "        return len(self.mapping)\n",
    "    \n",
    "    def __getitem__(self, idx):\n",
    "        img_name = self.mapping[idx, 0]\n",
    "        img_path = os.path.join(self.BASE_PATH + \"\\image\", img_name)\n",
    "        img = read_image(img_path)\n",
    "        \n",
    "        label = [1 if label_class is True else 0 for label_class in self.mapping[idx, 1:]]\n",
    "        label = np.array(label)\n",
    "        \n",
    "        return img, label\n",
    "    \n",
    "    def translate_encoded_label(self, encoded_label):\n",
    "        return self.classes_list[list(encoded_label).index(1)]"
   ]
  },
  {
   "cell_type": "code",
   "execution_count": 10,
   "metadata": {},
   "outputs": [
    {
     "name": "stdout",
     "output_type": "stream",
     "text": [
      "59168\n"
     ]
    }
   ],
   "source": [
    "dataset = UNSW_NB15()\n",
    "print(len(dataset))"
   ]
  },
  {
   "cell_type": "code",
   "execution_count": 11,
   "metadata": {},
   "outputs": [],
   "source": [
    "train_split = int(0.9 * len(dataset))\n",
    "val_split = int(0.8 * len(dataset))\n",
    "train, test = random_split(dataset, [train_split, len(dataset) - train_split])\n",
    "train, val = random_split(train, [val_split, len(train) - val_split])\n",
    "\n",
    "\n",
    "train_dataloader = DataLoader(train, batch_size=BATCH_SIZE, shuffle=True)\n",
    "val_dataloader = DataLoader(val, batch_size=BATCH_SIZE, shuffle=True)\n",
    "test_dataloader = DataLoader(test, batch_size=BATCH_SIZE, shuffle=True)"
   ]
  },
  {
   "cell_type": "code",
   "execution_count": 12,
   "metadata": {},
   "outputs": [
    {
     "name": "stdout",
     "output_type": "stream",
     "text": [
      "47334\n",
      "5917\n",
      "5917\n"
     ]
    }
   ],
   "source": [
    "print(len(train))\n",
    "print(len(val))\n",
    "print(len(test))"
   ]
  },
  {
   "cell_type": "code",
   "execution_count": 13,
   "metadata": {},
   "outputs": [
    {
     "name": "stdout",
     "output_type": "stream",
     "text": [
      "Feature batch shape: torch.Size([512, 3, 32, 64])\n",
      "Labels batch shape: torch.Size([512, 10])\n"
     ]
    }
   ],
   "source": [
    "train_features, train_labels = next(iter(train_dataloader))\n",
    "print(f\"Feature batch shape: {train_features.size()}\")\n",
    "print(f\"Labels batch shape: {train_labels.size()}\")"
   ]
  },
  {
   "cell_type": "code",
   "execution_count": 14,
   "metadata": {},
   "outputs": [
    {
     "name": "stdout",
     "output_type": "stream",
     "text": [
      "Feature batch shape: torch.Size([512, 3, 32, 64])\n",
      "Labels batch shape: torch.Size([512, 10])\n"
     ]
    }
   ],
   "source": [
    "val_features, val_labels = next(iter(val_dataloader))\n",
    "print(f\"Feature batch shape: {val_features.size()}\")\n",
    "print(f\"Labels batch shape: {val_labels.size()}\")"
   ]
  },
  {
   "cell_type": "code",
   "execution_count": 15,
   "metadata": {},
   "outputs": [
    {
     "name": "stdout",
     "output_type": "stream",
     "text": [
      "Feature batch shape: torch.Size([512, 3, 32, 64])\n",
      "Labels batch shape: torch.Size([512, 10])\n"
     ]
    }
   ],
   "source": [
    "test_features, test_labels = next(iter(test_dataloader))\n",
    "print(f\"Feature batch shape: {test_features.size()}\")\n",
    "print(f\"Labels batch shape: {test_labels.size()}\")"
   ]
  },
  {
   "cell_type": "code",
   "execution_count": 16,
   "metadata": {},
   "outputs": [
    {
     "name": "stdout",
     "output_type": "stream",
     "text": [
      "Precision: 0.8888888888888888\n",
      "Recall: 0.8333333333333334\n",
      "F1 score: 0.8222222222222223\n"
     ]
    }
   ],
   "source": [
    "def precision_recall_f1(predictions, labels):\n",
    "    y_true = []\n",
    "    y_pred = []\n",
    "    for x,y in zip(predictions, labels):\n",
    "        y_pred.append(x)\n",
    "        y_true.append(list(y).index(1.0))\n",
    "        \n",
    "    p, r, f1, _ = precision_recall_fscore_support(y_true, y_pred, average=\"macro\")\n",
    "    return p, r, f1\n",
    "\n",
    "predictions = torch.Tensor(np.array([0, 1, 0, 0, 2]))\n",
    "labels = torch.Tensor(np.array([[1, 0, 0], [0, 1, 0], [0, 0, 1], [1, 0, 0], [0, 0, 1]]))\n",
    "p, r, f1 = precision_recall_f1(predictions, labels)\n",
    "print(f\"Precision: {p}\")\n",
    "print(f\"Recall: {r}\")\n",
    "print(f\"F1 score: {f1}\")"
   ]
  },
  {
   "cell_type": "code",
   "execution_count": 17,
   "metadata": {},
   "outputs": [
    {
     "name": "stderr",
     "output_type": "stream",
     "text": [
      "\u001b[34m\u001b[1mwandb\u001b[0m: Using wandb-core as the SDK backend.  Please refer to https://wandb.me/wandb-core for more information.\n",
      "\u001b[34m\u001b[1mwandb\u001b[0m: Currently logged in as: \u001b[33mvikioza\u001b[0m. Use \u001b[1m`wandb login --relogin`\u001b[0m to force relogin\n"
     ]
    },
    {
     "data": {
      "text/html": [
       "Tracking run with wandb version 0.19.1"
      ],
      "text/plain": [
       "<IPython.core.display.HTML object>"
      ]
     },
     "metadata": {},
     "output_type": "display_data"
    },
    {
     "data": {
      "text/html": [
       "Run data is saved locally in <code>c:\\VScode Projects\\FIIT_MASTERS\\DP\\src\\models\\wandb\\run-20241230_151526-i3ozbple</code>"
      ],
      "text/plain": [
       "<IPython.core.display.HTML object>"
      ]
     },
     "metadata": {},
     "output_type": "display_data"
    },
    {
     "data": {
      "text/html": [
       "Syncing run <strong><a href='https://wandb.ai/vikioza/DP/runs/i3ozbple' target=\"_blank\">effortless-butterfly-14</a></strong> to <a href='https://wandb.ai/vikioza/DP' target=\"_blank\">Weights & Biases</a> (<a href='https://wandb.me/developer-guide' target=\"_blank\">docs</a>)<br>"
      ],
      "text/plain": [
       "<IPython.core.display.HTML object>"
      ]
     },
     "metadata": {},
     "output_type": "display_data"
    },
    {
     "data": {
      "text/html": [
       " View project at <a href='https://wandb.ai/vikioza/DP' target=\"_blank\">https://wandb.ai/vikioza/DP</a>"
      ],
      "text/plain": [
       "<IPython.core.display.HTML object>"
      ]
     },
     "metadata": {},
     "output_type": "display_data"
    },
    {
     "data": {
      "text/html": [
       " View run at <a href='https://wandb.ai/vikioza/DP/runs/i3ozbple' target=\"_blank\">https://wandb.ai/vikioza/DP/runs/i3ozbple</a>"
      ],
      "text/plain": [
       "<IPython.core.display.HTML object>"
      ]
     },
     "metadata": {},
     "output_type": "display_data"
    },
    {
     "name": "stderr",
     "output_type": "stream",
     "text": [
      "100%|██████████| 93/93 [00:45<00:00,  2.04it/s]\n",
      "100%|██████████| 12/12 [00:04<00:00,  2.50it/s]\n"
     ]
    },
    {
     "name": "stdout",
     "output_type": "stream",
     "text": [
      "------------------------------\n",
      "Train Loss EPOCH 1: 0.9426\n",
      "Valid Loss EPOCH 1: 0.5707\n",
      "Train Accuracy EPOCH 1: 0.6762\n",
      "Valid Accuracy EPOCH 1: 0.8016\n"
     ]
    },
    {
     "name": "stderr",
     "output_type": "stream",
     "text": [
      "  3%|▎         | 1/30 [00:57<27:48, 57.52s/it]"
     ]
    },
    {
     "name": "stdout",
     "output_type": "stream",
     "text": [
      "Precision: 0.45144503829755883, Recall: 0.382175970859843, F1 score: 0.3862903572991063\n",
      "------------------------------\n"
     ]
    },
    {
     "name": "stderr",
     "output_type": "stream",
     "text": [
      "100%|██████████| 93/93 [00:21<00:00,  4.33it/s]\n",
      "100%|██████████| 12/12 [00:01<00:00,  6.57it/s]\n"
     ]
    },
    {
     "name": "stdout",
     "output_type": "stream",
     "text": [
      "------------------------------\n",
      "Train Loss EPOCH 2: 0.5400\n",
      "Valid Loss EPOCH 2: 0.4950\n",
      "Train Accuracy EPOCH 2: 0.8112\n",
      "Valid Accuracy EPOCH 2: 0.8198\n"
     ]
    },
    {
     "name": "stderr",
     "output_type": "stream",
     "text": [
      "c:\\Users\\vikio\\anaconda3\\envs\\DP\\Lib\\site-packages\\sklearn\\metrics\\_classification.py:1565: UndefinedMetricWarning: Precision is ill-defined and being set to 0.0 in labels with no predicted samples. Use `zero_division` parameter to control this behavior.\n",
      "  _warn_prf(average, modifier, f\"{metric.capitalize()} is\", len(result))\n",
      "  7%|▋         | 2/30 [01:29<19:52, 42.58s/it]"
     ]
    },
    {
     "name": "stdout",
     "output_type": "stream",
     "text": [
      "Precision: 0.5535667360869356, Recall: 0.5337244531007979, F1 score: 0.5327155080717945\n",
      "------------------------------\n"
     ]
    },
    {
     "name": "stderr",
     "output_type": "stream",
     "text": [
      "100%|██████████| 93/93 [00:22<00:00,  4.14it/s]\n",
      "100%|██████████| 12/12 [00:02<00:00,  5.84it/s]\n"
     ]
    },
    {
     "name": "stdout",
     "output_type": "stream",
     "text": [
      "------------------------------\n",
      "Train Loss EPOCH 3: 0.4822\n",
      "Valid Loss EPOCH 3: 0.4576\n",
      "Train Accuracy EPOCH 3: 0.8270\n",
      "Valid Accuracy EPOCH 3: 0.8323\n"
     ]
    },
    {
     "name": "stderr",
     "output_type": "stream",
     "text": [
      " 10%|█         | 3/30 [02:02<17:05, 37.98s/it]"
     ]
    },
    {
     "name": "stdout",
     "output_type": "stream",
     "text": [
      "Precision: 0.6693926552673769, Recall: 0.5609645679256873, F1 score: 0.5589632900823789\n",
      "------------------------------\n"
     ]
    },
    {
     "name": "stderr",
     "output_type": "stream",
     "text": [
      "100%|██████████| 93/93 [00:18<00:00,  5.01it/s]\n",
      "100%|██████████| 12/12 [00:01<00:00, 10.35it/s]\n"
     ]
    },
    {
     "name": "stdout",
     "output_type": "stream",
     "text": [
      "------------------------------\n",
      "Train Loss EPOCH 4: 0.4502\n",
      "Valid Loss EPOCH 4: 0.4405\n",
      "Train Accuracy EPOCH 4: 0.8381\n",
      "Valid Accuracy EPOCH 4: 0.8335\n"
     ]
    },
    {
     "name": "stderr",
     "output_type": "stream",
     "text": [
      " 13%|█▎        | 4/30 [02:29<14:38, 33.77s/it]"
     ]
    },
    {
     "name": "stdout",
     "output_type": "stream",
     "text": [
      "Precision: 0.6707037611389037, Recall: 0.5905944996957232, F1 score: 0.6022508294649904\n",
      "------------------------------\n"
     ]
    },
    {
     "name": "stderr",
     "output_type": "stream",
     "text": [
      "100%|██████████| 93/93 [00:20<00:00,  4.50it/s]\n",
      "100%|██████████| 12/12 [00:01<00:00,  7.15it/s]\n"
     ]
    },
    {
     "name": "stdout",
     "output_type": "stream",
     "text": [
      "------------------------------\n",
      "Train Loss EPOCH 5: 0.4342\n",
      "Valid Loss EPOCH 5: 0.4254\n",
      "Train Accuracy EPOCH 5: 0.8424\n",
      "Valid Accuracy EPOCH 5: 0.8408\n"
     ]
    },
    {
     "name": "stderr",
     "output_type": "stream",
     "text": [
      " 17%|█▋        | 5/30 [02:59<13:28, 32.33s/it]"
     ]
    },
    {
     "name": "stdout",
     "output_type": "stream",
     "text": [
      "Precision: 0.6616792441672744, Recall: 0.6070587401642777, F1 score: 0.6189722455442179\n",
      "------------------------------\n"
     ]
    },
    {
     "name": "stderr",
     "output_type": "stream",
     "text": [
      "100%|██████████| 93/93 [00:20<00:00,  4.54it/s]\n",
      "100%|██████████| 12/12 [00:01<00:00,  6.79it/s]\n"
     ]
    },
    {
     "name": "stdout",
     "output_type": "stream",
     "text": [
      "------------------------------\n",
      "Train Loss EPOCH 6: 0.4213\n",
      "Valid Loss EPOCH 6: 0.4301\n",
      "Train Accuracy EPOCH 6: 0.8458\n",
      "Valid Accuracy EPOCH 6: 0.8386\n"
     ]
    },
    {
     "name": "stderr",
     "output_type": "stream",
     "text": [
      " 20%|██        | 6/30 [03:28<12:34, 31.43s/it]"
     ]
    },
    {
     "name": "stdout",
     "output_type": "stream",
     "text": [
      "Precision: 0.6579504877319489, Recall: 0.6163167833539466, F1 score: 0.6267332806441678\n",
      "------------------------------\n"
     ]
    },
    {
     "name": "stderr",
     "output_type": "stream",
     "text": [
      "100%|██████████| 93/93 [00:20<00:00,  4.63it/s]\n",
      "100%|██████████| 12/12 [00:01<00:00,  7.50it/s]\n"
     ]
    },
    {
     "name": "stdout",
     "output_type": "stream",
     "text": [
      "------------------------------\n",
      "Train Loss EPOCH 7: 0.4126\n",
      "Valid Loss EPOCH 7: 0.4103\n",
      "Train Accuracy EPOCH 7: 0.8482\n",
      "Valid Accuracy EPOCH 7: 0.8442\n"
     ]
    },
    {
     "name": "stderr",
     "output_type": "stream",
     "text": [
      " 23%|██▎       | 7/30 [03:57<11:43, 30.59s/it]"
     ]
    },
    {
     "name": "stdout",
     "output_type": "stream",
     "text": [
      "Precision: 0.6807873562748911, Recall: 0.6399649829378511, F1 score: 0.6511510152985513\n",
      "------------------------------\n"
     ]
    },
    {
     "name": "stderr",
     "output_type": "stream",
     "text": [
      "100%|██████████| 93/93 [00:20<00:00,  4.57it/s]\n",
      "100%|██████████| 12/12 [00:01<00:00,  6.65it/s]\n"
     ]
    },
    {
     "name": "stdout",
     "output_type": "stream",
     "text": [
      "------------------------------\n",
      "Train Loss EPOCH 8: 0.3980\n",
      "Valid Loss EPOCH 8: 0.4028\n",
      "Train Accuracy EPOCH 8: 0.8515\n",
      "Valid Accuracy EPOCH 8: 0.8508\n"
     ]
    },
    {
     "name": "stderr",
     "output_type": "stream",
     "text": [
      " 27%|██▋       | 8/30 [04:26<11:02, 30.12s/it]"
     ]
    },
    {
     "name": "stdout",
     "output_type": "stream",
     "text": [
      "Precision: 0.6670318498500244, Recall: 0.6461936941319674, F1 score: 0.650705797245048\n",
      "------------------------------\n"
     ]
    },
    {
     "name": "stderr",
     "output_type": "stream",
     "text": [
      "100%|██████████| 93/93 [00:20<00:00,  4.61it/s]\n",
      "100%|██████████| 12/12 [00:01<00:00,  6.77it/s]\n"
     ]
    },
    {
     "name": "stdout",
     "output_type": "stream",
     "text": [
      "------------------------------\n",
      "Train Loss EPOCH 9: 0.3930\n",
      "Valid Loss EPOCH 9: 0.4167\n",
      "Train Accuracy EPOCH 9: 0.8544\n",
      "Valid Accuracy EPOCH 9: 0.8460\n"
     ]
    },
    {
     "name": "stderr",
     "output_type": "stream",
     "text": [
      " 30%|███       | 9/30 [04:56<10:26, 29.86s/it]"
     ]
    },
    {
     "name": "stdout",
     "output_type": "stream",
     "text": [
      "Precision: 0.6944232172830351, Recall: 0.6471328037041852, F1 score: 0.6608375179544625\n",
      "------------------------------\n"
     ]
    },
    {
     "name": "stderr",
     "output_type": "stream",
     "text": [
      "100%|██████████| 93/93 [00:19<00:00,  4.65it/s]\n",
      "100%|██████████| 12/12 [00:01<00:00,  9.75it/s]\n"
     ]
    },
    {
     "name": "stdout",
     "output_type": "stream",
     "text": [
      "------------------------------\n",
      "Train Loss EPOCH 10: 0.3815\n",
      "Valid Loss EPOCH 10: 0.3955\n",
      "Train Accuracy EPOCH 10: 0.8577\n",
      "Valid Accuracy EPOCH 10: 0.8511\n"
     ]
    },
    {
     "name": "stderr",
     "output_type": "stream",
     "text": [
      " 33%|███▎      | 10/30 [05:21<09:32, 28.60s/it]"
     ]
    },
    {
     "name": "stdout",
     "output_type": "stream",
     "text": [
      "Precision: 0.6881704065137202, Recall: 0.6589568125689181, F1 score: 0.665031705058487\n",
      "------------------------------\n"
     ]
    },
    {
     "name": "stderr",
     "output_type": "stream",
     "text": [
      "100%|██████████| 93/93 [00:17<00:00,  5.37it/s]\n",
      "100%|██████████| 12/12 [00:01<00:00, 10.01it/s]\n"
     ]
    },
    {
     "name": "stdout",
     "output_type": "stream",
     "text": [
      "------------------------------\n",
      "Train Loss EPOCH 11: 0.3772\n",
      "Valid Loss EPOCH 11: 0.3910\n",
      "Train Accuracy EPOCH 11: 0.8581\n",
      "Valid Accuracy EPOCH 11: 0.8547\n"
     ]
    },
    {
     "name": "stderr",
     "output_type": "stream",
     "text": [
      " 37%|███▋      | 11/30 [05:45<08:32, 26.96s/it]"
     ]
    },
    {
     "name": "stdout",
     "output_type": "stream",
     "text": [
      "Precision: 0.6966003277023829, Recall: 0.6759320007611151, F1 score: 0.6793153132229253\n",
      "------------------------------\n"
     ]
    },
    {
     "name": "stderr",
     "output_type": "stream",
     "text": [
      "100%|██████████| 93/93 [00:17<00:00,  5.33it/s]\n",
      "100%|██████████| 12/12 [00:01<00:00,  9.77it/s]\n"
     ]
    },
    {
     "name": "stdout",
     "output_type": "stream",
     "text": [
      "------------------------------\n",
      "Train Loss EPOCH 12: 0.3659\n",
      "Valid Loss EPOCH 12: 0.3883\n",
      "Train Accuracy EPOCH 12: 0.8613\n",
      "Valid Accuracy EPOCH 12: 0.8530\n"
     ]
    },
    {
     "name": "stderr",
     "output_type": "stream",
     "text": [
      " 40%|████      | 12/30 [06:08<07:47, 25.96s/it]"
     ]
    },
    {
     "name": "stdout",
     "output_type": "stream",
     "text": [
      "Precision: 0.7008482996869194, Recall: 0.681311872904344, F1 score: 0.6843572771572448\n",
      "------------------------------\n"
     ]
    },
    {
     "name": "stderr",
     "output_type": "stream",
     "text": [
      "100%|██████████| 93/93 [00:17<00:00,  5.32it/s]\n",
      "100%|██████████| 12/12 [00:01<00:00, 10.10it/s]\n"
     ]
    },
    {
     "name": "stdout",
     "output_type": "stream",
     "text": [
      "------------------------------\n",
      "Train Loss EPOCH 13: 0.3625\n",
      "Valid Loss EPOCH 13: 0.3760\n",
      "Train Accuracy EPOCH 13: 0.8635\n",
      "Valid Accuracy EPOCH 13: 0.8574\n"
     ]
    },
    {
     "name": "stderr",
     "output_type": "stream",
     "text": [
      " 43%|████▎     | 13/30 [06:32<07:09, 25.25s/it]"
     ]
    },
    {
     "name": "stdout",
     "output_type": "stream",
     "text": [
      "Precision: 0.6907415381290688, Recall: 0.6682591196677595, F1 score: 0.6754336571369859\n",
      "------------------------------\n"
     ]
    },
    {
     "name": "stderr",
     "output_type": "stream",
     "text": [
      "100%|██████████| 93/93 [00:18<00:00,  5.09it/s]\n",
      "100%|██████████| 12/12 [00:01<00:00,  9.59it/s]\n"
     ]
    },
    {
     "name": "stdout",
     "output_type": "stream",
     "text": [
      "------------------------------\n",
      "Train Loss EPOCH 14: 0.3565\n",
      "Valid Loss EPOCH 14: 0.3920\n",
      "Train Accuracy EPOCH 14: 0.8654\n",
      "Valid Accuracy EPOCH 14: 0.8541\n"
     ]
    },
    {
     "name": "stderr",
     "output_type": "stream",
     "text": [
      " 47%|████▋     | 14/30 [06:57<06:40, 25.03s/it]"
     ]
    },
    {
     "name": "stdout",
     "output_type": "stream",
     "text": [
      "Precision: 0.7054657636819563, Recall: 0.6956438774337811, F1 score: 0.69442304588921\n",
      "------------------------------\n"
     ]
    },
    {
     "name": "stderr",
     "output_type": "stream",
     "text": [
      "100%|██████████| 93/93 [00:17<00:00,  5.20it/s]\n",
      "100%|██████████| 12/12 [00:01<00:00,  8.74it/s]\n"
     ]
    },
    {
     "name": "stdout",
     "output_type": "stream",
     "text": [
      "------------------------------\n",
      "Train Loss EPOCH 15: 0.3551\n",
      "Valid Loss EPOCH 15: 0.3705\n",
      "Train Accuracy EPOCH 15: 0.8655\n",
      "Valid Accuracy EPOCH 15: 0.8592\n"
     ]
    },
    {
     "name": "stderr",
     "output_type": "stream",
     "text": [
      " 50%|█████     | 15/30 [07:21<06:12, 24.82s/it]"
     ]
    },
    {
     "name": "stdout",
     "output_type": "stream",
     "text": [
      "Precision: 0.7012800772094856, Recall: 0.6717721038311086, F1 score: 0.6806100398145731\n",
      "------------------------------\n"
     ]
    },
    {
     "name": "stderr",
     "output_type": "stream",
     "text": [
      "100%|██████████| 93/93 [00:18<00:00,  5.06it/s]\n",
      "100%|██████████| 12/12 [00:01<00:00,  8.88it/s]\n"
     ]
    },
    {
     "name": "stdout",
     "output_type": "stream",
     "text": [
      "------------------------------\n",
      "Train Loss EPOCH 16: 0.3463\n",
      "Valid Loss EPOCH 16: 0.3778\n",
      "Train Accuracy EPOCH 16: 0.8680\n",
      "Valid Accuracy EPOCH 16: 0.8558\n"
     ]
    },
    {
     "name": "stderr",
     "output_type": "stream",
     "text": [
      " 53%|█████▎    | 16/30 [07:46<05:47, 24.80s/it]"
     ]
    },
    {
     "name": "stdout",
     "output_type": "stream",
     "text": [
      "Precision: 0.7087828653203155, Recall: 0.6944749990633298, F1 score: 0.6970034277880398\n",
      "------------------------------\n"
     ]
    },
    {
     "name": "stderr",
     "output_type": "stream",
     "text": [
      "100%|██████████| 93/93 [00:18<00:00,  4.96it/s]\n",
      "100%|██████████| 12/12 [00:01<00:00,  9.73it/s]\n"
     ]
    },
    {
     "name": "stdout",
     "output_type": "stream",
     "text": [
      "------------------------------\n",
      "Train Loss EPOCH 17: 0.3391\n",
      "Valid Loss EPOCH 17: 0.3638\n",
      "Train Accuracy EPOCH 17: 0.8704\n",
      "Valid Accuracy EPOCH 17: 0.8616\n"
     ]
    },
    {
     "name": "stderr",
     "output_type": "stream",
     "text": [
      " 57%|█████▋    | 17/30 [08:11<05:23, 24.87s/it]"
     ]
    },
    {
     "name": "stdout",
     "output_type": "stream",
     "text": [
      "Precision: 0.7124532633238891, Recall: 0.7057848694203437, F1 score: 0.705365262147906\n",
      "------------------------------\n"
     ]
    },
    {
     "name": "stderr",
     "output_type": "stream",
     "text": [
      "100%|██████████| 93/93 [00:18<00:00,  5.01it/s]\n",
      "100%|██████████| 12/12 [00:01<00:00,  9.14it/s]\n"
     ]
    },
    {
     "name": "stdout",
     "output_type": "stream",
     "text": [
      "------------------------------\n",
      "Train Loss EPOCH 18: 0.3331\n",
      "Valid Loss EPOCH 18: 0.3560\n",
      "Train Accuracy EPOCH 18: 0.8729\n",
      "Valid Accuracy EPOCH 18: 0.8667\n"
     ]
    },
    {
     "name": "stderr",
     "output_type": "stream",
     "text": [
      " 60%|██████    | 18/30 [08:36<04:58, 24.89s/it]"
     ]
    },
    {
     "name": "stdout",
     "output_type": "stream",
     "text": [
      "Precision: 0.7212758063042035, Recall: 0.6979848415804278, F1 score: 0.7032599062421585\n",
      "------------------------------\n"
     ]
    },
    {
     "name": "stderr",
     "output_type": "stream",
     "text": [
      "100%|██████████| 93/93 [00:18<00:00,  4.93it/s]\n",
      "100%|██████████| 12/12 [00:01<00:00,  9.60it/s]\n"
     ]
    },
    {
     "name": "stdout",
     "output_type": "stream",
     "text": [
      "------------------------------\n",
      "Train Loss EPOCH 19: 0.3309\n",
      "Valid Loss EPOCH 19: 0.3690\n",
      "Train Accuracy EPOCH 19: 0.8734\n",
      "Valid Accuracy EPOCH 19: 0.8640\n"
     ]
    },
    {
     "name": "stderr",
     "output_type": "stream",
     "text": [
      " 63%|██████▎   | 19/30 [09:01<04:34, 25.00s/it]"
     ]
    },
    {
     "name": "stdout",
     "output_type": "stream",
     "text": [
      "Precision: 0.7088951858046257, Recall: 0.6942178122621243, F1 score: 0.6977339885945474\n",
      "------------------------------\n"
     ]
    },
    {
     "name": "stderr",
     "output_type": "stream",
     "text": [
      "100%|██████████| 93/93 [00:18<00:00,  4.96it/s]\n",
      "100%|██████████| 12/12 [00:01<00:00,  9.06it/s]\n"
     ]
    },
    {
     "name": "stdout",
     "output_type": "stream",
     "text": [
      "------------------------------\n",
      "Train Loss EPOCH 20: 0.3273\n",
      "Valid Loss EPOCH 20: 0.3640\n",
      "Train Accuracy EPOCH 20: 0.8742\n",
      "Valid Accuracy EPOCH 20: 0.8645\n"
     ]
    },
    {
     "name": "stderr",
     "output_type": "stream",
     "text": [
      " 67%|██████▋   | 20/30 [09:26<04:10, 25.04s/it]"
     ]
    },
    {
     "name": "stdout",
     "output_type": "stream",
     "text": [
      "Precision: 0.7233549792968532, Recall: 0.6992369821403378, F1 score: 0.7054356954844613\n",
      "------------------------------\n"
     ]
    },
    {
     "name": "stderr",
     "output_type": "stream",
     "text": [
      "100%|██████████| 93/93 [00:18<00:00,  4.94it/s]\n",
      "100%|██████████| 12/12 [00:01<00:00,  9.36it/s]\n"
     ]
    },
    {
     "name": "stdout",
     "output_type": "stream",
     "text": [
      "------------------------------\n",
      "Train Loss EPOCH 21: 0.3261\n",
      "Valid Loss EPOCH 21: 0.3626\n",
      "Train Accuracy EPOCH 21: 0.8759\n",
      "Valid Accuracy EPOCH 21: 0.8677\n"
     ]
    },
    {
     "name": "stderr",
     "output_type": "stream",
     "text": [
      " 70%|███████   | 21/30 [09:51<03:46, 25.12s/it]"
     ]
    },
    {
     "name": "stdout",
     "output_type": "stream",
     "text": [
      "Precision: 0.7135730077084842, Recall: 0.7021419209270923, F1 score: 0.7061727413195162\n",
      "------------------------------\n"
     ]
    },
    {
     "name": "stderr",
     "output_type": "stream",
     "text": [
      "100%|██████████| 93/93 [00:18<00:00,  4.91it/s]\n",
      "100%|██████████| 12/12 [00:01<00:00,  9.63it/s]\n"
     ]
    },
    {
     "name": "stdout",
     "output_type": "stream",
     "text": [
      "------------------------------\n",
      "Train Loss EPOCH 22: 0.3196\n",
      "Valid Loss EPOCH 22: 0.3439\n",
      "Train Accuracy EPOCH 22: 0.8783\n",
      "Valid Accuracy EPOCH 22: 0.8724\n"
     ]
    },
    {
     "name": "stderr",
     "output_type": "stream",
     "text": [
      " 73%|███████▎  | 22/30 [10:17<03:21, 25.18s/it]"
     ]
    },
    {
     "name": "stdout",
     "output_type": "stream",
     "text": [
      "Precision: 0.7269714187897437, Recall: 0.7094023556138314, F1 score: 0.7133267220130424\n",
      "------------------------------\n"
     ]
    },
    {
     "name": "stderr",
     "output_type": "stream",
     "text": [
      "100%|██████████| 93/93 [00:19<00:00,  4.81it/s]\n",
      "100%|██████████| 12/12 [00:01<00:00,  9.26it/s]\n"
     ]
    },
    {
     "name": "stdout",
     "output_type": "stream",
     "text": [
      "------------------------------\n",
      "Train Loss EPOCH 23: 0.3110\n",
      "Valid Loss EPOCH 23: 0.3590\n",
      "Train Accuracy EPOCH 23: 0.8810\n",
      "Valid Accuracy EPOCH 23: 0.8687\n"
     ]
    },
    {
     "name": "stderr",
     "output_type": "stream",
     "text": [
      " 77%|███████▋  | 23/30 [10:42<02:57, 25.36s/it]"
     ]
    },
    {
     "name": "stdout",
     "output_type": "stream",
     "text": [
      "Precision: 0.7219137929023328, Recall: 0.7042790227037132, F1 score: 0.7105540082938612\n",
      "------------------------------\n"
     ]
    },
    {
     "name": "stderr",
     "output_type": "stream",
     "text": [
      "100%|██████████| 93/93 [00:19<00:00,  4.83it/s]\n",
      "100%|██████████| 12/12 [00:01<00:00,  9.08it/s]\n"
     ]
    },
    {
     "name": "stdout",
     "output_type": "stream",
     "text": [
      "------------------------------\n",
      "Train Loss EPOCH 24: 0.3148\n",
      "Valid Loss EPOCH 24: 0.3591\n",
      "Train Accuracy EPOCH 24: 0.8789\n",
      "Valid Accuracy EPOCH 24: 0.8653\n"
     ]
    },
    {
     "name": "stderr",
     "output_type": "stream",
     "text": [
      " 80%|████████  | 24/30 [11:08<02:32, 25.48s/it]"
     ]
    },
    {
     "name": "stdout",
     "output_type": "stream",
     "text": [
      "Precision: 0.7278471984943223, Recall: 0.7075765423947635, F1 score: 0.7132808958688761\n",
      "------------------------------\n"
     ]
    },
    {
     "name": "stderr",
     "output_type": "stream",
     "text": [
      "100%|██████████| 93/93 [00:19<00:00,  4.70it/s]\n",
      "100%|██████████| 12/12 [00:01<00:00,  8.80it/s]\n"
     ]
    },
    {
     "name": "stdout",
     "output_type": "stream",
     "text": [
      "------------------------------\n",
      "Train Loss EPOCH 25: 0.3082\n",
      "Valid Loss EPOCH 25: 0.3566\n",
      "Train Accuracy EPOCH 25: 0.8800\n",
      "Valid Accuracy EPOCH 25: 0.8694\n"
     ]
    },
    {
     "name": "stderr",
     "output_type": "stream",
     "text": [
      " 83%|████████▎ | 25/30 [11:35<02:08, 25.78s/it]"
     ]
    },
    {
     "name": "stdout",
     "output_type": "stream",
     "text": [
      "Precision: 0.7294340288042, Recall: 0.709841718474549, F1 score: 0.7157980120499302\n",
      "------------------------------\n"
     ]
    },
    {
     "name": "stderr",
     "output_type": "stream",
     "text": [
      "100%|██████████| 93/93 [00:20<00:00,  4.63it/s]\n",
      "100%|██████████| 12/12 [00:01<00:00,  6.52it/s]\n"
     ]
    },
    {
     "name": "stdout",
     "output_type": "stream",
     "text": [
      "------------------------------\n",
      "Train Loss EPOCH 26: 0.3144\n",
      "Valid Loss EPOCH 26: 0.3524\n",
      "Train Accuracy EPOCH 26: 0.8789\n",
      "Valid Accuracy EPOCH 26: 0.8695\n"
     ]
    },
    {
     "name": "stderr",
     "output_type": "stream",
     "text": [
      " 87%|████████▋ | 26/30 [12:03<01:46, 26.59s/it]"
     ]
    },
    {
     "name": "stdout",
     "output_type": "stream",
     "text": [
      "Precision: 0.7283105968870496, Recall: 0.7193073962001442, F1 score: 0.720057144720051\n",
      "------------------------------\n"
     ]
    },
    {
     "name": "stderr",
     "output_type": "stream",
     "text": [
      "100%|██████████| 93/93 [00:22<00:00,  4.08it/s]\n",
      "100%|██████████| 12/12 [00:01<00:00,  6.15it/s]\n"
     ]
    },
    {
     "name": "stdout",
     "output_type": "stream",
     "text": [
      "------------------------------\n",
      "Train Loss EPOCH 27: 0.3052\n",
      "Valid Loss EPOCH 27: 0.3584\n",
      "Train Accuracy EPOCH 27: 0.8818\n",
      "Valid Accuracy EPOCH 27: 0.8672\n"
     ]
    },
    {
     "name": "stderr",
     "output_type": "stream",
     "text": [
      " 90%|█████████ | 27/30 [12:34<01:23, 27.97s/it]"
     ]
    },
    {
     "name": "stdout",
     "output_type": "stream",
     "text": [
      "Precision: 0.723464911634158, Recall: 0.7112199632707144, F1 score: 0.7143629264074177\n",
      "------------------------------\n"
     ]
    },
    {
     "name": "stderr",
     "output_type": "stream",
     "text": [
      "100%|██████████| 93/93 [00:22<00:00,  4.18it/s]\n",
      "100%|██████████| 12/12 [00:01<00:00,  6.41it/s]\n"
     ]
    },
    {
     "name": "stdout",
     "output_type": "stream",
     "text": [
      "------------------------------\n",
      "Train Loss EPOCH 28: 0.3036\n",
      "Valid Loss EPOCH 28: 0.3653\n",
      "Train Accuracy EPOCH 28: 0.8817\n",
      "Valid Accuracy EPOCH 28: 0.8656\n"
     ]
    },
    {
     "name": "stderr",
     "output_type": "stream",
     "text": [
      " 93%|█████████▎| 28/30 [13:05<00:57, 28.79s/it]"
     ]
    },
    {
     "name": "stdout",
     "output_type": "stream",
     "text": [
      "Precision: 0.7344078144667792, Recall: 0.7082978607202493, F1 score: 0.7154369597627248\n",
      "------------------------------\n"
     ]
    },
    {
     "name": "stderr",
     "output_type": "stream",
     "text": [
      "100%|██████████| 93/93 [00:22<00:00,  4.18it/s]\n",
      "100%|██████████| 12/12 [00:01<00:00,  6.33it/s]\n"
     ]
    },
    {
     "name": "stdout",
     "output_type": "stream",
     "text": [
      "------------------------------\n",
      "Train Loss EPOCH 29: 0.2957\n",
      "Valid Loss EPOCH 29: 0.3610\n",
      "Train Accuracy EPOCH 29: 0.8843\n",
      "Valid Accuracy EPOCH 29: 0.8677\n"
     ]
    },
    {
     "name": "stderr",
     "output_type": "stream",
     "text": [
      " 97%|█████████▋| 29/30 [13:36<00:29, 29.40s/it]"
     ]
    },
    {
     "name": "stdout",
     "output_type": "stream",
     "text": [
      "Precision: 0.7335946025697664, Recall: 0.719114811390168, F1 score: 0.724317762340019\n",
      "------------------------------\n"
     ]
    },
    {
     "name": "stderr",
     "output_type": "stream",
     "text": [
      "100%|██████████| 93/93 [00:22<00:00,  4.18it/s]\n",
      "100%|██████████| 12/12 [00:02<00:00,  5.98it/s]\n"
     ]
    },
    {
     "name": "stdout",
     "output_type": "stream",
     "text": [
      "------------------------------\n",
      "Train Loss EPOCH 30: 0.2943\n",
      "Valid Loss EPOCH 30: 0.3510\n",
      "Train Accuracy EPOCH 30: 0.8850\n",
      "Valid Accuracy EPOCH 30: 0.8689\n"
     ]
    },
    {
     "name": "stderr",
     "output_type": "stream",
     "text": [
      "100%|██████████| 30/30 [14:08<00:00, 28.30s/it]"
     ]
    },
    {
     "name": "stdout",
     "output_type": "stream",
     "text": [
      "Precision: 0.7346680724927095, Recall: 0.714155293664385, F1 score: 0.7202556656135916\n",
      "------------------------------\n",
      "Training Time: 848.88s\n"
     ]
    },
    {
     "name": "stderr",
     "output_type": "stream",
     "text": [
      "\n"
     ]
    }
   ],
   "source": [
    "criterion = nn.CrossEntropyLoss()\n",
    "optimizer = optim.Adam(model.parameters(), betas=ADAM_BETAS, lr=LEARNING_RATE, weight_decay=ADAM_WEIGHT_DECAY)\n",
    "\n",
    "run = wandb.init(\n",
    "    project = \"DP\",\n",
    "    config={\n",
    "        \"learning_rate\": LEARNING_RATE,\n",
    "        \"architecture\": \"ViT\",\n",
    "        \"dataset\": \"UNSW-NB15-payload\",\n",
    "        \"epochs\": EPOCHS,\n",
    "    }\n",
    ")\n",
    "\n",
    "start = timeit.default_timer()\n",
    "for epoch in tqdm(range(EPOCHS), position=0, leave=True):\n",
    "    model.train()\n",
    "    train_labels = []\n",
    "    train_preds = []\n",
    "    train_running_loss = 0\n",
    "    for idx, (img, label) in enumerate(tqdm(train_dataloader, position=0, leave=True)):\n",
    "        img = img.float().to(device)\n",
    "        label = label.float().to(device)\n",
    "        y_pred = model(img)\n",
    "        y_pred_label = torch.argmax(y_pred, dim=1)\n",
    "\n",
    "        train_labels.extend(label.cpu().detach())\n",
    "        train_preds.extend(y_pred_label.cpu().detach())\n",
    "        \n",
    "        loss = criterion(y_pred, label)\n",
    "        \n",
    "        optimizer.zero_grad()\n",
    "        loss.backward()\n",
    "        optimizer.step()\n",
    "\n",
    "        train_running_loss += loss.item()\n",
    "    train_loss = train_running_loss / (idx + 1)\n",
    "\n",
    "    model.eval()\n",
    "    val_labels = []\n",
    "    val_preds = []\n",
    "    val_running_loss = 0\n",
    "    with torch.no_grad():\n",
    "        for idx, (img, label) in enumerate(tqdm(val_dataloader, position=0, leave=True)):\n",
    "            img = img.float().to(device)\n",
    "            label = label.float().to(device)         \n",
    "            y_pred = model(img)\n",
    "            y_pred_label = torch.argmax(y_pred, dim=1)\n",
    "            \n",
    "            val_labels.extend(label.cpu().detach())\n",
    "            val_preds.extend(y_pred_label.cpu().detach())\n",
    "            \n",
    "            loss = criterion(y_pred, label)\n",
    "            val_running_loss += loss.item()\n",
    "    val_loss = val_running_loss / (idx + 1)\n",
    "\n",
    "    print(\"-\"*30)\n",
    "    print(f\"Train Loss EPOCH {epoch+1}: {train_loss:.4f}\")\n",
    "    print(f\"Valid Loss EPOCH {epoch+1}: {val_loss:.4f}\")\n",
    "    train_accuracy = sum(1 for x,y in zip(train_preds, train_labels) if x == list(y).index(1.0)) / len(train_labels)\n",
    "    print(f\"Train Accuracy EPOCH {epoch+1}: {train_accuracy:.4f}\")\n",
    "    val_accuracy = sum(1 for x,y in zip(val_preds, val_labels) if x == list(y).index(1.0)) / len(val_labels)\n",
    "    print(f\"Valid Accuracy EPOCH {epoch+1}: {val_accuracy:.4f}\")\n",
    "    precision, recall, f1score = precision_recall_f1(train_preds, train_labels)\n",
    "    print(f\"Precision: {precision}, Recall: {recall}, F1 score: {f1score}\")\n",
    "    print(\"-\"*30)\n",
    "    wandb.log(\n",
    "        {\n",
    "            \"epoch\": epoch,\n",
    "            \"train_acc\": train_accuracy,\n",
    "            \"train_loss\": train_loss,\n",
    "            \"val_acc\": val_accuracy,\n",
    "            \"val_loss\": val_loss,\n",
    "            \"precision\": precision,\n",
    "            \"recall\": recall,\n",
    "            \"f1 score\": f1score\n",
    "        }\n",
    "    )\n",
    "\n",
    "\n",
    "stop = timeit.default_timer()\n",
    "print(f\"Training Time: {stop-start:.2f}s\")"
   ]
  },
  {
   "cell_type": "code",
   "execution_count": 18,
   "metadata": {},
   "outputs": [
    {
     "data": {
      "text/html": [],
      "text/plain": [
       "<IPython.core.display.HTML object>"
      ]
     },
     "metadata": {},
     "output_type": "display_data"
    },
    {
     "data": {
      "text/html": [
       "<br>    <style><br>        .wandb-row {<br>            display: flex;<br>            flex-direction: row;<br>            flex-wrap: wrap;<br>            justify-content: flex-start;<br>            width: 100%;<br>        }<br>        .wandb-col {<br>            display: flex;<br>            flex-direction: column;<br>            flex-basis: 100%;<br>            flex: 1;<br>            padding: 10px;<br>        }<br>    </style><br><div class=\"wandb-row\"><div class=\"wandb-col\"><h3>Run history:</h3><br/><table class=\"wandb\"><tr><td>epoch</td><td>▁▁▁▂▂▂▂▃▃▃▃▄▄▄▄▅▅▅▅▆▆▆▆▇▇▇▇███</td></tr><tr><td>f1 score</td><td>▁▄▅▅▆▆▆▆▇▇▇▇▇▇▇▇██▇███████████</td></tr><tr><td>precision</td><td>▁▄▆▆▆▆▇▆▇▇▇▇▇▇▇▇▇█▇█▇█████████</td></tr><tr><td>recall</td><td>▁▄▅▅▆▆▆▆▇▇▇▇▇█▇▇██▇███████████</td></tr><tr><td>train_acc</td><td>▁▆▆▆▇▇▇▇▇▇▇▇▇▇▇▇██████████████</td></tr><tr><td>train_loss</td><td>█▄▃▃▃▂▂▂▂▂▂▂▂▂▂▂▁▁▁▁▁▁▁▁▁▁▁▁▁▁</td></tr><tr><td>val_acc</td><td>▁▃▄▄▅▅▅▆▅▆▆▆▇▆▇▆▇▇▇▇███▇██▇▇██</td></tr><tr><td>val_loss</td><td>█▆▅▄▄▄▃▃▃▃▂▂▂▂▂▂▂▁▂▂▂▁▁▁▁▁▁▂▂▁</td></tr></table><br/></div><div class=\"wandb-col\"><h3>Run summary:</h3><br/><table class=\"wandb\"><tr><td>epoch</td><td>29</td></tr><tr><td>f1 score</td><td>0.72026</td></tr><tr><td>precision</td><td>0.73467</td></tr><tr><td>recall</td><td>0.71416</td></tr><tr><td>train_acc</td><td>0.88503</td></tr><tr><td>train_loss</td><td>0.29428</td></tr><tr><td>val_acc</td><td>0.86885</td></tr><tr><td>val_loss</td><td>0.35096</td></tr></table><br/></div></div>"
      ],
      "text/plain": [
       "<IPython.core.display.HTML object>"
      ]
     },
     "metadata": {},
     "output_type": "display_data"
    },
    {
     "data": {
      "text/html": [
       " View run <strong style=\"color:#cdcd00\">effortless-butterfly-14</strong> at: <a href='https://wandb.ai/vikioza/DP/runs/i3ozbple' target=\"_blank\">https://wandb.ai/vikioza/DP/runs/i3ozbple</a><br> View project at: <a href='https://wandb.ai/vikioza/DP' target=\"_blank\">https://wandb.ai/vikioza/DP</a><br>Synced 6 W&B file(s), 0 media file(s), 4 artifact file(s) and 0 other file(s)"
      ],
      "text/plain": [
       "<IPython.core.display.HTML object>"
      ]
     },
     "metadata": {},
     "output_type": "display_data"
    },
    {
     "data": {
      "text/html": [
       "Find logs at: <code>.\\wandb\\run-20241230_151526-i3ozbple\\logs</code>"
      ],
      "text/plain": [
       "<IPython.core.display.HTML object>"
      ]
     },
     "metadata": {},
     "output_type": "display_data"
    }
   ],
   "source": [
    "# Save as artifact for version control.\n",
    "torch.save(model.state_dict(), 'saved/model_test_2')\n",
    "artifact = wandb.Artifact('model_test_2', type='model')\n",
    "artifact.add_file('saved/model_test_2')\n",
    "run.log_artifact(artifact)\n",
    "run.finish()"
   ]
  }
 ],
 "metadata": {
  "kernelspec": {
   "display_name": "DP",
   "language": "python",
   "name": "python3"
  },
  "language_info": {
   "codemirror_mode": {
    "name": "ipython",
    "version": 3
   },
   "file_extension": ".py",
   "mimetype": "text/x-python",
   "name": "python",
   "nbconvert_exporter": "python",
   "pygments_lexer": "ipython3",
   "version": "3.11.7"
  }
 },
 "nbformat": 4,
 "nbformat_minor": 2
}
