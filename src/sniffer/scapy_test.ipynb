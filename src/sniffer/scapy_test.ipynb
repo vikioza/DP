{
 "cells": [
  {
   "cell_type": "code",
   "execution_count": 2,
   "metadata": {},
   "outputs": [],
   "source": [
    "import scapy.all as scp"
   ]
  },
  {
   "cell_type": "code",
   "execution_count": 3,
   "metadata": {},
   "outputs": [],
   "source": [
    "def packet_handler(packet):\n",
    "    print(packet.summary())"
   ]
  },
  {
   "cell_type": "code",
   "execution_count": 6,
   "metadata": {},
   "outputs": [
    {
     "data": {
      "text/plain": [
       "['{E4311A52-DABB-4A62-97EC-21BFE3942C0C}',\n",
       " '{D44A3E1C-7F04-411B-85B3-77C20BED2594}',\n",
       " '{8565BCF4-7A6E-4FAD-8174-E8427591649A}',\n",
       " '{5DBA821F-DC86-4EC5-A64F-5F3EE7D8AB91}',\n",
       " '{C3B36434-49E1-4D30-B5A4-AEDFD3C335A8}',\n",
       " '{36750E18-F750-42F3-8592-3300BADC4AF1}',\n",
       " '{D1A2B105-6722-4561-963C-45AC2406DA55}',\n",
       " '{DF2C237B-1A65-4456-B151-453568320CFC}',\n",
       " '\\\\Device\\\\NPF_Loopback',\n",
       " '{1C34172C-36A2-45AF-80EA-9B08F027BBC8}',\n",
       " '{9BEB39BA-4936-4E64-94D8-5821A49EA66A}',\n",
       " '{376EA6C6-1C42-416B-87FF-B9B4BCD015A6}']"
      ]
     },
     "execution_count": 6,
     "metadata": {},
     "output_type": "execute_result"
    }
   ],
   "source": [
    "scp.get_if_list()"
   ]
  },
  {
   "cell_type": "code",
   "execution_count": 7,
   "metadata": {},
   "outputs": [
    {
     "name": "stdout",
     "output_type": "stream",
     "text": [
      "Interface: {E4311A52-DABB-4A62-97EC-21BFE3942C0C}\n",
      "  MAC: \n",
      "  IP: \n",
      "Interface: {D44A3E1C-7F04-411B-85B3-77C20BED2594}\n",
      "  MAC: \n",
      "  IP: \n",
      "Interface: {8565BCF4-7A6E-4FAD-8174-E8427591649A}\n",
      "  MAC: \n",
      "  IP: \n",
      "Interface: {5DBA821F-DC86-4EC5-A64F-5F3EE7D8AB91}\n",
      "  MAC: 08:8e:90:8b:02:58\n",
      "  IP: 169.254.55.119\n",
      "Interface: {C3B36434-49E1-4D30-B5A4-AEDFD3C335A8}\n",
      "  MAC: 08:8e:90:8b:02:54\n",
      "  IP: 192.168.50.183\n",
      "Interface: {36750E18-F750-42F3-8592-3300BADC4AF1}\n",
      "  MAC: 0a:8e:90:8b:02:54\n",
      "  IP: 169.254.68.200\n",
      "Interface: {D1A2B105-6722-4561-963C-45AC2406DA55}\n",
      "  MAC: 08:8e:90:8b:02:55\n",
      "  IP: 169.254.5.126\n",
      "Interface: {DF2C237B-1A65-4456-B151-453568320CFC}\n",
      "  MAC: 00:15:5d:bc:dc:04\n",
      "  IP: 172.25.208.1\n",
      "Interface: \\Device\\NPF_Loopback\n",
      "  MAC: 00:00:00:00:00:00\n",
      "  IP: 127.0.0.1\n",
      "Interface: {1C34172C-36A2-45AF-80EA-9B08F027BBC8}\n",
      "  MAC: 6c:24:08:4f:b8:4f\n",
      "  IP: 192.168.0.123\n",
      "Interface: {9BEB39BA-4936-4E64-94D8-5821A49EA66A}\n",
      "  MAC: \n",
      "  IP: 169.254.167.156\n",
      "Interface: {376EA6C6-1C42-416B-87FF-B9B4BCD015A6}\n",
      "  MAC: \n",
      "  IP: 169.254.108.144\n"
     ]
    }
   ],
   "source": [
    "for iface in scp.conf.ifaces:\n",
    "    print(f\"Interface: {iface}\")\n",
    "    print(f\"  MAC: {scp.conf.ifaces[iface].mac}\")\n",
    "    print(f\"  IP: {scp.conf.ifaces[iface].ip}\")"
   ]
  },
  {
   "cell_type": "code",
   "execution_count": 4,
   "metadata": {},
   "outputs": [
    {
     "data": {
      "text/plain": [
       "ValuesView(Source   Index  Name                                       MAC                IPv4             IPv6                     \n",
       "libpcap  1      Software Loopback Interface 1              00:00:00:00:00:00  127.0.0.1        ::1                      \n",
       "libpcap  12     Bluetooth Device (Personal Area Network)   08:8e:90:8b:02:58  169.254.55.119   fe80::f85a:c3ac:4f6f:1be2\n",
       "libpcap  13     WAN Miniport (IP)                                                                                       \n",
       "libpcap  17     OpenVPN Data Channel Offload                                  169.254.167.156  fe80::2819:7b5:50e9:2a03 \n",
       "libpcap  18     Intel(R) Wi-Fi 6E AX211 160MHz             08:8e:90:8b:02:54  192.168.50.183   fe80::349c:7645:86:1ec1  \n",
       "libpcap  19     Microsoft Wi-Fi Direct Virtual Adapter     08:8e:90:8b:02:55  169.254.5.126    fe80::e5ea:c84d:510f:1e55\n",
       "libpcap  20     WAN Miniport (IPv6)                                                                                     \n",
       "libpcap  21     WAN Miniport (Network Monitor)                                                                          \n",
       "libpcap  3      Realtek PCIe GbE Family Controller         6c:24:08:4f:b8:4f  192.168.0.123    fe80::a98e:1dd:df28:9d8  \n",
       "libpcap  45     Hyper-V Virtual Ethernet Adapter           00:15:5d:bc:dc:04  172.25.208.1     fe80::ccd1:bae4:22a5:d770\n",
       "libpcap  8      Microsoft Wi-Fi Direct Virtual Adapter #2  0a:8e:90:8b:02:54  169.254.68.200   fe80::9cf6:5c47:bc9d:8e04\n",
       "libpcap  9      Wintun Userspace Tunnel                                       169.254.108.144  fe80::263f:696f:1c71:3d3d)"
      ]
     },
     "execution_count": 4,
     "metadata": {},
     "output_type": "execute_result"
    }
   ],
   "source": [
    "scp.ifaces.values()"
   ]
  },
  {
   "cell_type": "code",
   "execution_count": 10,
   "metadata": {},
   "outputs": [
    {
     "ename": "AttributeError",
     "evalue": "'set' object has no attribute 'encode'",
     "output_type": "error",
     "traceback": [
      "\u001b[1;31m---------------------------------------------------------------------------\u001b[0m",
      "\u001b[1;31mAttributeError\u001b[0m                            Traceback (most recent call last)",
      "Cell \u001b[1;32mIn[10], line 1\u001b[0m\n\u001b[1;32m----> 1\u001b[0m \u001b[43mscp\u001b[49m\u001b[38;5;241;43m.\u001b[39;49m\u001b[43msniff\u001b[49m\u001b[43m(\u001b[49m\u001b[43mprn\u001b[49m\u001b[38;5;241;43m=\u001b[39;49m\u001b[43mpacket_handler\u001b[49m\u001b[43m,\u001b[49m\u001b[43m \u001b[49m\u001b[43miface\u001b[49m\u001b[38;5;241;43m=\u001b[39;49m\u001b[43m{\u001b[49m\u001b[38;5;124;43m'\u001b[39;49m\u001b[38;5;124;43mC3B36434-49E1-4D30-B5A4-AEDFD3C335A8\u001b[39;49m\u001b[38;5;124;43m'\u001b[39;49m\u001b[43m}\u001b[49m\u001b[43m,\u001b[49m\u001b[43m \u001b[49m\u001b[43mcount\u001b[49m\u001b[43m \u001b[49m\u001b[38;5;241;43m=\u001b[39;49m\u001b[43m \u001b[49m\u001b[38;5;241;43m10\u001b[39;49m\u001b[43m)\u001b[49m\n",
      "File \u001b[1;32mc:\\Users\\vikio\\anaconda3\\envs\\DP\\Lib\\site-packages\\scapy\\sendrecv.py:1311\u001b[0m, in \u001b[0;36msniff\u001b[1;34m(*args, **kwargs)\u001b[0m\n\u001b[0;32m   1307\u001b[0m \u001b[38;5;129m@conf\u001b[39m\u001b[38;5;241m.\u001b[39mcommands\u001b[38;5;241m.\u001b[39mregister\n\u001b[0;32m   1308\u001b[0m \u001b[38;5;28;01mdef\u001b[39;00m \u001b[38;5;21msniff\u001b[39m(\u001b[38;5;241m*\u001b[39margs, \u001b[38;5;241m*\u001b[39m\u001b[38;5;241m*\u001b[39mkwargs):\n\u001b[0;32m   1309\u001b[0m     \u001b[38;5;66;03m# type: (*Any, **Any) -> PacketList\u001b[39;00m\n\u001b[0;32m   1310\u001b[0m     sniffer \u001b[38;5;241m=\u001b[39m AsyncSniffer()\n\u001b[1;32m-> 1311\u001b[0m     \u001b[43msniffer\u001b[49m\u001b[38;5;241;43m.\u001b[39;49m\u001b[43m_run\u001b[49m\u001b[43m(\u001b[49m\u001b[38;5;241;43m*\u001b[39;49m\u001b[43margs\u001b[49m\u001b[43m,\u001b[49m\u001b[43m \u001b[49m\u001b[38;5;241;43m*\u001b[39;49m\u001b[38;5;241;43m*\u001b[39;49m\u001b[43mkwargs\u001b[49m\u001b[43m)\u001b[49m\n\u001b[0;32m   1312\u001b[0m     \u001b[38;5;28;01mreturn\u001b[39;00m cast(PacketList, sniffer\u001b[38;5;241m.\u001b[39mresults)\n",
      "File \u001b[1;32mc:\\Users\\vikio\\anaconda3\\envs\\DP\\Lib\\site-packages\\scapy\\sendrecv.py:1171\u001b[0m, in \u001b[0;36mAsyncSniffer._run\u001b[1;34m(self, count, store, offline, quiet, prn, lfilter, L2socket, timeout, opened_socket, stop_filter, iface, started_callback, session, session_kwargs, **karg)\u001b[0m\n\u001b[0;32m   1169\u001b[0m     \u001b[38;5;28;01melse\u001b[39;00m:\n\u001b[0;32m   1170\u001b[0m         iface \u001b[38;5;241m=\u001b[39m iface \u001b[38;5;129;01mor\u001b[39;00m conf\u001b[38;5;241m.\u001b[39miface\n\u001b[1;32m-> 1171\u001b[0m         sniff_sockets[\u001b[43m_RL2\u001b[49m\u001b[43m(\u001b[49m\u001b[43miface\u001b[49m\u001b[43m)\u001b[49m\u001b[43m(\u001b[49m\u001b[38;5;28;43mtype\u001b[39;49m\u001b[38;5;241;43m=\u001b[39;49m\u001b[43mETH_P_ALL\u001b[49m\u001b[43m,\u001b[49m\u001b[43m \u001b[49m\u001b[43miface\u001b[49m\u001b[38;5;241;43m=\u001b[39;49m\u001b[43miface\u001b[49m\u001b[43m,\u001b[49m\n\u001b[0;32m   1172\u001b[0m \u001b[43m                                  \u001b[49m\u001b[38;5;241;43m*\u001b[39;49m\u001b[38;5;241;43m*\u001b[39;49m\u001b[43mkarg\u001b[49m\u001b[43m)\u001b[49m] \u001b[38;5;241m=\u001b[39m iface\n\u001b[0;32m   1174\u001b[0m \u001b[38;5;66;03m# Get select information from the sockets\u001b[39;00m\n\u001b[0;32m   1175\u001b[0m _main_socket \u001b[38;5;241m=\u001b[39m \u001b[38;5;28mnext\u001b[39m(\u001b[38;5;28miter\u001b[39m(sniff_sockets))\n",
      "File \u001b[1;32mc:\\Users\\vikio\\anaconda3\\envs\\DP\\Lib\\site-packages\\scapy\\arch\\libpcap.py:481\u001b[0m, in \u001b[0;36mL2pcapListenSocket.__init__\u001b[1;34m(self, iface, type, promisc, filter, monitor)\u001b[0m\n\u001b[0;32m    479\u001b[0m \u001b[38;5;28;01melse\u001b[39;00m:\n\u001b[0;32m    480\u001b[0m     \u001b[38;5;28mself\u001b[39m\u001b[38;5;241m.\u001b[39mpromisc \u001b[38;5;241m=\u001b[39m conf\u001b[38;5;241m.\u001b[39msniff_promisc\n\u001b[1;32m--> 481\u001b[0m fd \u001b[38;5;241m=\u001b[39m \u001b[43mopen_pcap\u001b[49m\u001b[43m(\u001b[49m\n\u001b[0;32m    482\u001b[0m \u001b[43m    \u001b[49m\u001b[43miface\u001b[49m\u001b[43m,\u001b[49m\u001b[43m \u001b[49m\u001b[43mMTU\u001b[49m\u001b[43m,\u001b[49m\u001b[43m \u001b[49m\u001b[38;5;28;43mself\u001b[39;49m\u001b[38;5;241;43m.\u001b[39;49m\u001b[43mpromisc\u001b[49m\u001b[43m,\u001b[49m\u001b[43m \u001b[49m\u001b[38;5;241;43m100\u001b[39;49m\u001b[43m,\u001b[49m\n\u001b[0;32m    483\u001b[0m \u001b[43m    \u001b[49m\u001b[43mmonitor\u001b[49m\u001b[38;5;241;43m=\u001b[39;49m\u001b[43mmonitor\u001b[49m\n\u001b[0;32m    484\u001b[0m \u001b[43m\u001b[49m\u001b[43m)\u001b[49m\n\u001b[0;32m    485\u001b[0m \u001b[38;5;28msuper\u001b[39m(L2pcapListenSocket, \u001b[38;5;28mself\u001b[39m)\u001b[38;5;241m.\u001b[39m\u001b[38;5;21m__init__\u001b[39m(fd)\n\u001b[0;32m    486\u001b[0m \u001b[38;5;28;01mtry\u001b[39;00m:\n",
      "File \u001b[1;32mc:\\Users\\vikio\\anaconda3\\envs\\DP\\Lib\\site-packages\\scapy\\arch\\windows\\__init__.py:770\u001b[0m, in \u001b[0;36mopen_pcap\u001b[1;34m(iface, *args, **kargs)\u001b[0m\n\u001b[0;32m    766\u001b[0m     \u001b[38;5;28;01mif\u001b[39;00m kw_monitor \u001b[38;5;129;01mis\u001b[39;00m \u001b[38;5;129;01mnot\u001b[39;00m monitored:\n\u001b[0;32m    767\u001b[0m         \u001b[38;5;66;03m# The monitor param is specified, and not matching the current\u001b[39;00m\n\u001b[0;32m    768\u001b[0m         \u001b[38;5;66;03m# interface state\u001b[39;00m\n\u001b[0;32m    769\u001b[0m         iface\u001b[38;5;241m.\u001b[39msetmonitor(kw_monitor)\n\u001b[1;32m--> 770\u001b[0m \u001b[38;5;28;01mreturn\u001b[39;00m \u001b[43m_orig_open_pcap\u001b[49m\u001b[43m(\u001b[49m\u001b[43miface_network_name\u001b[49m\u001b[43m,\u001b[49m\u001b[43m \u001b[49m\u001b[38;5;241;43m*\u001b[39;49m\u001b[43margs\u001b[49m\u001b[43m,\u001b[49m\u001b[43m \u001b[49m\u001b[38;5;241;43m*\u001b[39;49m\u001b[38;5;241;43m*\u001b[39;49m\u001b[43mkargs\u001b[49m\u001b[43m)\u001b[49m\n",
      "File \u001b[1;32mc:\\Users\\vikio\\anaconda3\\envs\\DP\\Lib\\site-packages\\scapy\\arch\\libpcap.py:283\u001b[0m, in \u001b[0;36m_PcapWrapper_libpcap.__init__\u001b[1;34m(self, device, snaplen, promisc, to_ms, monitor)\u001b[0m\n\u001b[0;32m    273\u001b[0m \u001b[38;5;28;01mdef\u001b[39;00m \u001b[38;5;21m__init__\u001b[39m(\u001b[38;5;28mself\u001b[39m,\n\u001b[0;32m    274\u001b[0m              device,  \u001b[38;5;66;03m# type: _GlobInterfaceType\u001b[39;00m\n\u001b[0;32m    275\u001b[0m              snaplen,  \u001b[38;5;66;03m# type: int\u001b[39;00m\n\u001b[1;32m   (...)\u001b[0m\n\u001b[0;32m    279\u001b[0m              ):\n\u001b[0;32m    280\u001b[0m     \u001b[38;5;66;03m# type: (...) -> None\u001b[39;00m\n\u001b[0;32m    281\u001b[0m     \u001b[38;5;28mself\u001b[39m\u001b[38;5;241m.\u001b[39merrbuf \u001b[38;5;241m=\u001b[39m create_string_buffer(PCAP_ERRBUF_SIZE)\n\u001b[0;32m    282\u001b[0m     \u001b[38;5;28mself\u001b[39m\u001b[38;5;241m.\u001b[39miface \u001b[38;5;241m=\u001b[39m create_string_buffer(\n\u001b[1;32m--> 283\u001b[0m         \u001b[43mnetwork_name\u001b[49m\u001b[43m(\u001b[49m\u001b[43mdevice\u001b[49m\u001b[43m)\u001b[49m\u001b[38;5;241;43m.\u001b[39;49m\u001b[43mencode\u001b[49m(\u001b[38;5;124m\"\u001b[39m\u001b[38;5;124mutf8\u001b[39m\u001b[38;5;124m\"\u001b[39m)\n\u001b[0;32m    284\u001b[0m     )\n\u001b[0;32m    285\u001b[0m     \u001b[38;5;28mself\u001b[39m\u001b[38;5;241m.\u001b[39mdtl \u001b[38;5;241m=\u001b[39m \u001b[38;5;241m-\u001b[39m\u001b[38;5;241m1\u001b[39m\n\u001b[0;32m    286\u001b[0m     \u001b[38;5;28;01mif\u001b[39;00m monitor:\n",
      "\u001b[1;31mAttributeError\u001b[0m: 'set' object has no attribute 'encode'"
     ]
    }
   ],
   "source": [
    "scp.sniff(prn=packet_handler, iface={'C3B36434-49E1-4D30-B5A4-AEDFD3C335A8'}, count = 10)"
   ]
  }
 ],
 "metadata": {
  "kernelspec": {
   "display_name": "DP",
   "language": "python",
   "name": "python3"
  },
  "language_info": {
   "codemirror_mode": {
    "name": "ipython",
    "version": 3
   },
   "file_extension": ".py",
   "mimetype": "text/x-python",
   "name": "python",
   "nbconvert_exporter": "python",
   "pygments_lexer": "ipython3",
   "version": "3.11.7"
  }
 },
 "nbformat": 4,
 "nbformat_minor": 2
}
